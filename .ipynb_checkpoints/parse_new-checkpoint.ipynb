{
 "cells": [
  {
   "cell_type": "code",
   "execution_count": 1,
   "id": "8992f204",
   "metadata": {},
   "outputs": [],
   "source": [
    "import numpy as np\n",
    "import json\n",
    "import seaborn as sns\n",
    "from matplotlib import pyplot as plt\n",
    "import pandas as pd\n",
    "from scipy import stats\n",
    "from os.path import exists\n",
    "import os\n",
    "from tqdm import tqdm\n",
    "from itertools import combinations, product\n",
    "\n",
    "\n",
    "from concurrent.futures import ProcessPoolExecutor\n",
    "import os\n",
    "import mmap\n",
    "import ast\n"
   ]
  },
  {
   "cell_type": "code",
   "execution_count": 2,
   "id": "d371a5f9",
   "metadata": {},
   "outputs": [],
   "source": [
    "def process_directory(directory, obs_dict):\n",
    "    filenames = [f for f in os.listdir(directory) if f.startswith('rtt')]\n",
    "    for path in tqdm(filenames):\n",
    "        path_st = path.replace('rtt', 'state')\n",
    "        collect_data_per_txt_with_approx(\n",
    "            os.path.join(directory, path),\n",
    "            os.path.join(directory, path_st), \n",
    "            obs_dict\n",
    "        )"
   ]
  },
  {
   "cell_type": "code",
   "execution_count": 25,
   "id": "4ac63872",
   "metadata": {},
   "outputs": [],
   "source": [
    "def collect_data_txt():\n",
    "    obs_dict = [{}, {}, {}, {}, {}, {}, {}, {}, {}, {}]\n",
    "    directories = ['control/data_pid/1_loop', 'control/data_pid/2_loop', 'control/data_pid/3_loop', 'control/data_pid/4_loop', 'control/data_pid/5_loop']#, 'dataset/data_corrected/datar5/']\n",
    "    directories = ['control/data_lqg/1_loop', 'control/data_lqg/2_loop', 'control/data_lqg/3_loop', 'control/data_lqg/4_loop']#, 'dataset/data_corrected/datar5/']\n",
    "\n",
    "    \n",
    "    for directory in directories:\n",
    "        filenames = [f for f in os.listdir(directory) if f.startswith('rtt')]\n",
    "        cnt = 0\n",
    "        for path in tqdm(filenames):\n",
    "            cnt += 1\n",
    "            path_st = path.replace('rtt', 'state')\n",
    "            # Create a copy of the dictionary for each file processing\n",
    "            local_dict = [{k: v.copy() for k, v in d.items()} for d in obs_dict]\n",
    "            collect_data_per_txt_with_approx(\n",
    "                os.path.join(directory, path),\n",
    "                os.path.join(directory, path_st), \n",
    "                local_dict\n",
    "            )\n",
    "            # Update the main dictionary after processing\n",
    "            for i in range(len(obs_dict)):\n",
    "                obs_dict[i].update(local_dict[i])\n",
    "            if cnt == 1000:\n",
    "                break\n",
    "    \n",
    "    return obs_dict"
   ]
  },
  {
   "cell_type": "code",
   "execution_count": 4,
   "id": "6558691f",
   "metadata": {},
   "outputs": [],
   "source": [
    "N_acceptance = 10"
   ]
  },
  {
   "cell_type": "code",
   "execution_count": 19,
   "id": "8be3dd60",
   "metadata": {},
   "outputs": [],
   "source": [
    "\n",
    "            \n",
    "def collect_data_per_txt_with_approx(path_rtt, path_state, obs_dict):\n",
    "    # Read the files using numpy's genfromtxt for more efficient reading\n",
    "    data_rtt = np.genfromtxt(path_rtt, delimiter=', ', dtype=float)\n",
    "    data_state = np.genfromtxt(path_state, delimiter=', ', dtype=float)\n",
    "\n",
    "    # Vectorize the acceptance calculation\n",
    "    acceptances = []\n",
    "    states = []\n",
    "    bws = []\n",
    "    for t in range(len(data_rtt) - N_acceptance):\n",
    "        lst = data_rtt[t:t+N_acceptance]\n",
    "\n",
    "        acc = np.where(lst == 0, 0, \n",
    "              np.where((lst > 10 * (N_acceptance - np.arange(N_acceptance))) | \n",
    "                      ((lst == -1)), 4,\n",
    "                      np.where(lst == -1, 2, 1)))\n",
    "        acceptances.append(acc.astype(np.int32))\n",
    "        \n",
    "    for t in range(N_acceptance + 1, len(data_rtt)):\n",
    "        lst = data_rtt[max(0, t - 100):t]\n",
    "      #  acc = np.where(lst == 0, 0, \n",
    "       #               np.where((lst > 10 * (N_acceptance - np.arange(N_acceptance))) | \n",
    "        #                      ((lst == -1)), 4))\n",
    "        sum_data = np.sum(np.array(lst) > 0)\n",
    "        sum_delay = np.sum(np.array(lst)[np.where(np.array(lst) > 0)])\n",
    "        #print(sum_data, sum_delay, np.round(sum_data/sum_delay*100))\n",
    "        if sum_delay:\n",
    "            bws.append(np.round(sum_data/sum_delay*100))\n",
    "        else:\n",
    "            bws.append(0)\n",
    "   # print(acceptances)\n",
    "    # Vectorize state processing\n",
    "    states = np.clip(data_state[N_acceptance + 1:], -2000, 2000).astype(np.float16)\n",
    "\n",
    "    # Process dictionary updates\n",
    "    for t in range(min(len(acceptances), len(states))-1):\n",
    "        if 0.0 not in states[t-10:t+1]:\n",
    "            key = str(list(acceptances[t])[-10:] + [quantize_to_grid(states[t])] + [bws[t]])\n",
    "            val = str(list(acceptances[t+1]) + [quantize_to_grid(states[t+1])] + [bws[t+1]])\n",
    "            if states[t+1] == 0:\n",
    "                print(val)\n",
    "            \n",
    "            if key not in obs_dict[9]:\n",
    "                obs_dict[9][key] = []\n",
    "            obs_dict[9][key].append(val)\n",
    "            #print(key, val)\n",
    "            key = str(list(acceptances[t])[-9:] + [quantize_to_grid(states[t])] + [bws[t]])\n",
    "            if key not in obs_dict[8]:\n",
    "                obs_dict[8][key] = []\n",
    "            obs_dict[8][key].append(val)"
   ]
  },
  {
   "cell_type": "code",
   "execution_count": 7,
   "id": "46e3ac50",
   "metadata": {},
   "outputs": [],
   "source": [
    "def quantize_to_grid(number):\n",
    "    # Define the grid for numbers up to 600\n",
    "    grid = [0.0, 0.1, 0.2, 0.3, 0.4, 0.5, 0.6, 0.7, 0.8, 0.9, 1.0,\n",
    "            1.2, 1.4, 1.7, 2.0, 2.5, 3.0, 3.5, 4.0, 4.5, 5.0, 5.5, 6.0, 6.5, 7.0, 7.5, 8.0, 8.5, 9.0, 9.5, 10,\n",
    "            12, 15, 20, 25, 30, 40, 50, 60, 70, 80, 90, 100,\n",
    "            120, 150, 200, 250, 300, 350, 400, 450, 500, 600]\n",
    "    \n",
    "    # Handle negative numbers\n",
    "    if number < 0:\n",
    "        return -quantize_to_grid(abs(number))\n",
    "    \n",
    "    # For numbers larger than 600, round to nearest hundred\n",
    "    if number > 600:\n",
    "        return np.round(round(number / 100) * 100, 1)\n",
    "    if number == 0:\n",
    "        return 2000\n",
    "    \n",
    "    # Find the closest value in the grid\n",
    "    return min(grid, key=lambda x: abs(x - number))"
   ]
  },
  {
   "cell_type": "code",
   "execution_count": 26,
   "id": "632e41b7",
   "metadata": {
    "scrolled": false
   },
   "outputs": [
    {
     "name": "stderr",
     "output_type": "stream",
     "text": [
      "100%|███████████████████████████████████████████| 30/30 [00:51<00:00,  1.73s/it]\n",
      "100%|███████████████████████████████████████████| 20/20 [00:38<00:00,  1.92s/it]\n",
      "100%|███████████████████████████████████████████| 30/30 [00:59<00:00,  1.99s/it]\n",
      "100%|███████████████████████████████████████████| 40/40 [01:40<00:00,  2.51s/it]\n"
     ]
    }
   ],
   "source": [
    "collected = collect_data_txt()"
   ]
  },
  {
   "cell_type": "code",
   "execution_count": null,
   "id": "23ee1b0a",
   "metadata": {
    "scrolled": true
   },
   "outputs": [
    {
     "name": "stderr",
     "output_type": "stream",
     "text": [
      "  1%|          | 10/1500 [00:11<26:16,  1.06s/it]"
     ]
    },
    {
     "name": "stdout",
     "output_type": "stream",
     "text": [
      "[0, 0, 0, 0, 0, 0, 0, 0, 0, 0, 2000]\n"
     ]
    },
    {
     "name": "stderr",
     "output_type": "stream",
     "text": [
      "  1%|          | 17/1500 [00:18<27:45,  1.12s/it]"
     ]
    },
    {
     "name": "stdout",
     "output_type": "stream",
     "text": [
      "[0, 0, 0, 0, 0, 4, 0, 0, 0, 0, 2000]\n"
     ]
    },
    {
     "name": "stderr",
     "output_type": "stream",
     "text": [
      "  2%|▏         | 23/1500 [00:25<28:07,  1.14s/it]"
     ]
    },
    {
     "name": "stdout",
     "output_type": "stream",
     "text": [
      "[0, 0, 0, 0, 0, 0, 0, 0, 0, 0, 2000]\n"
     ]
    },
    {
     "name": "stderr",
     "output_type": "stream",
     "text": [
      "  2%|▏         | 26/1500 [00:29<30:01,  1.22s/it]"
     ]
    },
    {
     "name": "stdout",
     "output_type": "stream",
     "text": [
      "[0, 0, 0, 0, 0, 0, 0, 0, 0, 0, 2000]\n"
     ]
    },
    {
     "name": "stderr",
     "output_type": "stream",
     "text": [
      "  2%|▏         | 31/1500 [00:35<32:53,  1.34s/it]"
     ]
    },
    {
     "name": "stdout",
     "output_type": "stream",
     "text": [
      "[0, 0, 0, 0, 0, 0, 0, 0, 0, 0, 2000]\n"
     ]
    },
    {
     "name": "stderr",
     "output_type": "stream",
     "text": [
      "  2%|▏         | 37/1500 [00:42<28:32,  1.17s/it]"
     ]
    },
    {
     "name": "stdout",
     "output_type": "stream",
     "text": [
      "[0, 0, 0, 0, 0, 0, 0, 0, 0, 0, 2000]\n"
     ]
    },
    {
     "name": "stderr",
     "output_type": "stream",
     "text": [
      "\r",
      "  3%|▎         | 38/1500 [00:43<26:50,  1.10s/it]"
     ]
    },
    {
     "name": "stdout",
     "output_type": "stream",
     "text": [
      "[0, 0, 0, 0, 0, 0, 0, 0, 0, 0, 2000]\n"
     ]
    },
    {
     "name": "stderr",
     "output_type": "stream",
     "text": [
      "  3%|▎         | 41/1500 [00:47<30:22,  1.25s/it]"
     ]
    },
    {
     "name": "stdout",
     "output_type": "stream",
     "text": [
      "[0, 0, 0, 0, 0, 0, 0, 0, 0, 0, 2000]\n",
      "[0, 0, 0, 0, 0, 0, 0, 0, 0, 0, 2000]\n"
     ]
    },
    {
     "name": "stderr",
     "output_type": "stream",
     "text": [
      "\r",
      "  3%|▎         | 42/1500 [00:48<28:09,  1.16s/it]"
     ]
    },
    {
     "name": "stdout",
     "output_type": "stream",
     "text": [
      "[0, 0, 0, 4, 0, 4, 0, 0, 0, 0, 2000]\n"
     ]
    },
    {
     "name": "stderr",
     "output_type": "stream",
     "text": [
      "  3%|▎         | 48/1500 [00:55<26:49,  1.11s/it]"
     ]
    },
    {
     "name": "stdout",
     "output_type": "stream",
     "text": [
      "[0, 0, 0, 0, 0, 4, 0, 0, 0, 0, 2000]\n"
     ]
    },
    {
     "name": "stderr",
     "output_type": "stream",
     "text": [
      "  4%|▎         | 55/1500 [01:04<30:52,  1.28s/it]"
     ]
    },
    {
     "name": "stdout",
     "output_type": "stream",
     "text": [
      "[0, 0, 0, 0, 4, 0, 0, 0, 0, 0, 2000]\n"
     ]
    },
    {
     "name": "stderr",
     "output_type": "stream",
     "text": [
      "  4%|▍         | 57/1500 [01:06<30:50,  1.28s/it]"
     ]
    },
    {
     "name": "stdout",
     "output_type": "stream",
     "text": [
      "[0, 0, 0, 0, 0, 0, 0, 0, 0, 4, 2000]\n"
     ]
    },
    {
     "name": "stderr",
     "output_type": "stream",
     "text": [
      "\r",
      "  4%|▍         | 58/1500 [01:07<28:39,  1.19s/it]"
     ]
    },
    {
     "name": "stdout",
     "output_type": "stream",
     "text": [
      "[4, 0, 4, 4, 4, 4, 0, 4, 4, 4, 2000]\n",
      "[0, 0, 0, 0, 0, 0, 0, 0, 0, 0, 2000]\n"
     ]
    },
    {
     "name": "stderr",
     "output_type": "stream",
     "text": [
      "  4%|▍         | 62/1500 [01:12<28:53,  1.21s/it]"
     ]
    },
    {
     "name": "stdout",
     "output_type": "stream",
     "text": [
      "[0, 0, 0, 0, 0, 0, 0, 0, 0, 0, 2000]\n"
     ]
    },
    {
     "name": "stderr",
     "output_type": "stream",
     "text": [
      "\r",
      "  4%|▍         | 63/1500 [01:13<27:22,  1.14s/it]"
     ]
    },
    {
     "name": "stdout",
     "output_type": "stream",
     "text": [
      "[0, 4, 0, 0, 0, 4, 4, 4, 0, 0, 2000]\n",
      "[4, 4, 0, 4, 0, 4, 4, 4, 4, 4, 2000]\n",
      "[4, 4, 0, 0, 4, 4, 0, 0, 4, 0, 2000]\n"
     ]
    },
    {
     "name": "stderr",
     "output_type": "stream",
     "text": [
      "\r",
      "  4%|▍         | 64/1500 [01:15<29:16,  1.22s/it]"
     ]
    },
    {
     "name": "stdout",
     "output_type": "stream",
     "text": [
      "[0, 0, 4, 0, 4, 0, 0, 0, 0, 0, 2000]\n",
      "[0, 4, 0, 0, 0, 4, 0, 0, 4, 0, 2000]\n"
     ]
    },
    {
     "name": "stderr",
     "output_type": "stream",
     "text": [
      "  4%|▍         | 66/1500 [01:17<29:27,  1.23s/it]"
     ]
    },
    {
     "name": "stdout",
     "output_type": "stream",
     "text": [
      "[0, 0, 0, 0, 0, 0, 0, 4, 0, 0, 2000]\n"
     ]
    },
    {
     "name": "stderr",
     "output_type": "stream",
     "text": [
      "\r",
      "  4%|▍         | 67/1500 [01:19<31:45,  1.33s/it]"
     ]
    },
    {
     "name": "stdout",
     "output_type": "stream",
     "text": [
      "[4, 0, 0, 0, 0, 0, 0, 0, 0, 0, 2000]\n"
     ]
    },
    {
     "name": "stderr",
     "output_type": "stream",
     "text": [
      "\r",
      "  5%|▍         | 68/1500 [01:20<29:16,  1.23s/it]"
     ]
    },
    {
     "name": "stdout",
     "output_type": "stream",
     "text": [
      "[4, 0, 4, 0, 0, 0, 0, 0, 4, 0, 2000]\n",
      "[0, 0, 0, 0, 0, 0, 4, 4, 0, 0, 2000]\n"
     ]
    },
    {
     "name": "stderr",
     "output_type": "stream",
     "text": [
      "\r",
      "  5%|▍         | 69/1500 [01:21<27:08,  1.14s/it]"
     ]
    },
    {
     "name": "stdout",
     "output_type": "stream",
     "text": [
      "[4, 0, 0, 0, 0, 0, 0, 0, 0, 0, 2000]\n"
     ]
    },
    {
     "name": "stderr",
     "output_type": "stream",
     "text": [
      "\r",
      "  5%|▍         | 70/1500 [01:22<30:01,  1.26s/it]"
     ]
    },
    {
     "name": "stdout",
     "output_type": "stream",
     "text": [
      "[4, 0, 0, 0, 0, 4, 4, 0, 4, 4, 2000]\n",
      "[0, 4, 0, 4, 4, 4, 4, 0, 0, 0, 2000]\n",
      "[4, 4, 4, 4, 4, 4, 4, 4, 4, 4, 2000]\n",
      "[4, 0, 0, 4, 0, 4, 0, 4, 4, 0, 2000]\n",
      "[4, 0, 0, 4, 0, 4, 4, 4, 0, 4, 2000]\n",
      "[4, 0, 0, 4, 4, 4, 4, 4, 0, 0, 2000]\n"
     ]
    },
    {
     "name": "stderr",
     "output_type": "stream",
     "text": [
      "  6%|▌         | 92/1500 [01:51<33:13,  1.42s/it]"
     ]
    },
    {
     "name": "stdout",
     "output_type": "stream",
     "text": [
      "[0, 0, 0, 0, 0, 0, 0, 0, 0, 0, 2000]\n"
     ]
    },
    {
     "name": "stderr",
     "output_type": "stream",
     "text": [
      "  6%|▋         | 97/1500 [01:58<29:52,  1.28s/it]"
     ]
    },
    {
     "name": "stdout",
     "output_type": "stream",
     "text": [
      "[4, 0, 4, 4, 0, 4, 0, 0, 4, 0, 2000]\n",
      "[0, 0, 0, 0, 0, 0, 0, 0, 0, 0, 2000]\n",
      "[0, 0, 4, 0, 4, 4, 4, 4, 0, 4, 2000]\n",
      "[4, 4, 0, 4, 0, 0, 4, 4, 0, 4, 2000]\n",
      "[0, 0, 0, 4, 0, 0, 4, 4, 0, 0, 2000]\n",
      "[0, 0, 0, 0, 0, 0, 0, 0, 0, 0, 2000]\n",
      "[4, 0, 4, 0, 4, 4, 4, 4, 4, 4, 2000]\n",
      "[0, 4, 0, 0, 0, 0, 0, 0, 0, 4, 2000]\n"
     ]
    },
    {
     "name": "stderr",
     "output_type": "stream",
     "text": [
      "  7%|▋         | 104/1500 [02:07<30:02,  1.29s/it]"
     ]
    },
    {
     "name": "stdout",
     "output_type": "stream",
     "text": [
      "[0, 0, 0, 0, 0, 0, 0, 0, 0, 0, 2000]\n"
     ]
    },
    {
     "name": "stderr",
     "output_type": "stream",
     "text": [
      "\r",
      "  7%|▋         | 105/1500 [02:09<32:11,  1.38s/it]"
     ]
    },
    {
     "name": "stdout",
     "output_type": "stream",
     "text": [
      "[0, 0, 0, 0, 0, 0, 0, 0, 0, 0, 2000]\n",
      "[0, 0, 0, 4, 0, 0, 0, 0, 0, 0, 2000]\n",
      "[0, 0, 0, 0, 0, 4, 0, 0, 4, 0, 2000]\n"
     ]
    },
    {
     "name": "stderr",
     "output_type": "stream",
     "text": [
      "\r",
      "  7%|▋         | 106/1500 [02:10<33:03,  1.42s/it]"
     ]
    },
    {
     "name": "stdout",
     "output_type": "stream",
     "text": [
      "[4, 4, 4, 4, 0, 0, 0, 4, 0, 4, 2000]\n",
      "[4, 0, 4, 4, 4, 4, 4, 4, 0, 4, 2000]\n"
     ]
    },
    {
     "name": "stderr",
     "output_type": "stream",
     "text": [
      "  7%|▋         | 108/1500 [02:13<32:36,  1.41s/it]"
     ]
    },
    {
     "name": "stdout",
     "output_type": "stream",
     "text": [
      "[0, 0, 0, 0, 0, 0, 0, 0, 0, 0, 2000]\n"
     ]
    },
    {
     "name": "stderr",
     "output_type": "stream",
     "text": [
      "  7%|▋         | 112/1500 [02:18<30:47,  1.33s/it]"
     ]
    },
    {
     "name": "stdout",
     "output_type": "stream",
     "text": [
      "[0, 0, 0, 0, 0, 0, 0, 0, 0, 0, 2000]\n"
     ]
    },
    {
     "name": "stderr",
     "output_type": "stream",
     "text": [
      "  8%|▊         | 114/1500 [02:21<30:15,  1.31s/it]"
     ]
    },
    {
     "name": "stdout",
     "output_type": "stream",
     "text": [
      "[0, 0, 0, 0, 0, 0, 0, 0, 0, 0, 2000]\n"
     ]
    },
    {
     "name": "stderr",
     "output_type": "stream",
     "text": [
      "\r",
      "  8%|▊         | 115/1500 [02:23<32:25,  1.40s/it]"
     ]
    },
    {
     "name": "stdout",
     "output_type": "stream",
     "text": [
      "[0, 0, 0, 0, 0, 0, 0, 0, 0, 0, 2000]\n"
     ]
    },
    {
     "name": "stderr",
     "output_type": "stream",
     "text": [
      "  8%|▊         | 118/1500 [02:27<32:45,  1.42s/it]"
     ]
    },
    {
     "name": "stdout",
     "output_type": "stream",
     "text": [
      "[4, 4, 0, 0, 4, 4, 0, 0, 4, 0, 2000]\n",
      "[4, 4, 4, 0, 0, 0, 0, 0, 0, 0, 2000]\n",
      "[0, 0, 0, 0, 0, 0, 0, 4, 0, 0, 2000]\n",
      "[4, 4, 4, 4, 0, 4, 4, 4, 4, 4, 2000]\n",
      "[4, 4, 4, 4, 4, 0, 0, 0, 0, 0, 2000]\n",
      "[0, 4, 4, 4, 0, 0, 4, 0, 4, 0, 2000]\n",
      "[0, 0, 0, 0, 0, 0, 0, 0, 0, 0, 2000]\n"
     ]
    },
    {
     "name": "stderr",
     "output_type": "stream",
     "text": [
      "\r",
      "  8%|▊         | 119/1500 [02:28<28:58,  1.26s/it]"
     ]
    },
    {
     "name": "stdout",
     "output_type": "stream",
     "text": [
      "[0, 0, 4, 0, 0, 0, 4, 4, 0, 4, 2000]\n",
      "[0, 4, 4, 4, 0, 0, 0, 0, 0, 4, 2000]\n",
      "[4, 4, 0, 4, 4, 4, 4, 0, 0, 4, 2000]\n"
     ]
    },
    {
     "name": "stderr",
     "output_type": "stream",
     "text": [
      "  8%|▊         | 123/1500 [02:34<32:24,  1.41s/it]"
     ]
    },
    {
     "name": "stdout",
     "output_type": "stream",
     "text": [
      "[0, 0, 0, 0, 0, 0, 0, 0, 0, 0, 2000]\n",
      "[0, 0, 0, 0, 0, 0, 0, 0, 0, 0, 2000]\n",
      "[0, 0, 0, 0, 0, 0, 0, 0, 0, 0, 2000]\n"
     ]
    },
    {
     "name": "stderr",
     "output_type": "stream",
     "text": [
      "  9%|▊         | 129/1500 [02:42<33:57,  1.49s/it]"
     ]
    },
    {
     "name": "stdout",
     "output_type": "stream",
     "text": [
      "[0, 0, 0, 0, 0, 0, 0, 0, 0, 0, 2000]\n"
     ]
    },
    {
     "name": "stderr",
     "output_type": "stream",
     "text": [
      "  9%|▉         | 138/1500 [02:55<30:40,  1.35s/it]"
     ]
    },
    {
     "name": "stdout",
     "output_type": "stream",
     "text": [
      "[0, 0, 4, 0, 0, 0, 0, 0, 4, 0, 2000]\n",
      "[0, 0, 4, 0, 4, 0, 0, 4, 0, 0, 2000]\n"
     ]
    },
    {
     "name": "stderr",
     "output_type": "stream",
     "text": [
      "\r",
      "  9%|▉         | 139/1500 [02:56<29:17,  1.29s/it]"
     ]
    },
    {
     "name": "stdout",
     "output_type": "stream",
     "text": [
      "[4, 4, 4, 4, 4, 4, 4, 4, 4, 4, 2000]\n",
      "[0, 0, 4, 0, 4, 0, 0, 4, 4, 4, 2000]\n",
      "[4, 0, 4, 0, 4, 0, 0, 4, 0, 0, 2000]\n",
      "[0, 0, 4, 0, 0, 0, 0, 0, 0, 0, 2000]\n",
      "[0, 0, 0, 0, 0, 0, 0, 0, 0, 0, 2000]\n"
     ]
    },
    {
     "name": "stderr",
     "output_type": "stream",
     "text": [
      "  9%|▉         | 142/1500 [03:00<31:11,  1.38s/it]"
     ]
    },
    {
     "name": "stdout",
     "output_type": "stream",
     "text": [
      "[4, 4, 4, 0, 0, 4, 0, 0, 0, 0, 2000]\n",
      "[0, 0, 0, 0, 0, 0, 0, 0, 0, 0, 2000]\n",
      "[4, 4, 4, 4, 4, 0, 0, 4, 4, 4, 2000]\n"
     ]
    },
    {
     "name": "stderr",
     "output_type": "stream",
     "text": [
      " 10%|▉         | 145/1500 [03:04<31:52,  1.41s/it]"
     ]
    },
    {
     "name": "stdout",
     "output_type": "stream",
     "text": [
      "[0, 0, 0, 0, 0, 0, 0, 0, 0, 0, 2000]\n"
     ]
    },
    {
     "name": "stderr",
     "output_type": "stream",
     "text": [
      "\r",
      " 10%|▉         | 146/1500 [03:06<33:28,  1.48s/it]"
     ]
    },
    {
     "name": "stdout",
     "output_type": "stream",
     "text": [
      "[0, 0, 4, 0, 0, 0, 0, 0, 0, 0, 2000]\n",
      "[0, 0, 0, 0, 0, 0, 0, 0, 0, 0, 2000]\n"
     ]
    },
    {
     "name": "stderr",
     "output_type": "stream",
     "text": [
      " 10%|▉         | 148/1500 [03:09<31:34,  1.40s/it]"
     ]
    },
    {
     "name": "stdout",
     "output_type": "stream",
     "text": [
      "[4, 4, 4, 4, 4, 4, 4, 4, 4, 4, 2000]\n",
      "[4, 4, 4, 4, 4, 4, 4, 4, 4, 4, 2000]\n"
     ]
    },
    {
     "name": "stderr",
     "output_type": "stream",
     "text": [
      "\r",
      " 10%|▉         | 149/1500 [03:10<33:08,  1.47s/it]"
     ]
    },
    {
     "name": "stdout",
     "output_type": "stream",
     "text": [
      "[0, 0, 0, 0, 0, 0, 0, 0, 0, 0, 2000]\n"
     ]
    },
    {
     "name": "stderr",
     "output_type": "stream",
     "text": [
      " 10%|█         | 151/1500 [03:13<32:20,  1.44s/it]"
     ]
    },
    {
     "name": "stdout",
     "output_type": "stream",
     "text": [
      "[0, 0, 0, 0, 4, 0, 4, 0, 0, 0, 2000]\n"
     ]
    },
    {
     "name": "stderr",
     "output_type": "stream",
     "text": [
      " 10%|█         | 156/1500 [03:20<30:33,  1.36s/it]"
     ]
    },
    {
     "name": "stdout",
     "output_type": "stream",
     "text": [
      "[0, 0, 0, 0, 0, 0, 0, 0, 0, 0, 2000]\n"
     ]
    },
    {
     "name": "stderr",
     "output_type": "stream",
     "text": [
      "\r",
      " 10%|█         | 157/1500 [03:22<32:27,  1.45s/it]"
     ]
    },
    {
     "name": "stdout",
     "output_type": "stream",
     "text": [
      "[0, 0, 0, 0, 0, 0, 0, 0, 0, 0, 2000]\n"
     ]
    },
    {
     "name": "stderr",
     "output_type": "stream",
     "text": [
      "\r",
      " 11%|█         | 158/1500 [03:23<33:51,  1.51s/it]"
     ]
    },
    {
     "name": "stdout",
     "output_type": "stream",
     "text": [
      "[0, 0, 0, 0, 0, 0, 0, 0, 0, 0, 2000]\n",
      "[4, 4, 0, 0, 0, 4, 0, 4, 4, 0, 2000]\n"
     ]
    },
    {
     "name": "stderr",
     "output_type": "stream",
     "text": [
      "\r",
      " 11%|█         | 159/1500 [03:25<33:37,  1.50s/it]"
     ]
    },
    {
     "name": "stdout",
     "output_type": "stream",
     "text": [
      "[0, 4, 0, 0, 0, 0, 0, 0, 0, 0, 2000]\n"
     ]
    },
    {
     "name": "stderr",
     "output_type": "stream",
     "text": [
      " 11%|█         | 161/1500 [03:28<32:52,  1.47s/it]"
     ]
    },
    {
     "name": "stdout",
     "output_type": "stream",
     "text": [
      "[0, 0, 0, 0, 0, 0, 0, 0, 0, 0, 2000]\n"
     ]
    },
    {
     "name": "stderr",
     "output_type": "stream",
     "text": [
      "\r",
      " 11%|█         | 162/1500 [03:29<34:11,  1.53s/it]"
     ]
    },
    {
     "name": "stdout",
     "output_type": "stream",
     "text": [
      "[0, 4, 4, 4, 0, 4, 4, 4, 4, 4, 2000]\n",
      "[4, 4, 0, 4, 0, 0, 4, 4, 0, 4, 2000]\n",
      "[0, 4, 4, 4, 4, 4, 0, 4, 4, 0, 2000]\n",
      "[4, 4, 0, 0, 4, 0, 4, 0, 0, 4, 2000]\n",
      "[0, 4, 4, 4, 4, 0, 0, 0, 4, 4, 2000]\n"
     ]
    },
    {
     "name": "stderr",
     "output_type": "stream",
     "text": [
      "\r",
      " 11%|█         | 163/1500 [03:30<30:21,  1.36s/it]"
     ]
    },
    {
     "name": "stdout",
     "output_type": "stream",
     "text": [
      "[0, 0, 0, 0, 0, 0, 0, 0, 0, 0, 2000]\n"
     ]
    },
    {
     "name": "stderr",
     "output_type": "stream",
     "text": [
      "\r",
      " 11%|█         | 164/1500 [03:32<32:35,  1.46s/it]"
     ]
    },
    {
     "name": "stdout",
     "output_type": "stream",
     "text": [
      "[0, 0, 0, 0, 0, 0, 0, 0, 0, 0, 2000]\n"
     ]
    },
    {
     "name": "stderr",
     "output_type": "stream",
     "text": [
      "\r",
      " 11%|█         | 165/1500 [03:33<30:01,  1.35s/it]"
     ]
    },
    {
     "name": "stdout",
     "output_type": "stream",
     "text": [
      "[0, 0, 0, 4, 0, 0, 0, 0, 4, 0, 2000]\n"
     ]
    },
    {
     "name": "stderr",
     "output_type": "stream",
     "text": [
      " 11%|█▏        | 169/1500 [03:39<32:26,  1.46s/it]"
     ]
    },
    {
     "name": "stdout",
     "output_type": "stream",
     "text": [
      "[4, 0, 0, 0, 4, 4, 4, 4, 0, 4, 2000]\n",
      "[4, 0, 0, 0, 0, 4, 4, 4, 0, 0, 2000]\n",
      "[4, 4, 4, 4, 4, 4, 4, 4, 4, 4, 2000]\n",
      "[4, 4, 4, 4, 4, 4, 4, 4, 4, 4, 2000]\n",
      "[0, 0, 0, 0, 0, 0, 0, 0, 0, 0, 2000]\n",
      "[0, 0, 0, 0, 0, 4, 0, 0, 0, 0, 2000]\n",
      "[4, 0, 0, 4, 4, 4, 4, 0, 4, 4, 2000]\n",
      "[0, 0, 0, 0, 4, 0, 0, 0, 0, 4, 2000]\n",
      "[0, 4, 0, 0, 0, 0, 4, 0, 0, 0, 2000]\n"
     ]
    },
    {
     "name": "stderr",
     "output_type": "stream",
     "text": [
      " 12%|█▏        | 173/1500 [03:46<33:56,  1.53s/it]"
     ]
    },
    {
     "name": "stdout",
     "output_type": "stream",
     "text": [
      "[0, 0, 0, 0, 0, 0, 0, 0, 0, 0, 2000]\n"
     ]
    },
    {
     "name": "stderr",
     "output_type": "stream",
     "text": [
      "\r",
      " 12%|█▏        | 174/1500 [03:47<34:46,  1.57s/it]"
     ]
    },
    {
     "name": "stdout",
     "output_type": "stream",
     "text": [
      "[0, 0, 0, 0, 0, 0, 0, 0, 0, 0, 2000]\n",
      "[4, 4, 4, 4, 4, 4, 4, 4, 4, 4, 2000]\n",
      "[4, 4, 4, 4, 4, 0, 4, 4, 4, 0, 2000]\n"
     ]
    },
    {
     "name": "stderr",
     "output_type": "stream",
     "text": [
      "\r",
      " 12%|█▏        | 175/1500 [03:48<30:54,  1.40s/it]"
     ]
    },
    {
     "name": "stdout",
     "output_type": "stream",
     "text": [
      "[0, 0, 0, 0, 0, 0, 0, 0, 0, 0, 2000]\n"
     ]
    },
    {
     "name": "stderr",
     "output_type": "stream",
     "text": [
      "\r",
      " 12%|█▏        | 176/1500 [03:50<32:44,  1.48s/it]"
     ]
    },
    {
     "name": "stdout",
     "output_type": "stream",
     "text": [
      "[0, 0, 0, 0, 0, 0, 0, 0, 4, 0, 2000]\n"
     ]
    },
    {
     "name": "stderr",
     "output_type": "stream",
     "text": [
      " 12%|█▏        | 178/1500 [03:53<30:48,  1.40s/it]"
     ]
    },
    {
     "name": "stdout",
     "output_type": "stream",
     "text": [
      "[0, 0, 0, 0, 0, 0, 0, 0, 0, 0, 2000]\n",
      "[0, 0, 0, 0, 0, 0, 0, 0, 0, 0, 2000]\n"
     ]
    },
    {
     "name": "stderr",
     "output_type": "stream",
     "text": [
      "\r",
      " 12%|█▏        | 179/1500 [03:54<32:47,  1.49s/it]"
     ]
    },
    {
     "name": "stdout",
     "output_type": "stream",
     "text": [
      "[0, 0, 0, 0, 0, 0, 0, 0, 0, 0, 2000]\n",
      "[0, 0, 0, 0, 0, 4, 0, 0, 4, 0, 2000]\n"
     ]
    },
    {
     "name": "stderr",
     "output_type": "stream",
     "text": [
      "\r",
      " 12%|█▏        | 180/1500 [03:56<34:08,  1.55s/it]"
     ]
    },
    {
     "name": "stdout",
     "output_type": "stream",
     "text": [
      "[4, 0, 0, 0, 4, 4, 4, 0, 0, 0, 2000]\n",
      "[0, 0, 0, 0, 4, 4, 0, 0, 0, 0, 2000]\n",
      "[0, 0, 0, 0, 0, 0, 0, 0, 0, 0, 2000]\n",
      "[0, 0, 0, 0, 4, 0, 4, 4, 0, 0, 2000]\n"
     ]
    },
    {
     "name": "stderr",
     "output_type": "stream",
     "text": [
      "\r",
      " 12%|█▏        | 181/1500 [03:57<30:10,  1.37s/it]"
     ]
    },
    {
     "name": "stdout",
     "output_type": "stream",
     "text": [
      "[0, 4, 0, 0, 0, 0, 0, 0, 0, 0, 2000]\n",
      "[4, 4, 4, 4, 4, 4, 4, 4, 4, 4, 2000]\n",
      "[4, 4, 4, 4, 4, 4, 4, 4, 4, 4, 2000]\n"
     ]
    },
    {
     "name": "stderr",
     "output_type": "stream",
     "text": [
      "\r",
      " 12%|█▏        | 182/1500 [03:59<32:21,  1.47s/it]"
     ]
    },
    {
     "name": "stdout",
     "output_type": "stream",
     "text": [
      "[0, 0, 0, 0, 0, 0, 0, 0, 0, 0, 2000]\n",
      "[0, 0, 0, 0, 0, 0, 0, 0, 0, 0, 2000]\n"
     ]
    },
    {
     "name": "stderr",
     "output_type": "stream",
     "text": [
      "\r",
      " 12%|█▏        | 183/1500 [04:01<34:01,  1.55s/it]"
     ]
    },
    {
     "name": "stdout",
     "output_type": "stream",
     "text": [
      "[4, 0, 0, 0, 4, 0, 0, 0, 0, 4, 2000]\n"
     ]
    },
    {
     "name": "stderr",
     "output_type": "stream",
     "text": [
      " 12%|█▏        | 186/1500 [04:05<34:47,  1.59s/it]"
     ]
    },
    {
     "name": "stdout",
     "output_type": "stream",
     "text": [
      "[0, 0, 0, 0, 0, 0, 0, 0, 0, 0, 2000]\n"
     ]
    },
    {
     "name": "stderr",
     "output_type": "stream",
     "text": [
      " 13%|█▎        | 192/1500 [04:14<34:38,  1.59s/it]"
     ]
    },
    {
     "name": "stdout",
     "output_type": "stream",
     "text": [
      "[4, 4, 0, 4, 0, 0, 0, 0, 0, 0, 2000]\n",
      "[0, 0, 0, 0, 0, 0, 0, 4, 0, 0, 2000]\n",
      "[0, 4, 4, 0, 4, 4, 4, 4, 4, 4, 2000]\n",
      "[0, 0, 0, 4, 0, 0, 0, 0, 0, 0, 2000]\n",
      "[0, 0, 0, 0, 0, 0, 0, 0, 4, 0, 2000]\n"
     ]
    },
    {
     "name": "stderr",
     "output_type": "stream",
     "text": [
      " 13%|█▎        | 194/1500 [04:17<32:45,  1.50s/it]"
     ]
    },
    {
     "name": "stdout",
     "output_type": "stream",
     "text": [
      "[0, 0, 0, 0, 0, 0, 0, 0, 0, 0, 2000]\n"
     ]
    },
    {
     "name": "stderr",
     "output_type": "stream",
     "text": [
      " 13%|█▎        | 197/1500 [04:22<31:52,  1.47s/it]"
     ]
    },
    {
     "name": "stdout",
     "output_type": "stream",
     "text": [
      "[0, 0, 0, 0, 0, 4, 0, 0, 0, 0, 2000]\n"
     ]
    },
    {
     "name": "stderr",
     "output_type": "stream",
     "text": [
      " 14%|█▎        | 204/1500 [04:32<31:56,  1.48s/it]"
     ]
    },
    {
     "name": "stdout",
     "output_type": "stream",
     "text": [
      "[4, 4, 4, 4, 4, 4, 4, 4, 4, 4, 2000]\n",
      "[4, 4, 4, 4, 4, 4, 4, 4, 4, 0, 2000]\n",
      "[0, 4, 0, 4, 4, 4, 4, 4, 0, 0, 2000]\n",
      "[0, 0, 0, 0, 0, 0, 0, 0, 0, 4, 2000]\n"
     ]
    },
    {
     "name": "stderr",
     "output_type": "stream",
     "text": [
      " 14%|█▍        | 207/1500 [04:38<35:16,  1.64s/it]"
     ]
    },
    {
     "name": "stdout",
     "output_type": "stream",
     "text": [
      "[4, 4, 4, 4, 4, 4, 0, 0, 0, 0, 2000]\n"
     ]
    },
    {
     "name": "stderr",
     "output_type": "stream",
     "text": [
      "\r",
      " 14%|█▍        | 208/1500 [04:39<31:29,  1.46s/it]"
     ]
    },
    {
     "name": "stdout",
     "output_type": "stream",
     "text": [
      "[0, 0, 0, 0, 0, 0, 0, 0, 0, 0, 2000]\n",
      "[0, 4, 0, 4, 0, 0, 4, 0, 0, 0, 2000]\n"
     ]
    },
    {
     "name": "stderr",
     "output_type": "stream",
     "text": [
      "\r",
      " 14%|█▍        | 209/1500 [04:40<33:10,  1.54s/it]"
     ]
    },
    {
     "name": "stdout",
     "output_type": "stream",
     "text": [
      "[0, 0, 0, 0, 0, 0, 0, 0, 0, 0, 2000]\n",
      "[0, 0, 4, 0, 0, 0, 0, 4, 0, 0, 2000]\n"
     ]
    },
    {
     "name": "stderr",
     "output_type": "stream",
     "text": [
      "\r",
      " 14%|█▍        | 210/1500 [04:42<34:00,  1.58s/it]"
     ]
    },
    {
     "name": "stdout",
     "output_type": "stream",
     "text": [
      "[4, 4, 4, 4, 4, 4, 4, 4, 4, 4, 2000]\n",
      "[0, 4, 4, 4, 4, 4, 4, 4, 4, 4, 2000]\n",
      "[4, 4, 4, 4, 4, 4, 4, 4, 4, 4, 2000]\n",
      "[0, 0, 0, 0, 0, 0, 0, 0, 0, 0, 2000]\n"
     ]
    },
    {
     "name": "stderr",
     "output_type": "stream",
     "text": [
      " 14%|█▍        | 212/1500 [04:45<32:13,  1.50s/it]"
     ]
    },
    {
     "name": "stdout",
     "output_type": "stream",
     "text": [
      "[0, 0, 0, 0, 0, 0, 0, 0, 0, 0, 2000]\n"
     ]
    },
    {
     "name": "stderr",
     "output_type": "stream",
     "text": [
      "\r",
      " 14%|█▍        | 213/1500 [04:47<33:55,  1.58s/it]"
     ]
    },
    {
     "name": "stdout",
     "output_type": "stream",
     "text": [
      "[0, 0, 0, 0, 0, 0, 0, 0, 0, 0, 2000]\n"
     ]
    },
    {
     "name": "stderr",
     "output_type": "stream",
     "text": [
      "\r",
      " 14%|█▍        | 214/1500 [04:48<34:58,  1.63s/it]"
     ]
    },
    {
     "name": "stdout",
     "output_type": "stream",
     "text": [
      "[0, 0, 0, 0, 0, 0, 0, 0, 0, 0, 2000]\n"
     ]
    },
    {
     "name": "stderr",
     "output_type": "stream",
     "text": [
      "\r",
      " 14%|█▍        | 215/1500 [04:50<31:31,  1.47s/it]"
     ]
    },
    {
     "name": "stdout",
     "output_type": "stream",
     "text": [
      "[0, 0, 0, 0, 0, 0, 0, 0, 0, 0, 2000]\n"
     ]
    },
    {
     "name": "stderr",
     "output_type": "stream",
     "text": [
      " 15%|█▍        | 223/1500 [05:03<37:20,  1.75s/it]"
     ]
    },
    {
     "name": "stdout",
     "output_type": "stream",
     "text": [
      "[0, 0, 0, 0, 0, 0, 0, 0, 0, 0, 2000]\n"
     ]
    },
    {
     "name": "stderr",
     "output_type": "stream",
     "text": [
      "\r",
      " 15%|█▍        | 224/1500 [05:05<35:14,  1.66s/it]"
     ]
    },
    {
     "name": "stdout",
     "output_type": "stream",
     "text": [
      "[0, 0, 0, 0, 0, 0, 0, 0, 0, 0, 2000]\n"
     ]
    },
    {
     "name": "stderr",
     "output_type": "stream",
     "text": [
      " 15%|█▌        | 227/1500 [05:10<36:20,  1.71s/it]"
     ]
    },
    {
     "name": "stdout",
     "output_type": "stream",
     "text": [
      "[0, 0, 0, 0, 0, 0, 0, 0, 0, 0, 2000]\n"
     ]
    },
    {
     "name": "stderr",
     "output_type": "stream",
     "text": [
      "\r",
      " 15%|█▌        | 228/1500 [05:12<36:25,  1.72s/it]"
     ]
    },
    {
     "name": "stdout",
     "output_type": "stream",
     "text": [
      "[0, 0, 0, 0, 0, 0, 0, 0, 0, 4, 2000]\n"
     ]
    },
    {
     "name": "stderr",
     "output_type": "stream",
     "text": [
      " 15%|█▌        | 230/1500 [05:15<36:51,  1.74s/it]"
     ]
    },
    {
     "name": "stdout",
     "output_type": "stream",
     "text": [
      "[0, 0, 0, 0, 0, 0, 0, 0, 4, 0, 2000]\n"
     ]
    },
    {
     "name": "stderr",
     "output_type": "stream",
     "text": [
      " 16%|█▌        | 233/1500 [05:20<35:15,  1.67s/it]"
     ]
    },
    {
     "name": "stdout",
     "output_type": "stream",
     "text": [
      "[4, 4, 4, 4, 4, 4, 4, 4, 4, 4, 2000]\n",
      "[0, 0, 0, 0, 4, 0, 4, 4, 0, 4, 2000]\n"
     ]
    },
    {
     "name": "stderr",
     "output_type": "stream",
     "text": [
      "\r",
      " 16%|█▌        | 234/1500 [05:22<36:06,  1.71s/it]"
     ]
    },
    {
     "name": "stdout",
     "output_type": "stream",
     "text": [
      "[0, 0, 0, 0, 0, 0, 0, 0, 0, 0, 2000]\n",
      "[0, 0, 4, 0, 0, 0, 0, 4, 0, 0, 2000]\n",
      "[4, 4, 4, 4, 4, 4, 4, 4, 4, 4, 2000]\n",
      "[0, 0, 0, 0, 0, 4, 0, 0, 0, 0, 2000]\n",
      "[0, 0, 0, 0, 0, 0, 0, 0, 0, 0, 2000]\n",
      "[0, 0, 0, 0, 0, 4, 0, 0, 4, 0, 2000]\n",
      "[4, 0, 0, 4, 4, 0, 0, 4, 4, 0, 2000]\n"
     ]
    },
    {
     "name": "stderr",
     "output_type": "stream",
     "text": [
      " 16%|█▌        | 237/1500 [05:26<34:32,  1.64s/it]"
     ]
    },
    {
     "name": "stdout",
     "output_type": "stream",
     "text": [
      "[0, 0, 0, 0, 0, 0, 0, 0, 0, 0, 2000]\n"
     ]
    },
    {
     "name": "stderr",
     "output_type": "stream",
     "text": [
      "\r",
      " 16%|█▌        | 238/1500 [05:28<35:27,  1.69s/it]"
     ]
    },
    {
     "name": "stdout",
     "output_type": "stream",
     "text": [
      "[0, 0, 0, 0, 0, 0, 0, 0, 0, 0, 2000]\n",
      "[0, 0, 0, 0, 0, 0, 0, 0, 0, 0, 2000]\n",
      "[4, 4, 4, 4, 4, 0, 4, 4, 0, 0, 2000]\n",
      "[4, 4, 4, 0, 4, 4, 0, 4, 4, 4, 2000]\n",
      "[0, 0, 0, 0, 0, 0, 0, 0, 0, 0, 2000]\n"
     ]
    },
    {
     "name": "stderr",
     "output_type": "stream",
     "text": [
      "\r",
      " 16%|█▌        | 239/1500 [05:29<31:26,  1.50s/it]"
     ]
    },
    {
     "name": "stdout",
     "output_type": "stream",
     "text": [
      "[0, 4, 4, 4, 0, 0, 4, 0, 0, 4, 2000]\n",
      "[0, 0, 0, 0, 0, 0, 0, 0, 0, 0, 2000]\n"
     ]
    },
    {
     "name": "stderr",
     "output_type": "stream",
     "text": [
      " 16%|█▌        | 242/1500 [05:35<37:27,  1.79s/it]"
     ]
    },
    {
     "name": "stdout",
     "output_type": "stream",
     "text": [
      "[0, 0, 0, 0, 0, 0, 0, 0, 0, 0, 2000]\n"
     ]
    },
    {
     "name": "stderr",
     "output_type": "stream",
     "text": [
      " 17%|█▋        | 249/1500 [05:47<35:31,  1.70s/it]"
     ]
    },
    {
     "name": "stdout",
     "output_type": "stream",
     "text": [
      "[0, 0, 0, 0, 0, 0, 0, 0, 0, 0, 2000]\n"
     ]
    },
    {
     "name": "stderr",
     "output_type": "stream",
     "text": [
      " 17%|█▋        | 253/1500 [05:54<38:01,  1.83s/it]"
     ]
    },
    {
     "name": "stdout",
     "output_type": "stream",
     "text": [
      "[0, 4, 0, 0, 4, 4, 4, 4, 4, 4, 2000]\n",
      "[0, 0, 0, 0, 0, 0, 0, 0, 0, 0, 2000]\n"
     ]
    },
    {
     "name": "stderr",
     "output_type": "stream",
     "text": [
      "\r",
      " 17%|█▋        | 254/1500 [05:56<37:34,  1.81s/it]"
     ]
    },
    {
     "name": "stdout",
     "output_type": "stream",
     "text": [
      "[0, 0, 0, 0, 0, 0, 0, 0, 0, 0, 2000]\n"
     ]
    },
    {
     "name": "stderr",
     "output_type": "stream",
     "text": [
      " 17%|█▋        | 258/1500 [06:03<36:07,  1.74s/it]"
     ]
    },
    {
     "name": "stdout",
     "output_type": "stream",
     "text": [
      "[0, 0, 0, 0, 0, 0, 0, 0, 0, 0, 2000]\n"
     ]
    },
    {
     "name": "stderr",
     "output_type": "stream",
     "text": [
      " 17%|█▋        | 260/1500 [06:07<36:45,  1.78s/it]"
     ]
    },
    {
     "name": "stdout",
     "output_type": "stream",
     "text": [
      "[0, 0, 4, 0, 0, 0, 0, 0, 0, 0, 2000]\n"
     ]
    },
    {
     "name": "stderr",
     "output_type": "stream",
     "text": [
      " 17%|█▋        | 262/1500 [06:10<33:54,  1.64s/it]"
     ]
    },
    {
     "name": "stdout",
     "output_type": "stream",
     "text": [
      "[0, 0, 0, 0, 0, 0, 0, 0, 0, 0, 2000]\n"
     ]
    },
    {
     "name": "stderr",
     "output_type": "stream",
     "text": [
      " 18%|█▊        | 265/1500 [06:15<36:14,  1.76s/it]"
     ]
    },
    {
     "name": "stdout",
     "output_type": "stream",
     "text": [
      "[0, 0, 0, 0, 0, 0, 0, 0, 0, 0, 2000]\n",
      "[0, 0, 0, 0, 0, 0, 0, 0, 0, 0, 2000]\n",
      "[0, 0, 0, 0, 0, 0, 0, 0, 0, 0, 2000]\n"
     ]
    },
    {
     "name": "stderr",
     "output_type": "stream",
     "text": [
      " 18%|█▊        | 269/1500 [06:23<41:32,  2.02s/it]"
     ]
    },
    {
     "name": "stdout",
     "output_type": "stream",
     "text": [
      "[0, 0, 0, 0, 0, 0, 0, 0, 0, 0, 2000]\n"
     ]
    },
    {
     "name": "stderr",
     "output_type": "stream",
     "text": [
      " 18%|█▊        | 271/1500 [06:26<36:28,  1.78s/it]"
     ]
    },
    {
     "name": "stdout",
     "output_type": "stream",
     "text": [
      "[0, 0, 4, 0, 0, 0, 4, 0, 4, 4, 2000]\n",
      "[0, 4, 0, 0, 0, 4, 4, 0, 4, 0, 2000]\n"
     ]
    },
    {
     "name": "stderr",
     "output_type": "stream",
     "text": [
      " 18%|█▊        | 273/1500 [06:30<36:15,  1.77s/it]"
     ]
    },
    {
     "name": "stdout",
     "output_type": "stream",
     "text": [
      "[4, 0, 0, 0, 0, 4, 0, 0, 0, 0, 2000]\n",
      "[4, 0, 0, 4, 4, 0, 4, 0, 4, 0, 2000]\n",
      "[0, 0, 0, 0, 0, 0, 0, 0, 0, 0, 2000]\n",
      "[0, 0, 0, 0, 0, 0, 0, 0, 0, 0, 2000]\n",
      "[4, 4, 4, 0, 4, 4, 0, 4, 4, 4, 2000]\n",
      "[4, 4, 4, 4, 4, 4, 4, 4, 4, 4, 2000]\n",
      "[4, 4, 0, 0, 4, 4, 0, 4, 0, 0, 2000]\n",
      "[0, 4, 4, 4, 4, 0, 4, 4, 4, 0, 2000]\n"
     ]
    },
    {
     "name": "stderr",
     "output_type": "stream",
     "text": [
      "\r",
      " 18%|█▊        | 274/1500 [06:30<30:48,  1.51s/it]"
     ]
    },
    {
     "name": "stdout",
     "output_type": "stream",
     "text": [
      "[0, 0, 0, 0, 0, 0, 0, 0, 0, 0, 2000]\n"
     ]
    },
    {
     "name": "stderr",
     "output_type": "stream",
     "text": [
      "\r",
      " 18%|█▊        | 275/1500 [06:32<33:20,  1.63s/it]"
     ]
    },
    {
     "name": "stdout",
     "output_type": "stream",
     "text": [
      "[0, 0, 0, 0, 0, 0, 0, 0, 0, 0, 2000]\n",
      "[0, 0, 0, 0, 0, 0, 0, 0, 0, 0, 2000]\n"
     ]
    },
    {
     "name": "stderr",
     "output_type": "stream",
     "text": [
      " 18%|█▊        | 277/1500 [06:36<34:36,  1.70s/it]"
     ]
    },
    {
     "name": "stdout",
     "output_type": "stream",
     "text": [
      "[0, 0, 0, 0, 0, 0, 0, 0, 0, 0, 2000]\n"
     ]
    },
    {
     "name": "stderr",
     "output_type": "stream",
     "text": [
      "\r",
      " 19%|█▊        | 278/1500 [06:38<35:30,  1.74s/it]"
     ]
    },
    {
     "name": "stdout",
     "output_type": "stream",
     "text": [
      "[0, 0, 0, 0, 0, 0, 0, 0, 0, 0, 2000]\n"
     ]
    },
    {
     "name": "stderr",
     "output_type": "stream",
     "text": [
      " 19%|█▊        | 281/1500 [06:43<33:45,  1.66s/it]"
     ]
    },
    {
     "name": "stdout",
     "output_type": "stream",
     "text": [
      "[0, 4, 0, 0, 4, 0, 4, 0, 4, 4, 2000]\n",
      "[4, 0, 0, 0, 0, 4, 0, 0, 0, 0, 2000]\n",
      "[4, 4, 0, 4, 4, 4, 4, 4, 0, 0, 2000]\n",
      "[4, 4, 4, 4, 0, 4, 4, 4, 4, 4, 2000]\n",
      "[4, 4, 4, 4, 0, 0, 0, 0, 0, 0, 2000]\n",
      "[0, 0, 0, 0, 0, 0, 0, 0, 4, 0, 2000]\n",
      "[4, 0, 4, 0, 0, 0, 4, 4, 0, 4, 2000]\n"
     ]
    },
    {
     "name": "stderr",
     "output_type": "stream",
     "text": [
      " 19%|█▉        | 284/1500 [06:48<33:13,  1.64s/it]"
     ]
    },
    {
     "name": "stdout",
     "output_type": "stream",
     "text": [
      "[0, 0, 0, 0, 0, 0, 0, 0, 0, 0, 2000]\n"
     ]
    },
    {
     "name": "stderr",
     "output_type": "stream",
     "text": [
      "\r",
      " 19%|█▉        | 285/1500 [06:50<35:13,  1.74s/it]"
     ]
    },
    {
     "name": "stdout",
     "output_type": "stream",
     "text": [
      "[0, 0, 0, 0, 0, 0, 0, 0, 0, 0, 2000]\n"
     ]
    },
    {
     "name": "stderr",
     "output_type": "stream",
     "text": [
      " 19%|█▉        | 287/1500 [06:53<37:15,  1.84s/it]"
     ]
    },
    {
     "name": "stdout",
     "output_type": "stream",
     "text": [
      "[4, 0, 4, 4, 4, 4, 4, 4, 0, 4, 2000]\n",
      "[0, 0, 0, 0, 0, 0, 0, 0, 0, 0, 2000]\n",
      "[0, 0, 0, 0, 0, 0, 0, 0, 0, 0, 2000]\n",
      "[4, 0, 4, 0, 4, 4, 4, 4, 4, 4, 2000]\n"
     ]
    },
    {
     "name": "stderr",
     "output_type": "stream",
     "text": [
      "\r",
      " 19%|█▉        | 288/1500 [06:55<37:08,  1.84s/it]"
     ]
    },
    {
     "name": "stdout",
     "output_type": "stream",
     "text": [
      "[0, 0, 0, 0, 0, 0, 0, 0, 0, 0, 2000]\n"
     ]
    },
    {
     "name": "stderr",
     "output_type": "stream",
     "text": [
      " 20%|█▉        | 294/1500 [07:06<37:48,  1.88s/it]"
     ]
    },
    {
     "name": "stdout",
     "output_type": "stream",
     "text": [
      "[0, 0, 0, 0, 0, 0, 0, 0, 0, 0, 2000]\n"
     ]
    },
    {
     "name": "stderr",
     "output_type": "stream",
     "text": [
      " 20%|█▉        | 297/1500 [07:11<36:01,  1.80s/it]"
     ]
    },
    {
     "name": "stdout",
     "output_type": "stream",
     "text": [
      "[0, 0, 0, 4, 0, 0, 0, 0, 0, 0, 2000]\n",
      "[0, 0, 0, 0, 0, 0, 0, 0, 0, 0, 2000]\n"
     ]
    },
    {
     "name": "stderr",
     "output_type": "stream",
     "text": [
      " 20%|█▉        | 299/1500 [07:15<34:31,  1.72s/it]"
     ]
    },
    {
     "name": "stdout",
     "output_type": "stream",
     "text": [
      "[0, 4, 0, 0, 0, 0, 0, 0, 0, 0, 2000]\n"
     ]
    },
    {
     "name": "stderr",
     "output_type": "stream",
     "text": [
      "\r",
      " 20%|██        | 300/1500 [07:17<35:08,  1.76s/it]"
     ]
    },
    {
     "name": "stdout",
     "output_type": "stream",
     "text": [
      "[0, 0, 0, 0, 0, 0, 0, 0, 0, 0, 2000]\n"
     ]
    },
    {
     "name": "stderr",
     "output_type": "stream",
     "text": [
      " 20%|██        | 303/1500 [07:22<36:48,  1.85s/it]"
     ]
    },
    {
     "name": "stdout",
     "output_type": "stream",
     "text": [
      "[4, 0, 4, 4, 0, 0, 0, 4, 0, 0, 2000]\n"
     ]
    },
    {
     "name": "stderr",
     "output_type": "stream",
     "text": [
      " 20%|██        | 305/1500 [07:25<33:48,  1.70s/it]"
     ]
    },
    {
     "name": "stdout",
     "output_type": "stream",
     "text": [
      "[0, 0, 0, 0, 0, 4, 0, 0, 0, 0, 2000]\n"
     ]
    },
    {
     "name": "stderr",
     "output_type": "stream",
     "text": [
      "\r",
      " 20%|██        | 306/1500 [07:27<34:53,  1.75s/it]"
     ]
    },
    {
     "name": "stdout",
     "output_type": "stream",
     "text": [
      "[0, 0, 0, 0, 0, 0, 0, 0, 0, 4, 2000]\n"
     ]
    },
    {
     "name": "stderr",
     "output_type": "stream",
     "text": [
      "\r",
      " 20%|██        | 307/1500 [07:29<35:42,  1.80s/it]"
     ]
    },
    {
     "name": "stdout",
     "output_type": "stream",
     "text": [
      "[0, 0, 0, 0, 0, 0, 4, 0, 4, 0, 2000]\n",
      "[4, 4, 4, 4, 0, 0, 0, 4, 0, 0, 2000]\n",
      "[0, 4, 0, 0, 0, 4, 4, 0, 0, 0, 2000]\n"
     ]
    },
    {
     "name": "stderr",
     "output_type": "stream",
     "text": [
      " 21%|██        | 314/1500 [07:41<32:40,  1.65s/it]"
     ]
    },
    {
     "name": "stdout",
     "output_type": "stream",
     "text": [
      "[0, 0, 0, 0, 0, 0, 0, 0, 0, 0, 2000]\n",
      "[0, 0, 0, 0, 0, 0, 0, 0, 0, 0, 2000]\n"
     ]
    },
    {
     "name": "stderr",
     "output_type": "stream",
     "text": [
      " 21%|██        | 316/1500 [07:45<35:03,  1.78s/it]"
     ]
    },
    {
     "name": "stdout",
     "output_type": "stream",
     "text": [
      "[0, 0, 0, 0, 0, 0, 0, 0, 0, 0, 2000]\n",
      "[4, 4, 4, 0, 0, 0, 4, 0, 4, 4, 2000]\n",
      "[4, 4, 4, 4, 0, 4, 0, 4, 4, 0, 2000]\n",
      "[0, 0, 0, 0, 0, 0, 0, 0, 0, 0, 2000]\n"
     ]
    },
    {
     "name": "stderr",
     "output_type": "stream",
     "text": [
      "\r",
      " 21%|██        | 317/1500 [07:46<34:59,  1.77s/it]"
     ]
    },
    {
     "name": "stdout",
     "output_type": "stream",
     "text": [
      "[0, 0, 0, 0, 0, 0, 0, 0, 0, 4, 2000]\n",
      "[0, 4, 0, 0, 0, 0, 0, 0, 0, 0, 2000]\n",
      "[0, 4, 0, 0, 4, 4, 0, 4, 0, 0, 2000]\n",
      "[4, 4, 4, 4, 0, 4, 4, 0, 4, 0, 2000]\n",
      "[0, 0, 0, 0, 0, 0, 0, 0, 0, 0, 2000]\n"
     ]
    },
    {
     "name": "stderr",
     "output_type": "stream",
     "text": [
      " 21%|██▏       | 319/1500 [07:50<35:43,  1.82s/it]"
     ]
    },
    {
     "name": "stdout",
     "output_type": "stream",
     "text": [
      "[0, 0, 0, 4, 0, 0, 0, 4, 0, 0, 2000]\n"
     ]
    },
    {
     "name": "stderr",
     "output_type": "stream",
     "text": [
      " 21%|██▏       | 322/1500 [07:55<34:12,  1.74s/it]"
     ]
    },
    {
     "name": "stdout",
     "output_type": "stream",
     "text": [
      "[0, 0, 0, 0, 0, 0, 0, 0, 0, 0, 2000]\n",
      "[0, 0, 0, 0, 0, 0, 0, 0, 0, 0, 2000]\n"
     ]
    },
    {
     "name": "stderr",
     "output_type": "stream",
     "text": [
      " 22%|██▏       | 324/1500 [07:59<35:38,  1.82s/it]"
     ]
    },
    {
     "name": "stdout",
     "output_type": "stream",
     "text": [
      "[0, 4, 4, 0, 4, 4, 4, 4, 4, 4, 2000]\n",
      "[0, 0, 0, 0, 0, 0, 0, 0, 0, 0, 2000]\n",
      "[0, 0, 0, 0, 0, 0, 0, 0, 0, 0, 2000]\n"
     ]
    },
    {
     "name": "stderr",
     "output_type": "stream",
     "text": [
      "\r",
      " 22%|██▏       | 325/1500 [08:00<30:58,  1.58s/it]"
     ]
    },
    {
     "name": "stdout",
     "output_type": "stream",
     "text": [
      "[0, 4, 4, 4, 4, 4, 4, 4, 4, 4, 2000]\n",
      "[0, 0, 0, 0, 0, 4, 4, 0, 0, 0, 2000]\n",
      "[0, 0, 0, 0, 0, 0, 0, 0, 0, 0, 2000]\n"
     ]
    },
    {
     "name": "stderr",
     "output_type": "stream",
     "text": [
      " 22%|██▏       | 331/1500 [08:12<40:15,  2.07s/it]"
     ]
    },
    {
     "name": "stdout",
     "output_type": "stream",
     "text": [
      "[0, 0, 0, 0, 0, 0, 0, 0, 0, 0, 2000]\n"
     ]
    },
    {
     "name": "stderr",
     "output_type": "stream",
     "text": [
      "\r",
      " 22%|██▏       | 332/1500 [08:14<35:11,  1.81s/it]"
     ]
    },
    {
     "name": "stdout",
     "output_type": "stream",
     "text": [
      "[0, 0, 0, 0, 4, 0, 0, 0, 0, 0, 2000]\n"
     ]
    },
    {
     "name": "stderr",
     "output_type": "stream",
     "text": [
      " 22%|██▏       | 334/1500 [08:17<35:46,  1.84s/it]"
     ]
    },
    {
     "name": "stdout",
     "output_type": "stream",
     "text": [
      "[0, 4, 4, 4, 4, 0, 4, 4, 4, 4, 2000]\n",
      "[0, 0, 0, 0, 0, 4, 0, 0, 0, 0, 2000]\n",
      "[0, 0, 0, 0, 0, 0, 0, 0, 0, 0, 2000]\n",
      "[4, 4, 4, 0, 4, 0, 4, 4, 0, 0, 2000]\n",
      "[4, 4, 4, 4, 4, 4, 4, 4, 4, 4, 2000]\n",
      "[0, 0, 0, 0, 0, 4, 0, 0, 0, 0, 2000]\n"
     ]
    },
    {
     "name": "stderr",
     "output_type": "stream",
     "text": [
      "\r",
      " 22%|██▏       | 335/1500 [08:19<35:17,  1.82s/it]"
     ]
    },
    {
     "name": "stdout",
     "output_type": "stream",
     "text": [
      "[4, 0, 0, 0, 0, 0, 0, 0, 0, 0, 2000]\n"
     ]
    },
    {
     "name": "stderr",
     "output_type": "stream",
     "text": [
      "\r",
      " 22%|██▏       | 336/1500 [08:21<35:48,  1.85s/it]"
     ]
    },
    {
     "name": "stdout",
     "output_type": "stream",
     "text": [
      "[4, 0, 0, 0, 0, 0, 0, 0, 0, 0, 2000]\n"
     ]
    },
    {
     "name": "stderr",
     "output_type": "stream",
     "text": [
      " 23%|██▎       | 343/1500 [08:33<33:16,  1.73s/it]"
     ]
    },
    {
     "name": "stdout",
     "output_type": "stream",
     "text": [
      "[0, 0, 0, 0, 0, 0, 0, 0, 0, 0, 2000]\n"
     ]
    },
    {
     "name": "stderr",
     "output_type": "stream",
     "text": [
      "\r",
      " 23%|██▎       | 344/1500 [08:35<34:10,  1.77s/it]"
     ]
    },
    {
     "name": "stdout",
     "output_type": "stream",
     "text": [
      "[4, 4, 4, 0, 4, 4, 0, 4, 0, 0, 2000]\n",
      "[4, 4, 4, 4, 0, 4, 4, 0, 4, 0, 2000]\n",
      "[4, 4, 4, 0, 4, 4, 0, 4, 4, 4, 2000]\n",
      "[0, 4, 0, 0, 0, 0, 0, 0, 0, 0, 2000]\n"
     ]
    },
    {
     "name": "stderr",
     "output_type": "stream",
     "text": [
      " 23%|██▎       | 346/1500 [08:39<35:11,  1.83s/it]"
     ]
    },
    {
     "name": "stdout",
     "output_type": "stream",
     "text": [
      "[0, 0, 0, 0, 0, 0, 0, 0, 0, 0, 2000]\n"
     ]
    },
    {
     "name": "stderr",
     "output_type": "stream",
     "text": [
      "\r",
      " 23%|██▎       | 347/1500 [08:41<35:46,  1.86s/it]"
     ]
    },
    {
     "name": "stdout",
     "output_type": "stream",
     "text": [
      "[0, 0, 0, 0, 0, 0, 4, 0, 4, 0, 2000]\n",
      "[4, 0, 4, 0, 4, 4, 0, 4, 4, 0, 2000]\n",
      "[4, 0, 0, 0, 0, 4, 4, 0, 0, 4, 2000]\n",
      "[0, 0, 0, 0, 0, 0, 0, 0, 0, 0, 2000]\n",
      "[0, 0, 0, 4, 4, 0, 4, 0, 4, 4, 2000]\n"
     ]
    },
    {
     "name": "stderr",
     "output_type": "stream",
     "text": [
      "\r",
      " 23%|██▎       | 348/1500 [08:42<31:22,  1.63s/it]"
     ]
    },
    {
     "name": "stdout",
     "output_type": "stream",
     "text": [
      "[0, 4, 4, 4, 0, 4, 4, 0, 4, 4, 2000]\n"
     ]
    },
    {
     "name": "stderr",
     "output_type": "stream",
     "text": [
      " 23%|██▎       | 350/1500 [08:46<34:04,  1.78s/it]"
     ]
    },
    {
     "name": "stdout",
     "output_type": "stream",
     "text": [
      "[0, 0, 0, 0, 0, 0, 0, 0, 0, 0, 2000]\n",
      "[0, 0, 0, 0, 0, 0, 0, 0, 0, 0, 2000]\n",
      "[0, 0, 0, 0, 0, 0, 0, 0, 0, 0, 2000]\n"
     ]
    },
    {
     "name": "stderr",
     "output_type": "stream",
     "text": [
      " 24%|██▎       | 356/1500 [08:56<34:15,  1.80s/it]"
     ]
    },
    {
     "name": "stdout",
     "output_type": "stream",
     "text": [
      "[0, 0, 0, 0, 0, 0, 0, 0, 0, 0, 2000]\n"
     ]
    },
    {
     "name": "stderr",
     "output_type": "stream",
     "text": [
      " 24%|██▍       | 360/1500 [09:04<33:10,  1.75s/it]"
     ]
    },
    {
     "name": "stdout",
     "output_type": "stream",
     "text": [
      "[0, 0, 0, 0, 0, 0, 0, 0, 0, 0, 2000]\n",
      "[0, 0, 0, 0, 0, 0, 0, 0, 0, 0, 2000]\n"
     ]
    },
    {
     "name": "stderr",
     "output_type": "stream",
     "text": [
      " 24%|██▍       | 363/1500 [09:09<34:20,  1.81s/it]"
     ]
    },
    {
     "name": "stdout",
     "output_type": "stream",
     "text": [
      "[0, 0, 0, 0, 0, 0, 0, 0, 0, 0, 2000]\n",
      "[0, 0, 0, 0, 0, 0, 0, 0, 0, 0, 2000]\n"
     ]
    },
    {
     "name": "stderr",
     "output_type": "stream",
     "text": [
      " 24%|██▍       | 365/1500 [09:13<34:58,  1.85s/it]"
     ]
    },
    {
     "name": "stdout",
     "output_type": "stream",
     "text": [
      "[0, 0, 0, 0, 0, 0, 0, 0, 0, 0, 2000]\n"
     ]
    },
    {
     "name": "stderr",
     "output_type": "stream",
     "text": [
      " 25%|██▍       | 371/1500 [09:24<35:47,  1.90s/it]"
     ]
    },
    {
     "name": "stdout",
     "output_type": "stream",
     "text": [
      "[0, 0, 0, 0, 0, 0, 0, 4, 0, 0, 2000]\n"
     ]
    },
    {
     "name": "stderr",
     "output_type": "stream",
     "text": [
      "\r",
      " 25%|██▍       | 372/1500 [09:26<36:25,  1.94s/it]"
     ]
    },
    {
     "name": "stdout",
     "output_type": "stream",
     "text": [
      "[0, 4, 4, 0, 0, 0, 0, 0, 0, 0, 2000]\n",
      "[4, 0, 4, 4, 0, 4, 4, 4, 4, 4, 2000]\n",
      "[4, 0, 4, 4, 4, 0, 0, 4, 0, 4, 2000]\n",
      "[4, 4, 0, 4, 4, 4, 4, 4, 4, 4, 2000]\n",
      "[4, 4, 0, 0, 0, 4, 0, 0, 0, 0, 2000]\n",
      "[0, 0, 0, 0, 0, 0, 0, 0, 0, 4, 2000]\n",
      "[0, 0, 0, 0, 0, 0, 0, 0, 0, 0, 2000]\n",
      "[0, 4, 0, 0, 4, 0, 0, 0, 4, 4, 2000]\n",
      "[4, 0, 0, 4, 4, 4, 0, 0, 4, 4, 2000]\n"
     ]
    },
    {
     "name": "stderr",
     "output_type": "stream",
     "text": [
      "\r",
      " 25%|██▍       | 373/1500 [09:28<35:28,  1.89s/it]"
     ]
    },
    {
     "name": "stdout",
     "output_type": "stream",
     "text": [
      "[4, 4, 4, 4, 4, 4, 4, 4, 4, 4, 2000]\n",
      "[0, 0, 4, 4, 4, 0, 4, 4, 0, 0, 2000]\n",
      "[4, 4, 4, 4, 0, 4, 4, 4, 4, 4, 2000]\n",
      "[4, 4, 4, 4, 4, 4, 4, 4, 4, 4, 2000]\n",
      "[4, 4, 4, 4, 4, 4, 4, 4, 4, 4, 2000]\n"
     ]
    },
    {
     "name": "stderr",
     "output_type": "stream",
     "text": [
      "\r",
      " 25%|██▍       | 374/1500 [09:29<31:56,  1.70s/it]"
     ]
    },
    {
     "name": "stdout",
     "output_type": "stream",
     "text": [
      "[0, 0, 0, 0, 0, 0, 0, 0, 0, 0, 2000]\n"
     ]
    },
    {
     "name": "stderr",
     "output_type": "stream",
     "text": [
      " 25%|██▌       | 376/1500 [09:33<34:03,  1.82s/it]"
     ]
    },
    {
     "name": "stdout",
     "output_type": "stream",
     "text": [
      "[0, 0, 0, 0, 4, 0, 0, 0, 0, 0, 2000]\n"
     ]
    },
    {
     "name": "stderr",
     "output_type": "stream",
     "text": [
      " 25%|██▌       | 379/1500 [09:39<36:01,  1.93s/it]"
     ]
    },
    {
     "name": "stdout",
     "output_type": "stream",
     "text": [
      "[0, 0, 4, 0, 0, 0, 0, 0, 0, 0, 2000]\n"
     ]
    },
    {
     "name": "stderr",
     "output_type": "stream",
     "text": [
      "\r",
      " 25%|██▌       | 380/1500 [09:41<36:35,  1.96s/it]"
     ]
    },
    {
     "name": "stdout",
     "output_type": "stream",
     "text": [
      "[4, 4, 0, 4, 4, 0, 4, 4, 4, 4, 2000]\n",
      "[0, 4, 4, 4, 4, 4, 4, 4, 4, 4, 2000]\n",
      "[4, 4, 4, 4, 4, 4, 4, 4, 4, 4, 2000]\n",
      "[4, 4, 0, 0, 4, 0, 4, 4, 4, 0, 2000]\n",
      "[4, 0, 0, 4, 4, 4, 0, 4, 0, 4, 2000]\n",
      "[0, 4, 4, 0, 0, 0, 0, 4, 4, 0, 2000]\n",
      "[4, 0, 4, 4, 4, 4, 4, 4, 4, 4, 2000]\n",
      "[0, 4, 4, 4, 4, 4, 4, 0, 4, 0, 2000]\n",
      "[0, 4, 0, 4, 0, 4, 4, 4, 4, 0, 2000]\n",
      "[4, 4, 4, 4, 0, 4, 4, 0, 4, 4, 2000]\n",
      "[4, 0, 0, 4, 0, 0, 4, 4, 0, 4, 2000]\n",
      "[0, 0, 0, 0, 4, 0, 0, 0, 0, 0, 2000]\n"
     ]
    },
    {
     "name": "stderr",
     "output_type": "stream",
     "text": [
      " 26%|██▌       | 389/1500 [09:58<32:56,  1.78s/it]"
     ]
    },
    {
     "name": "stdout",
     "output_type": "stream",
     "text": [
      "[0, 0, 0, 0, 0, 0, 0, 0, 0, 0, 2000]\n"
     ]
    },
    {
     "name": "stderr",
     "output_type": "stream",
     "text": [
      " 26%|██▌       | 391/1500 [10:01<34:43,  1.88s/it]"
     ]
    },
    {
     "name": "stdout",
     "output_type": "stream",
     "text": [
      "[0, 0, 0, 4, 0, 0, 0, 0, 0, 0, 2000]\n",
      "[4, 4, 4, 4, 4, 4, 4, 0, 4, 4, 2000]\n",
      "[4, 0, 4, 4, 4, 4, 4, 4, 4, 0, 2000]\n",
      "[0, 4, 0, 4, 4, 4, 0, 4, 0, 0, 2000]\n",
      "[0, 0, 4, 0, 0, 0, 0, 0, 4, 0, 2000]\n",
      "[0, 0, 0, 0, 0, 0, 0, 0, 0, 4, 2000]\n",
      "[4, 4, 4, 4, 4, 4, 4, 4, 4, 4, 2000]\n"
     ]
    },
    {
     "name": "stderr",
     "output_type": "stream",
     "text": [
      "\r",
      " 26%|██▌       | 392/1500 [10:03<34:40,  1.88s/it]"
     ]
    },
    {
     "name": "stdout",
     "output_type": "stream",
     "text": [
      "[0, 0, 0, 0, 0, 4, 0, 4, 4, 4, 2000]\n",
      "[0, 0, 0, 0, 0, 0, 0, 0, 0, 0, 2000]\n"
     ]
    },
    {
     "name": "stderr",
     "output_type": "stream",
     "text": [
      " 26%|██▋       | 397/1500 [10:13<34:23,  1.87s/it]"
     ]
    },
    {
     "name": "stdout",
     "output_type": "stream",
     "text": [
      "[0, 4, 0, 0, 0, 0, 0, 0, 4, 0, 2000]\n"
     ]
    },
    {
     "name": "stderr",
     "output_type": "stream",
     "text": [
      "\r",
      " 27%|██▋       | 398/1500 [10:15<34:49,  1.90s/it]"
     ]
    },
    {
     "name": "stdout",
     "output_type": "stream",
     "text": [
      "[0, 0, 0, 0, 0, 0, 0, 0, 0, 0, 2000]\n"
     ]
    },
    {
     "name": "stderr",
     "output_type": "stream",
     "text": [
      " 27%|██▋       | 401/1500 [10:21<36:29,  1.99s/it]"
     ]
    },
    {
     "name": "stdout",
     "output_type": "stream",
     "text": [
      "[0, 0, 0, 0, 0, 0, 0, 0, 0, 0, 2000]\n"
     ]
    },
    {
     "name": "stderr",
     "output_type": "stream",
     "text": [
      "\r",
      " 27%|██▋       | 402/1500 [10:22<32:32,  1.78s/it]"
     ]
    },
    {
     "name": "stdout",
     "output_type": "stream",
     "text": [
      "[0, 0, 0, 0, 0, 0, 0, 0, 0, 0, 2000]\n",
      "[0, 0, 0, 0, 0, 0, 0, 0, 0, 0, 2000]\n"
     ]
    },
    {
     "name": "stderr",
     "output_type": "stream",
     "text": [
      " 27%|██▋       | 407/1500 [10:32<35:30,  1.95s/it]"
     ]
    },
    {
     "name": "stdout",
     "output_type": "stream",
     "text": [
      "[0, 0, 0, 0, 0, 0, 0, 0, 0, 0, 2000]\n"
     ]
    },
    {
     "name": "stderr",
     "output_type": "stream",
     "text": [
      " 27%|██▋       | 410/1500 [10:37<32:18,  1.78s/it]"
     ]
    },
    {
     "name": "stdout",
     "output_type": "stream",
     "text": [
      "[0, 0, 0, 0, 0, 0, 0, 0, 0, 0, 2000]\n"
     ]
    },
    {
     "name": "stderr",
     "output_type": "stream",
     "text": [
      "\r",
      " 27%|██▋       | 411/1500 [10:39<33:08,  1.83s/it]"
     ]
    },
    {
     "name": "stdout",
     "output_type": "stream",
     "text": [
      "[0, 0, 0, 0, 0, 0, 0, 0, 0, 0, 2000]\n"
     ]
    },
    {
     "name": "stderr",
     "output_type": "stream",
     "text": [
      "\r",
      " 27%|██▋       | 412/1500 [10:41<35:07,  1.94s/it]"
     ]
    },
    {
     "name": "stdout",
     "output_type": "stream",
     "text": [
      "[0, 0, 0, 0, 0, 0, 0, 0, 0, 0, 2000]\n"
     ]
    },
    {
     "name": "stderr",
     "output_type": "stream",
     "text": [
      " 28%|██▊       | 414/1500 [10:46<40:14,  2.22s/it]"
     ]
    },
    {
     "name": "stdout",
     "output_type": "stream",
     "text": [
      "[0, 0, 0, 0, 0, 0, 0, 0, 0, 0, 2000]\n",
      "[0, 0, 0, 0, 0, 0, 0, 0, 0, 0, 2000]\n"
     ]
    },
    {
     "name": "stderr",
     "output_type": "stream",
     "text": [
      "\r",
      " 28%|██▊       | 415/1500 [10:49<40:14,  2.23s/it]"
     ]
    },
    {
     "name": "stdout",
     "output_type": "stream",
     "text": [
      "[4, 4, 0, 0, 4, 0, 0, 0, 0, 4, 2000]\n",
      "[0, 4, 4, 4, 0, 4, 0, 4, 4, 0, 2000]\n",
      "[4, 0, 0, 0, 4, 4, 0, 0, 4, 0, 2000]\n",
      "[0, 0, 0, 0, 0, 4, 0, 4, 0, 0, 2000]\n",
      "[0, 4, 0, 0, 0, 4, 4, 4, 0, 0, 2000]\n",
      "[0, 0, 0, 0, 0, 0, 0, 0, 0, 0, 2000]\n"
     ]
    },
    {
     "name": "stderr",
     "output_type": "stream",
     "text": [
      " 28%|██▊       | 421/1500 [11:00<35:07,  1.95s/it]"
     ]
    },
    {
     "name": "stdout",
     "output_type": "stream",
     "text": [
      "[0, 0, 0, 0, 0, 0, 0, 0, 4, 0, 2000]\n",
      "[0, 0, 0, 0, 0, 0, 0, 4, 0, 4, 2000]\n",
      "[4, 0, 0, 0, 0, 0, 4, 0, 4, 4, 2000]\n",
      "[0, 4, 0, 4, 0, 4, 4, 4, 4, 0, 2000]\n",
      "[0, 0, 0, 0, 0, 0, 0, 0, 0, 0, 2000]\n",
      "[0, 0, 0, 0, 0, 0, 0, 0, 4, 0, 2000]\n",
      "[4, 4, 4, 4, 4, 4, 4, 4, 4, 4, 2000]\n",
      "[0, 0, 0, 0, 0, 0, 0, 0, 0, 0, 2000]\n"
     ]
    },
    {
     "name": "stderr",
     "output_type": "stream",
     "text": [
      " 28%|██▊       | 423/1500 [11:03<34:40,  1.93s/it]"
     ]
    },
    {
     "name": "stdout",
     "output_type": "stream",
     "text": [
      "[0, 0, 0, 0, 0, 0, 0, 0, 0, 0, 2000]\n"
     ]
    },
    {
     "name": "stderr",
     "output_type": "stream",
     "text": [
      " 28%|██▊       | 425/1500 [11:08<35:44,  1.99s/it]"
     ]
    },
    {
     "name": "stdout",
     "output_type": "stream",
     "text": [
      "[0, 0, 0, 0, 4, 0, 0, 0, 0, 0, 2000]\n"
     ]
    },
    {
     "name": "stderr",
     "output_type": "stream",
     "text": [
      " 28%|██▊       | 427/1500 [11:12<36:29,  2.04s/it]"
     ]
    },
    {
     "name": "stdout",
     "output_type": "stream",
     "text": [
      "[0, 0, 0, 0, 0, 0, 4, 0, 0, 0, 2000]\n"
     ]
    },
    {
     "name": "stderr",
     "output_type": "stream",
     "text": [
      " 29%|██▊       | 429/1500 [11:15<33:29,  1.88s/it]"
     ]
    },
    {
     "name": "stdout",
     "output_type": "stream",
     "text": [
      "[0, 0, 0, 0, 0, 0, 0, 0, 0, 0, 2000]\n"
     ]
    },
    {
     "name": "stderr",
     "output_type": "stream",
     "text": [
      "\r",
      " 29%|██▊       | 430/1500 [11:17<34:14,  1.92s/it]"
     ]
    },
    {
     "name": "stdout",
     "output_type": "stream",
     "text": [
      "[0, 0, 0, 0, 0, 0, 0, 0, 0, 0, 2000]\n"
     ]
    },
    {
     "name": "stderr",
     "output_type": "stream",
     "text": [
      "\r",
      " 29%|██▊       | 431/1500 [11:19<34:49,  1.95s/it]"
     ]
    },
    {
     "name": "stdout",
     "output_type": "stream",
     "text": [
      "[0, 0, 0, 0, 0, 0, 0, 0, 0, 0, 2000]\n",
      "[0, 0, 0, 0, 0, 0, 0, 0, 0, 0, 2000]\n"
     ]
    },
    {
     "name": "stderr",
     "output_type": "stream",
     "text": [
      " 29%|██▉       | 434/1500 [11:25<36:16,  2.04s/it]"
     ]
    },
    {
     "name": "stdout",
     "output_type": "stream",
     "text": [
      "[0, 0, 0, 0, 4, 0, 0, 4, 0, 4, 2000]\n",
      "[0, 0, 0, 4, 0, 0, 4, 0, 0, 4, 2000]\n",
      "[0, 0, 0, 4, 0, 0, 0, 0, 0, 0, 2000]\n",
      "[0, 0, 4, 0, 0, 4, 0, 0, 0, 0, 2000]\n",
      "[4, 4, 4, 0, 4, 4, 0, 4, 4, 4, 2000]\n",
      "[0, 0, 0, 4, 0, 0, 4, 4, 4, 4, 2000]\n"
     ]
    },
    {
     "name": "stderr",
     "output_type": "stream",
     "text": [
      "\r",
      " 29%|██▉       | 435/1500 [11:27<31:40,  1.78s/it]"
     ]
    },
    {
     "name": "stdout",
     "output_type": "stream",
     "text": [
      "[0, 0, 4, 0, 0, 0, 4, 0, 0, 0, 2000]\n"
     ]
    },
    {
     "name": "stderr",
     "output_type": "stream",
     "text": [
      " 29%|██▉       | 439/1500 [11:35<34:34,  1.96s/it]"
     ]
    },
    {
     "name": "stdout",
     "output_type": "stream",
     "text": [
      "[0, 0, 0, 0, 0, 0, 0, 0, 0, 0, 2000]\n"
     ]
    },
    {
     "name": "stderr",
     "output_type": "stream",
     "text": [
      " 29%|██▉       | 442/1500 [11:41<36:08,  2.05s/it]"
     ]
    },
    {
     "name": "stdout",
     "output_type": "stream",
     "text": [
      "[0, 0, 0, 0, 0, 0, 0, 0, 0, 0, 2000]\n"
     ]
    },
    {
     "name": "stderr",
     "output_type": "stream",
     "text": [
      "\r",
      " 30%|██▉       | 443/1500 [11:43<35:51,  2.04s/it]"
     ]
    },
    {
     "name": "stdout",
     "output_type": "stream",
     "text": [
      "[0, 0, 0, 0, 0, 0, 4, 0, 0, 0, 2000]\n"
     ]
    },
    {
     "name": "stderr",
     "output_type": "stream",
     "text": [
      "\r",
      " 30%|██▉       | 444/1500 [11:45<35:56,  2.04s/it]"
     ]
    },
    {
     "name": "stdout",
     "output_type": "stream",
     "text": [
      "[0, 0, 0, 0, 4, 0, 0, 0, 0, 0, 2000]\n"
     ]
    },
    {
     "name": "stderr",
     "output_type": "stream",
     "text": [
      "\r",
      " 30%|██▉       | 445/1500 [11:47<35:54,  2.04s/it]"
     ]
    },
    {
     "name": "stdout",
     "output_type": "stream",
     "text": [
      "[0, 0, 0, 0, 0, 0, 0, 0, 0, 4, 2000]\n",
      "[0, 0, 0, 0, 0, 0, 0, 0, 0, 0, 2000]\n"
     ]
    },
    {
     "name": "stderr",
     "output_type": "stream",
     "text": [
      " 30%|███       | 450/1500 [11:56<33:43,  1.93s/it]"
     ]
    },
    {
     "name": "stdout",
     "output_type": "stream",
     "text": [
      "[0, 0, 0, 0, 0, 0, 0, 0, 0, 0, 2000]\n"
     ]
    },
    {
     "name": "stderr",
     "output_type": "stream",
     "text": [
      " 30%|███       | 452/1500 [12:00<34:34,  1.98s/it]"
     ]
    },
    {
     "name": "stdout",
     "output_type": "stream",
     "text": [
      "[0, 0, 4, 0, 0, 4, 0, 0, 4, 4, 2000]\n",
      "[0, 4, 4, 0, 4, 4, 0, 0, 0, 4, 2000]\n",
      "[0, 4, 0, 4, 0, 4, 0, 4, 4, 0, 2000]\n",
      "[0, 0, 0, 0, 4, 0, 0, 0, 0, 0, 2000]\n",
      "[4, 4, 4, 0, 4, 4, 0, 0, 0, 0, 2000]\n",
      "[0, 0, 0, 0, 4, 0, 0, 4, 0, 0, 2000]\n",
      "[4, 0, 4, 0, 0, 4, 4, 4, 0, 0, 2000]\n"
     ]
    },
    {
     "name": "stderr",
     "output_type": "stream",
     "text": [
      "\r",
      " 30%|███       | 453/1500 [12:02<34:00,  1.95s/it]"
     ]
    },
    {
     "name": "stdout",
     "output_type": "stream",
     "text": [
      "[4, 4, 4, 0, 0, 4, 0, 4, 0, 4, 2000]\n",
      "[4, 4, 4, 4, 4, 0, 0, 0, 0, 0, 2000]\n",
      "[0, 0, 0, 0, 0, 0, 0, 0, 0, 0, 2000]\n"
     ]
    },
    {
     "name": "stderr",
     "output_type": "stream",
     "text": [
      " 30%|███       | 457/1500 [12:09<32:36,  1.88s/it]"
     ]
    },
    {
     "name": "stdout",
     "output_type": "stream",
     "text": [
      "[0, 0, 0, 0, 0, 0, 0, 0, 0, 0, 2000]\n"
     ]
    },
    {
     "name": "stderr",
     "output_type": "stream",
     "text": [
      " 31%|███       | 462/1500 [12:19<34:43,  2.01s/it]"
     ]
    },
    {
     "name": "stdout",
     "output_type": "stream",
     "text": [
      "[0, 0, 0, 0, 0, 0, 0, 0, 0, 4, 2000]\n",
      "[0, 0, 0, 0, 0, 0, 0, 0, 0, 0, 2000]\n"
     ]
    },
    {
     "name": "stderr",
     "output_type": "stream",
     "text": [
      " 31%|███▏      | 472/1500 [12:39<34:21,  2.01s/it]"
     ]
    },
    {
     "name": "stdout",
     "output_type": "stream",
     "text": [
      "[0, 0, 0, 0, 0, 0, 0, 0, 0, 0, 2000]\n",
      "[0, 0, 0, 0, 0, 0, 0, 0, 0, 0, 2000]\n"
     ]
    },
    {
     "name": "stderr",
     "output_type": "stream",
     "text": [
      " 32%|███▏      | 477/1500 [12:48<31:43,  1.86s/it]"
     ]
    },
    {
     "name": "stdout",
     "output_type": "stream",
     "text": [
      "[0, 4, 4, 4, 4, 4, 0, 0, 4, 4, 2000]\n",
      "[4, 4, 4, 4, 4, 4, 4, 4, 0, 4, 2000]\n",
      "[4, 4, 4, 4, 4, 4, 4, 0, 4, 0, 2000]\n",
      "[0, 0, 0, 4, 0, 0, 0, 4, 4, 0, 2000]\n",
      "[4, 4, 4, 4, 0, 0, 0, 4, 0, 4, 2000]\n",
      "[0, 0, 0, 0, 4, 4, 0, 4, 0, 0, 2000]\n",
      "[0, 4, 4, 4, 0, 4, 0, 0, 4, 0, 2000]\n",
      "[4, 4, 4, 4, 4, 4, 4, 0, 4, 0, 2000]\n"
     ]
    },
    {
     "name": "stderr",
     "output_type": "stream",
     "text": [
      "\r",
      " 32%|███▏      | 478/1500 [12:51<34:37,  2.03s/it]"
     ]
    },
    {
     "name": "stdout",
     "output_type": "stream",
     "text": [
      "[0, 0, 0, 0, 0, 0, 0, 0, 0, 0, 2000]\n"
     ]
    },
    {
     "name": "stderr",
     "output_type": "stream",
     "text": [
      "\r",
      " 32%|███▏      | 479/1500 [12:52<30:55,  1.82s/it]"
     ]
    },
    {
     "name": "stdout",
     "output_type": "stream",
     "text": [
      "[0, 0, 0, 0, 0, 0, 0, 0, 0, 0, 2000]\n",
      "[0, 0, 0, 0, 0, 0, 0, 0, 0, 0, 2000]\n"
     ]
    },
    {
     "name": "stderr",
     "output_type": "stream",
     "text": [
      " 32%|███▏      | 486/1500 [13:06<34:26,  2.04s/it]"
     ]
    },
    {
     "name": "stdout",
     "output_type": "stream",
     "text": [
      "[0, 0, 0, 0, 0, 0, 0, 0, 0, 0, 2000]\n"
     ]
    },
    {
     "name": "stderr",
     "output_type": "stream",
     "text": [
      "\r",
      " 32%|███▏      | 487/1500 [13:08<34:41,  2.05s/it]"
     ]
    },
    {
     "name": "stdout",
     "output_type": "stream",
     "text": [
      "[0, 0, 0, 0, 0, 0, 0, 0, 0, 0, 2000]\n",
      "[0, 0, 0, 0, 0, 0, 0, 0, 0, 0, 2000]\n"
     ]
    },
    {
     "name": "stderr",
     "output_type": "stream",
     "text": [
      " 33%|███▎      | 489/1500 [13:12<31:58,  1.90s/it]"
     ]
    },
    {
     "name": "stdout",
     "output_type": "stream",
     "text": [
      "[0, 0, 0, 0, 0, 0, 0, 0, 0, 0, 2000]\n",
      "[0, 0, 0, 0, 0, 0, 0, 4, 0, 0, 2000]\n",
      "[0, 4, 0, 4, 0, 0, 4, 0, 4, 4, 2000]\n",
      "[0, 0, 4, 4, 0, 0, 0, 0, 0, 4, 2000]\n",
      "[0, 4, 4, 0, 4, 0, 0, 4, 4, 0, 2000]\n",
      "[0, 4, 4, 4, 4, 4, 4, 4, 4, 4, 2000]\n",
      "[0, 0, 0, 0, 0, 0, 0, 0, 0, 0, 2000]\n",
      "[0, 0, 0, 0, 0, 0, 0, 0, 0, 0, 2000]\n"
     ]
    },
    {
     "name": "stderr",
     "output_type": "stream",
     "text": [
      "\r",
      " 33%|███▎      | 490/1500 [13:13<31:02,  1.84s/it]"
     ]
    },
    {
     "name": "stdout",
     "output_type": "stream",
     "text": [
      "[4, 4, 0, 4, 4, 0, 4, 4, 4, 4, 2000]\n",
      "[0, 0, 0, 0, 0, 0, 4, 0, 0, 4, 2000]\n",
      "[4, 0, 4, 4, 4, 0, 0, 4, 0, 0, 2000]\n",
      "[0, 0, 4, 4, 4, 0, 0, 4, 0, 4, 2000]\n",
      "[4, 0, 4, 4, 0, 4, 4, 4, 4, 4, 2000]\n"
     ]
    },
    {
     "name": "stderr",
     "output_type": "stream",
     "text": [
      " 33%|███▎      | 492/1500 [13:17<32:10,  1.92s/it]"
     ]
    },
    {
     "name": "stdout",
     "output_type": "stream",
     "text": [
      "[0, 4, 0, 4, 4, 4, 4, 4, 4, 4, 2000]\n",
      "[0, 0, 4, 0, 0, 0, 0, 0, 4, 0, 2000]\n",
      "[4, 4, 0, 0, 0, 4, 4, 4, 4, 4, 2000]\n",
      "[0, 4, 4, 4, 0, 4, 4, 4, 4, 0, 2000]\n",
      "[4, 4, 4, 4, 4, 4, 4, 0, 4, 4, 2000]\n",
      "[4, 4, 4, 4, 4, 4, 4, 4, 0, 4, 2000]\n"
     ]
    },
    {
     "name": "stderr",
     "output_type": "stream",
     "text": [
      " 33%|███▎      | 494/1500 [13:21<32:24,  1.93s/it]"
     ]
    },
    {
     "name": "stdout",
     "output_type": "stream",
     "text": [
      "[0, 0, 0, 0, 0, 0, 0, 0, 0, 0, 2000]\n"
     ]
    },
    {
     "name": "stderr",
     "output_type": "stream",
     "text": [
      " 33%|███▎      | 500/1500 [13:33<33:28,  2.01s/it]"
     ]
    },
    {
     "name": "stdout",
     "output_type": "stream",
     "text": [
      "[0, 0, 0, 0, 0, 0, 0, 0, 0, 0, 2000]\n"
     ]
    },
    {
     "name": "stderr",
     "output_type": "stream",
     "text": [
      "\r",
      " 33%|███▎      | 501/1500 [13:35<33:28,  2.01s/it]"
     ]
    },
    {
     "name": "stdout",
     "output_type": "stream",
     "text": [
      "[0, 0, 0, 0, 0, 0, 0, 0, 0, 0, 2000]\n"
     ]
    },
    {
     "name": "stderr",
     "output_type": "stream",
     "text": [
      "\r",
      " 33%|███▎      | 502/1500 [13:37<33:31,  2.02s/it]"
     ]
    },
    {
     "name": "stdout",
     "output_type": "stream",
     "text": [
      "[0, 0, 0, 0, 0, 0, 0, 0, 0, 0, 2000]\n",
      "[0, 0, 0, 0, 0, 0, 0, 0, 0, 0, 2000]\n",
      "[4, 0, 4, 0, 0, 0, 0, 0, 0, 0, 2000]\n",
      "[0, 0, 4, 4, 4, 0, 4, 4, 4, 4, 2000]\n",
      "[4, 4, 4, 4, 4, 4, 4, 4, 4, 4, 2000]\n"
     ]
    },
    {
     "name": "stderr",
     "output_type": "stream",
     "text": [
      " 34%|███▎      | 504/1500 [13:41<33:21,  2.01s/it]"
     ]
    },
    {
     "name": "stdout",
     "output_type": "stream",
     "text": [
      "[0, 0, 0, 0, 0, 0, 4, 0, 0, 0, 2000]\n",
      "[4, 4, 4, 0, 4, 0, 4, 0, 0, 0, 2000]\n",
      "[4, 0, 0, 0, 0, 0, 0, 4, 0, 0, 2000]\n",
      "[4, 4, 4, 4, 4, 4, 4, 0, 4, 0, 2000]\n",
      "[4, 4, 4, 0, 4, 4, 4, 4, 4, 4, 2000]\n",
      "[0, 0, 0, 0, 4, 4, 0, 0, 0, 4, 2000]\n",
      "[0, 0, 0, 0, 0, 0, 0, 0, 0, 0, 2000]\n",
      "[0, 0, 0, 0, 0, 0, 0, 0, 0, 0, 2000]\n"
     ]
    },
    {
     "name": "stderr",
     "output_type": "stream",
     "text": [
      " 34%|███▍      | 508/1500 [13:50<34:17,  2.07s/it]"
     ]
    },
    {
     "name": "stdout",
     "output_type": "stream",
     "text": [
      "[4, 0, 0, 0, 0, 0, 0, 0, 0, 0, 2000]\n"
     ]
    },
    {
     "name": "stderr",
     "output_type": "stream",
     "text": [
      " 34%|███▍      | 512/1500 [13:57<32:18,  1.96s/it]"
     ]
    },
    {
     "name": "stdout",
     "output_type": "stream",
     "text": [
      "[0, 0, 0, 0, 0, 0, 0, 0, 0, 0, 2000]\n",
      "[0, 0, 0, 0, 0, 0, 0, 0, 0, 0, 2000]\n"
     ]
    },
    {
     "name": "stderr",
     "output_type": "stream",
     "text": [
      "\r",
      " 34%|███▍      | 513/1500 [13:59<32:32,  1.98s/it]"
     ]
    },
    {
     "name": "stdout",
     "output_type": "stream",
     "text": [
      "[4, 4, 0, 0, 0, 0, 0, 4, 4, 4, 2000]\n",
      "[4, 4, 0, 4, 0, 0, 0, 4, 4, 4, 2000]\n",
      "[0, 0, 0, 0, 0, 0, 0, 0, 0, 0, 2000]\n",
      "[0, 0, 0, 4, 0, 0, 4, 4, 0, 0, 2000]\n"
     ]
    },
    {
     "name": "stderr",
     "output_type": "stream",
     "text": [
      "\r",
      " 34%|███▍      | 514/1500 [14:01<32:00,  1.95s/it]"
     ]
    },
    {
     "name": "stdout",
     "output_type": "stream",
     "text": [
      "[0, 0, 0, 0, 0, 0, 0, 0, 0, 0, 2000]\n"
     ]
    },
    {
     "name": "stderr",
     "output_type": "stream",
     "text": [
      "\r",
      " 34%|███▍      | 515/1500 [14:03<32:31,  1.98s/it]"
     ]
    },
    {
     "name": "stdout",
     "output_type": "stream",
     "text": [
      "[0, 4, 0, 0, 0, 0, 0, 0, 4, 0, 2000]\n",
      "[4, 0, 0, 4, 4, 4, 0, 0, 0, 0, 2000]\n"
     ]
    },
    {
     "name": "stderr",
     "output_type": "stream",
     "text": [
      "\r",
      " 34%|███▍      | 516/1500 [14:05<32:29,  1.98s/it]"
     ]
    },
    {
     "name": "stdout",
     "output_type": "stream",
     "text": [
      "[0, 0, 0, 0, 0, 0, 0, 4, 4, 0, 2000]\n",
      "[0, 0, 0, 0, 0, 0, 0, 0, 0, 0, 2000]\n",
      "[4, 0, 0, 0, 0, 0, 0, 0, 0, 0, 2000]\n"
     ]
    },
    {
     "name": "stderr",
     "output_type": "stream",
     "text": [
      " 35%|███▍      | 521/1500 [14:15<34:07,  2.09s/it]"
     ]
    },
    {
     "name": "stdout",
     "output_type": "stream",
     "text": [
      "[0, 0, 0, 0, 0, 0, 0, 0, 0, 0, 2000]\n",
      "[0, 0, 0, 0, 0, 0, 0, 0, 0, 0, 2000]\n"
     ]
    },
    {
     "name": "stderr",
     "output_type": "stream",
     "text": [
      " 35%|███▍      | 523/1500 [14:19<30:31,  1.87s/it]"
     ]
    },
    {
     "name": "stdout",
     "output_type": "stream",
     "text": [
      "[0, 0, 0, 0, 0, 0, 0, 0, 0, 0, 2000]\n"
     ]
    },
    {
     "name": "stderr",
     "output_type": "stream",
     "text": [
      "\r",
      " 35%|███▍      | 524/1500 [14:21<31:11,  1.92s/it]"
     ]
    },
    {
     "name": "stdout",
     "output_type": "stream",
     "text": [
      "[4, 4, 4, 4, 4, 4, 4, 4, 4, 4, 2000]\n",
      "[4, 0, 0, 0, 0, 0, 0, 0, 0, 0, 2000]\n",
      "[4, 0, 4, 4, 0, 0, 0, 4, 0, 0, 2000]\n",
      "[4, 0, 4, 0, 0, 0, 0, 0, 0, 4, 2000]\n"
     ]
    },
    {
     "name": "stderr",
     "output_type": "stream",
     "text": [
      "\r",
      " 35%|███▌      | 525/1500 [14:23<31:13,  1.92s/it]"
     ]
    },
    {
     "name": "stdout",
     "output_type": "stream",
     "text": [
      "[0, 4, 4, 4, 0, 0, 0, 0, 0, 4, 2000]\n"
     ]
    },
    {
     "name": "stderr",
     "output_type": "stream",
     "text": [
      "\r",
      " 35%|███▌      | 526/1500 [14:25<31:48,  1.96s/it]"
     ]
    },
    {
     "name": "stdout",
     "output_type": "stream",
     "text": [
      "[4, 0, 0, 0, 0, 0, 0, 0, 0, 0, 2000]\n"
     ]
    },
    {
     "name": "stderr",
     "output_type": "stream",
     "text": [
      " 35%|███▌      | 530/1500 [14:33<32:43,  2.02s/it]"
     ]
    },
    {
     "name": "stdout",
     "output_type": "stream",
     "text": [
      "[4, 4, 4, 4, 4, 4, 4, 4, 4, 0, 2000]\n",
      "[0, 0, 0, 0, 0, 0, 0, 4, 0, 0, 2000]\n",
      "[0, 0, 4, 0, 0, 0, 0, 4, 0, 0, 2000]\n"
     ]
    },
    {
     "name": "stderr",
     "output_type": "stream",
     "text": [
      "\r",
      " 35%|███▌      | 531/1500 [14:35<32:35,  2.02s/it]"
     ]
    },
    {
     "name": "stdout",
     "output_type": "stream",
     "text": [
      "[0, 0, 0, 0, 0, 0, 0, 0, 0, 0, 2000]\n"
     ]
    },
    {
     "name": "stderr",
     "output_type": "stream",
     "text": [
      "\r",
      " 35%|███▌      | 532/1500 [14:37<32:48,  2.03s/it]"
     ]
    },
    {
     "name": "stdout",
     "output_type": "stream",
     "text": [
      "[0, 0, 0, 0, 0, 0, 4, 0, 0, 0, 2000]\n"
     ]
    },
    {
     "name": "stderr",
     "output_type": "stream",
     "text": [
      " 36%|███▌      | 537/1500 [14:48<33:36,  2.09s/it]"
     ]
    },
    {
     "name": "stdout",
     "output_type": "stream",
     "text": [
      "[0, 0, 0, 0, 0, 0, 0, 0, 0, 0, 2000]\n"
     ]
    },
    {
     "name": "stderr",
     "output_type": "stream",
     "text": [
      "\r",
      " 36%|███▌      | 538/1500 [14:50<33:47,  2.11s/it]"
     ]
    },
    {
     "name": "stdout",
     "output_type": "stream",
     "text": [
      "[0, 0, 0, 0, 0, 0, 0, 0, 0, 0, 2000]\n"
     ]
    },
    {
     "name": "stderr",
     "output_type": "stream",
     "text": [
      " 37%|███▋      | 555/1500 [15:24<32:26,  2.06s/it]"
     ]
    },
    {
     "name": "stdout",
     "output_type": "stream",
     "text": [
      "[0, 0, 0, 0, 0, 0, 0, 0, 0, 0, 2000]\n",
      "[0, 0, 0, 0, 0, 0, 0, 0, 0, 0, 2000]\n"
     ]
    },
    {
     "name": "stderr",
     "output_type": "stream",
     "text": [
      "\r",
      " 37%|███▋      | 556/1500 [15:26<32:21,  2.06s/it]"
     ]
    },
    {
     "name": "stdout",
     "output_type": "stream",
     "text": [
      "[0, 0, 0, 0, 0, 0, 0, 0, 4, 0, 2000]\n"
     ]
    },
    {
     "name": "stderr",
     "output_type": "stream",
     "text": [
      "\r",
      " 37%|███▋      | 557/1500 [15:28<32:17,  2.05s/it]"
     ]
    },
    {
     "name": "stdout",
     "output_type": "stream",
     "text": [
      "[0, 0, 0, 0, 0, 0, 0, 0, 0, 0, 2000]\n",
      "[0, 0, 0, 0, 4, 0, 0, 0, 0, 0, 2000]\n",
      "[0, 0, 0, 0, 0, 0, 0, 0, 0, 0, 2000]\n",
      "[4, 4, 0, 4, 4, 4, 4, 0, 0, 4, 2000]\n",
      "[4, 4, 4, 4, 4, 4, 4, 4, 4, 4, 2000]\n",
      "[0, 0, 0, 0, 0, 0, 0, 0, 4, 0, 2000]\n",
      "[4, 0, 4, 0, 0, 0, 0, 0, 0, 0, 2000]\n",
      "[0, 0, 0, 0, 0, 0, 0, 0, 0, 0, 2000]\n"
     ]
    },
    {
     "name": "stderr",
     "output_type": "stream",
     "text": [
      " 38%|███▊      | 563/1500 [15:41<31:50,  2.04s/it]"
     ]
    },
    {
     "name": "stdout",
     "output_type": "stream",
     "text": [
      "[0, 0, 0, 0, 0, 0, 0, 0, 0, 0, 2000]\n"
     ]
    },
    {
     "name": "stderr",
     "output_type": "stream",
     "text": [
      " 38%|███▊      | 569/1500 [15:53<32:07,  2.07s/it]"
     ]
    },
    {
     "name": "stdout",
     "output_type": "stream",
     "text": [
      "[0, 4, 0, 0, 0, 0, 0, 0, 0, 0, 2000]\n"
     ]
    },
    {
     "name": "stderr",
     "output_type": "stream",
     "text": [
      " 38%|███▊      | 574/1500 [16:04<31:49,  2.06s/it]"
     ]
    },
    {
     "name": "stdout",
     "output_type": "stream",
     "text": [
      "[0, 0, 0, 0, 0, 0, 0, 0, 4, 0, 2000]\n"
     ]
    },
    {
     "name": "stderr",
     "output_type": "stream",
     "text": [
      " 39%|███▉      | 589/1500 [16:35<32:00,  2.11s/it]"
     ]
    },
    {
     "name": "stdout",
     "output_type": "stream",
     "text": [
      "[0, 0, 0, 0, 0, 0, 0, 0, 0, 4, 2000]\n",
      "[0, 0, 0, 0, 0, 0, 0, 0, 0, 4, 2000]\n"
     ]
    },
    {
     "name": "stderr",
     "output_type": "stream",
     "text": [
      " 39%|███▉      | 592/1500 [16:42<31:07,  2.06s/it]"
     ]
    },
    {
     "name": "stdout",
     "output_type": "stream",
     "text": [
      "[0, 0, 0, 0, 0, 0, 0, 0, 0, 0, 2000]\n",
      "[4, 4, 4, 4, 4, 4, 4, 0, 4, 4, 2000]\n",
      "[0, 4, 4, 0, 4, 4, 4, 4, 4, 4, 2000]\n"
     ]
    },
    {
     "name": "stderr",
     "output_type": "stream",
     "text": [
      " 40%|███▉      | 596/1500 [16:50<31:07,  2.07s/it]"
     ]
    },
    {
     "name": "stdout",
     "output_type": "stream",
     "text": [
      "[0, 0, 0, 0, 0, 4, 4, 0, 0, 4, 2000]\n"
     ]
    },
    {
     "name": "stderr",
     "output_type": "stream",
     "text": [
      " 40%|███▉      | 599/1500 [16:56<31:02,  2.07s/it]"
     ]
    },
    {
     "name": "stdout",
     "output_type": "stream",
     "text": [
      "[0, 0, 0, 0, 0, 0, 0, 0, 0, 0, 2000]\n"
     ]
    },
    {
     "name": "stderr",
     "output_type": "stream",
     "text": [
      " 40%|████      | 604/1500 [17:07<30:56,  2.07s/it]"
     ]
    },
    {
     "name": "stdout",
     "output_type": "stream",
     "text": [
      "[4, 0, 0, 0, 0, 0, 0, 0, 0, 0, 2000]\n"
     ]
    },
    {
     "name": "stderr",
     "output_type": "stream",
     "text": [
      "\r",
      " 40%|████      | 605/1500 [17:09<30:53,  2.07s/it]"
     ]
    },
    {
     "name": "stdout",
     "output_type": "stream",
     "text": [
      "[0, 0, 0, 0, 0, 0, 0, 0, 0, 0, 2000]\n",
      "[4, 4, 4, 4, 4, 4, 4, 4, 4, 4, 2000]\n",
      "[4, 0, 4, 0, 0, 0, 0, 0, 0, 0, 2000]\n",
      "[0, 0, 0, 0, 0, 0, 0, 0, 0, 0, 2000]\n"
     ]
    },
    {
     "name": "stderr",
     "output_type": "stream",
     "text": [
      "\r",
      " 40%|████      | 606/1500 [17:12<34:07,  2.29s/it]"
     ]
    },
    {
     "name": "stdout",
     "output_type": "stream",
     "text": [
      "[0, 0, 0, 4, 0, 4, 0, 0, 4, 0, 2000]\n",
      "[0, 4, 0, 0, 0, 0, 0, 4, 0, 0, 2000]\n",
      "[0, 0, 0, 0, 0, 0, 0, 0, 0, 0, 2000]\n"
     ]
    },
    {
     "name": "stderr",
     "output_type": "stream",
     "text": [
      " 41%|████      | 612/1500 [17:24<30:29,  2.06s/it]"
     ]
    },
    {
     "name": "stdout",
     "output_type": "stream",
     "text": [
      "[0, 0, 0, 4, 0, 0, 0, 0, 0, 0, 2000]\n",
      "[0, 0, 4, 4, 0, 0, 4, 4, 0, 4, 2000]\n",
      "[4, 4, 0, 4, 4, 4, 0, 4, 4, 4, 2000]\n",
      "[4, 4, 0, 4, 0, 0, 4, 4, 4, 4, 2000]\n",
      "[0, 0, 0, 4, 0, 4, 4, 0, 4, 0, 2000]\n",
      "[4, 4, 0, 0, 0, 0, 4, 0, 0, 0, 2000]\n",
      "[4, 4, 4, 4, 4, 4, 4, 4, 4, 4, 2000]\n",
      "[0, 4, 4, 4, 4, 4, 4, 4, 4, 0, 2000]\n",
      "[4, 0, 4, 4, 0, 4, 0, 0, 4, 4, 2000]\n",
      "[0, 4, 0, 0, 0, 0, 0, 0, 0, 4, 2000]\n",
      "[0, 0, 0, 0, 0, 0, 0, 0, 0, 0, 2000]\n"
     ]
    },
    {
     "name": "stderr",
     "output_type": "stream",
     "text": [
      "\r",
      " 41%|████      | 613/1500 [17:26<30:00,  2.03s/it]"
     ]
    },
    {
     "name": "stdout",
     "output_type": "stream",
     "text": [
      "[4, 0, 0, 0, 0, 0, 0, 0, 0, 0, 2000]\n",
      "[0, 0, 0, 4, 4, 0, 0, 0, 0, 0, 2000]\n",
      "[0, 0, 0, 0, 0, 0, 0, 0, 0, 0, 2000]\n"
     ]
    },
    {
     "name": "stderr",
     "output_type": "stream",
     "text": [
      " 41%|████      | 616/1500 [17:32<30:12,  2.05s/it]"
     ]
    },
    {
     "name": "stdout",
     "output_type": "stream",
     "text": [
      "[0, 0, 0, 0, 4, 0, 0, 0, 0, 0, 2000]\n",
      "[0, 4, 4, 4, 4, 4, 4, 4, 0, 4, 2000]\n",
      "[0, 4, 0, 0, 0, 0, 0, 0, 0, 0, 2000]\n"
     ]
    },
    {
     "name": "stderr",
     "output_type": "stream",
     "text": [
      "\r",
      " 41%|████      | 617/1500 [17:34<29:49,  2.03s/it]"
     ]
    },
    {
     "name": "stdout",
     "output_type": "stream",
     "text": [
      "[4, 0, 0, 0, 4, 4, 4, 0, 4, 4, 2000]\n",
      "[4, 4, 0, 0, 0, 4, 0, 4, 0, 0, 2000]\n",
      "[0, 0, 0, 0, 0, 0, 0, 4, 0, 0, 2000]\n"
     ]
    },
    {
     "name": "stderr",
     "output_type": "stream",
     "text": [
      " 41%|████▏     | 619/1500 [17:39<30:34,  2.08s/it]"
     ]
    },
    {
     "name": "stdout",
     "output_type": "stream",
     "text": [
      "[0, 0, 0, 0, 0, 0, 0, 0, 0, 0, 2000]\n"
     ]
    },
    {
     "name": "stderr",
     "output_type": "stream",
     "text": [
      " 41%|████▏     | 621/1500 [17:43<30:23,  2.07s/it]"
     ]
    },
    {
     "name": "stdout",
     "output_type": "stream",
     "text": [
      "[0, 0, 0, 0, 0, 0, 0, 0, 0, 0, 2000]\n"
     ]
    },
    {
     "name": "stderr",
     "output_type": "stream",
     "text": [
      " 42%|████▏     | 627/1500 [17:57<34:17,  2.36s/it]"
     ]
    },
    {
     "name": "stdout",
     "output_type": "stream",
     "text": [
      "[0, 0, 0, 0, 0, 0, 0, 0, 0, 0, 2000]\n"
     ]
    },
    {
     "name": "stderr",
     "output_type": "stream",
     "text": [
      " 42%|████▏     | 629/1500 [18:00<30:32,  2.10s/it]"
     ]
    },
    {
     "name": "stdout",
     "output_type": "stream",
     "text": [
      "[0, 0, 0, 0, 0, 0, 0, 0, 0, 0, 2000]\n"
     ]
    },
    {
     "name": "stderr",
     "output_type": "stream",
     "text": [
      " 42%|████▏     | 633/1500 [18:09<30:44,  2.13s/it]"
     ]
    },
    {
     "name": "stdout",
     "output_type": "stream",
     "text": [
      "[0, 0, 0, 0, 0, 4, 0, 4, 0, 0, 2000]\n"
     ]
    },
    {
     "name": "stderr",
     "output_type": "stream",
     "text": [
      "\r",
      " 42%|████▏     | 634/1500 [18:12<34:23,  2.38s/it]"
     ]
    },
    {
     "name": "stdout",
     "output_type": "stream",
     "text": [
      "[0, 0, 0, 0, 0, 0, 0, 0, 0, 0, 2000]\n",
      "[0, 0, 0, 4, 0, 0, 0, 0, 0, 4, 2000]\n"
     ]
    },
    {
     "name": "stderr",
     "output_type": "stream",
     "text": [
      " 42%|████▏     | 637/1500 [18:19<34:19,  2.39s/it]"
     ]
    },
    {
     "name": "stdout",
     "output_type": "stream",
     "text": [
      "[4, 0, 0, 0, 0, 0, 0, 0, 0, 0, 2000]\n"
     ]
    },
    {
     "name": "stderr",
     "output_type": "stream",
     "text": [
      "\r",
      " 43%|████▎     | 638/1500 [18:20<30:08,  2.10s/it]"
     ]
    },
    {
     "name": "stdout",
     "output_type": "stream",
     "text": [
      "[0, 0, 0, 0, 0, 0, 0, 0, 0, 0, 2000]\n"
     ]
    },
    {
     "name": "stderr",
     "output_type": "stream",
     "text": [
      " 43%|████▎     | 640/1500 [18:25<30:40,  2.14s/it]"
     ]
    },
    {
     "name": "stdout",
     "output_type": "stream",
     "text": [
      "[0, 0, 0, 0, 4, 0, 0, 0, 0, 0, 2000]\n"
     ]
    },
    {
     "name": "stderr",
     "output_type": "stream",
     "text": [
      "\r",
      " 43%|████▎     | 641/1500 [18:27<30:46,  2.15s/it]"
     ]
    },
    {
     "name": "stdout",
     "output_type": "stream",
     "text": [
      "[0, 0, 0, 0, 0, 0, 0, 0, 0, 0, 2000]\n",
      "[0, 0, 0, 0, 0, 4, 0, 0, 0, 0, 2000]\n"
     ]
    },
    {
     "name": "stderr",
     "output_type": "stream",
     "text": [
      "\r",
      " 43%|████▎     | 642/1500 [18:30<33:50,  2.37s/it]"
     ]
    },
    {
     "name": "stdout",
     "output_type": "stream",
     "text": [
      "[0, 0, 0, 0, 0, 0, 0, 0, 0, 0, 2000]\n"
     ]
    },
    {
     "name": "stderr",
     "output_type": "stream",
     "text": [
      "\r",
      " 43%|████▎     | 643/1500 [18:31<29:50,  2.09s/it]"
     ]
    },
    {
     "name": "stdout",
     "output_type": "stream",
     "text": [
      "[0, 0, 0, 0, 0, 0, 0, 0, 0, 0, 2000]\n"
     ]
    },
    {
     "name": "stderr",
     "output_type": "stream",
     "text": [
      "\r",
      " 43%|████▎     | 644/1500 [18:34<33:51,  2.37s/it]"
     ]
    },
    {
     "name": "stdout",
     "output_type": "stream",
     "text": [
      "[0, 0, 0, 0, 0, 0, 0, 0, 0, 0, 2000]\n"
     ]
    },
    {
     "name": "stderr",
     "output_type": "stream",
     "text": [
      " 43%|████▎     | 647/1500 [18:40<30:30,  2.15s/it]"
     ]
    },
    {
     "name": "stdout",
     "output_type": "stream",
     "text": [
      "[4, 0, 0, 0, 0, 0, 0, 0, 0, 0, 2000]\n"
     ]
    },
    {
     "name": "stderr",
     "output_type": "stream",
     "text": [
      " 43%|████▎     | 652/1500 [18:51<29:41,  2.10s/it]"
     ]
    },
    {
     "name": "stdout",
     "output_type": "stream",
     "text": [
      "[0, 0, 0, 0, 0, 0, 0, 0, 0, 0, 2000]\n"
     ]
    },
    {
     "name": "stderr",
     "output_type": "stream",
     "text": [
      "\r",
      " 44%|████▎     | 653/1500 [18:53<30:01,  2.13s/it]"
     ]
    },
    {
     "name": "stdout",
     "output_type": "stream",
     "text": [
      "[0, 0, 0, 0, 0, 0, 0, 0, 0, 0, 2000]\n",
      "[0, 0, 0, 0, 0, 0, 0, 0, 0, 0, 2000]\n"
     ]
    },
    {
     "name": "stderr",
     "output_type": "stream",
     "text": [
      " 44%|████▎     | 655/1500 [18:58<29:40,  2.11s/it]"
     ]
    },
    {
     "name": "stdout",
     "output_type": "stream",
     "text": [
      "[4, 0, 0, 0, 0, 0, 0, 0, 0, 0, 2000]\n"
     ]
    },
    {
     "name": "stderr",
     "output_type": "stream",
     "text": [
      "\r",
      " 44%|████▎     | 656/1500 [19:00<30:00,  2.13s/it]"
     ]
    },
    {
     "name": "stdout",
     "output_type": "stream",
     "text": [
      "[0, 4, 0, 0, 0, 0, 0, 0, 0, 0, 2000]\n"
     ]
    },
    {
     "name": "stderr",
     "output_type": "stream",
     "text": [
      "\r",
      " 44%|████▍     | 657/1500 [19:03<33:43,  2.40s/it]"
     ]
    },
    {
     "name": "stdout",
     "output_type": "stream",
     "text": [
      "[0, 0, 0, 0, 0, 0, 0, 0, 0, 0, 2000]\n"
     ]
    },
    {
     "name": "stderr",
     "output_type": "stream",
     "text": [
      " 44%|████▍     | 664/1500 [19:18<33:38,  2.41s/it]"
     ]
    },
    {
     "name": "stdout",
     "output_type": "stream",
     "text": [
      "[0, 0, 0, 0, 0, 0, 0, 0, 0, 0, 2000]\n"
     ]
    },
    {
     "name": "stderr",
     "output_type": "stream",
     "text": [
      " 45%|████▍     | 671/1500 [19:33<29:47,  2.16s/it]"
     ]
    },
    {
     "name": "stdout",
     "output_type": "stream",
     "text": [
      "[0, 0, 0, 0, 0, 0, 0, 0, 0, 0, 2000]\n"
     ]
    },
    {
     "name": "stderr",
     "output_type": "stream",
     "text": [
      " 45%|████▌     | 676/1500 [19:45<29:24,  2.14s/it]"
     ]
    },
    {
     "name": "stdout",
     "output_type": "stream",
     "text": [
      "[0, 0, 0, 0, 0, 0, 0, 0, 0, 0, 2000]\n"
     ]
    },
    {
     "name": "stderr",
     "output_type": "stream",
     "text": [
      "\r",
      " 45%|████▌     | 677/1500 [19:47<29:35,  2.16s/it]"
     ]
    },
    {
     "name": "stdout",
     "output_type": "stream",
     "text": [
      "[0, 0, 0, 0, 0, 0, 0, 0, 0, 0, 2000]\n"
     ]
    },
    {
     "name": "stderr",
     "output_type": "stream",
     "text": [
      " 45%|████▌     | 682/1500 [19:58<29:28,  2.16s/it]"
     ]
    },
    {
     "name": "stdout",
     "output_type": "stream",
     "text": [
      "[0, 0, 0, 0, 0, 0, 0, 0, 0, 0, 2000]\n"
     ]
    },
    {
     "name": "stderr",
     "output_type": "stream",
     "text": [
      "\r",
      " 46%|████▌     | 683/1500 [20:01<33:03,  2.43s/it]"
     ]
    },
    {
     "name": "stdout",
     "output_type": "stream",
     "text": [
      "[0, 0, 0, 0, 0, 0, 0, 0, 0, 0, 2000]\n"
     ]
    },
    {
     "name": "stderr",
     "output_type": "stream",
     "text": [
      " 46%|████▌     | 688/1500 [20:12<33:09,  2.45s/it]"
     ]
    },
    {
     "name": "stdout",
     "output_type": "stream",
     "text": [
      "[4, 4, 4, 4, 4, 4, 4, 4, 4, 4, 2000]\n",
      "[0, 4, 4, 4, 4, 4, 0, 4, 4, 4, 2000]\n",
      "[4, 4, 0, 0, 0, 4, 4, 4, 4, 4, 2000]\n",
      "[4, 4, 4, 0, 4, 4, 4, 4, 4, 4, 2000]\n",
      "[4, 4, 4, 4, 4, 4, 4, 4, 4, 4, 2000]\n",
      "[0, 0, 4, 4, 4, 0, 0, 0, 0, 4, 2000]\n",
      "[0, 0, 4, 4, 4, 0, 4, 4, 0, 4, 2000]\n",
      "[0, 0, 0, 0, 0, 0, 0, 0, 0, 0, 2000]\n",
      "[0, 0, 0, 0, 0, 0, 0, 0, 0, 0, 2000]\n"
     ]
    },
    {
     "name": "stderr",
     "output_type": "stream",
     "text": [
      " 46%|████▌     | 693/1500 [20:24<32:48,  2.44s/it]"
     ]
    },
    {
     "name": "stdout",
     "output_type": "stream",
     "text": [
      "[0, 0, 4, 0, 0, 0, 0, 0, 0, 0, 2000]\n"
     ]
    },
    {
     "name": "stderr",
     "output_type": "stream",
     "text": [
      "\r",
      " 46%|████▋     | 694/1500 [20:25<28:55,  2.15s/it]"
     ]
    },
    {
     "name": "stdout",
     "output_type": "stream",
     "text": [
      "[0, 0, 0, 0, 0, 0, 0, 0, 0, 0, 2000]\n"
     ]
    },
    {
     "name": "stderr",
     "output_type": "stream",
     "text": [
      "\r",
      " 46%|████▋     | 695/1500 [20:28<32:48,  2.44s/it]"
     ]
    },
    {
     "name": "stdout",
     "output_type": "stream",
     "text": [
      "[0, 0, 0, 0, 0, 0, 0, 0, 0, 0, 2000]\n"
     ]
    },
    {
     "name": "stderr",
     "output_type": "stream",
     "text": [
      " 47%|████▋     | 698/1500 [20:34<28:55,  2.16s/it]"
     ]
    },
    {
     "name": "stdout",
     "output_type": "stream",
     "text": [
      "[0, 0, 0, 0, 0, 0, 0, 0, 0, 0, 2000]\n"
     ]
    },
    {
     "name": "stderr",
     "output_type": "stream",
     "text": [
      "\r",
      " 47%|████▋     | 699/1500 [20:37<29:10,  2.19s/it]"
     ]
    },
    {
     "name": "stdout",
     "output_type": "stream",
     "text": [
      "[0, 0, 0, 0, 0, 0, 0, 0, 4, 0, 2000]\n"
     ]
    },
    {
     "name": "stderr",
     "output_type": "stream",
     "text": [
      "\r",
      " 47%|████▋     | 700/1500 [20:40<32:57,  2.47s/it]"
     ]
    },
    {
     "name": "stdout",
     "output_type": "stream",
     "text": [
      "[0, 4, 0, 0, 0, 0, 0, 0, 0, 0, 2000]\n"
     ]
    },
    {
     "name": "stderr",
     "output_type": "stream",
     "text": [
      " 47%|████▋     | 706/1500 [20:53<28:38,  2.16s/it]"
     ]
    },
    {
     "name": "stdout",
     "output_type": "stream",
     "text": [
      "[0, 4, 0, 0, 0, 0, 0, 0, 0, 0, 2000]\n"
     ]
    },
    {
     "name": "stderr",
     "output_type": "stream",
     "text": [
      " 47%|████▋     | 711/1500 [21:04<28:36,  2.18s/it]"
     ]
    },
    {
     "name": "stdout",
     "output_type": "stream",
     "text": [
      "[0, 4, 0, 0, 0, 0, 0, 0, 0, 0, 2000]\n"
     ]
    },
    {
     "name": "stderr",
     "output_type": "stream",
     "text": [
      "\r",
      " 47%|████▋     | 712/1500 [21:07<32:17,  2.46s/it]"
     ]
    },
    {
     "name": "stdout",
     "output_type": "stream",
     "text": [
      "[4, 0, 0, 4, 0, 4, 4, 0, 0, 4, 2000]\n",
      "[0, 0, 0, 0, 4, 0, 4, 0, 4, 0, 2000]\n",
      "[0, 0, 0, 0, 0, 0, 0, 0, 0, 0, 2000]\n",
      "[0, 0, 0, 0, 0, 0, 0, 0, 4, 0, 2000]\n",
      "[0, 0, 0, 0, 0, 4, 0, 0, 4, 0, 2000]\n",
      "[4, 0, 4, 4, 0, 0, 0, 0, 0, 0, 2000]\n",
      "[4, 4, 4, 4, 4, 4, 4, 4, 4, 4, 2000]\n",
      "[4, 4, 4, 4, 4, 4, 4, 4, 4, 4, 2000]\n",
      "[4, 4, 0, 0, 0, 0, 0, 0, 4, 0, 2000]\n",
      "[4, 0, 0, 0, 0, 0, 0, 0, 0, 0, 2000]\n",
      "[0, 4, 0, 4, 4, 4, 4, 4, 0, 0, 2000]\n",
      "[4, 0, 4, 0, 4, 4, 0, 0, 0, 4, 2000]\n",
      "[0, 0, 4, 4, 4, 0, 4, 0, 0, 0, 2000]\n"
     ]
    },
    {
     "name": "stderr",
     "output_type": "stream",
     "text": [
      " 48%|████▊     | 716/1500 [21:16<31:58,  2.45s/it]"
     ]
    },
    {
     "name": "stdout",
     "output_type": "stream",
     "text": [
      "[0, 0, 0, 0, 0, 0, 0, 0, 0, 0, 2000]\n"
     ]
    },
    {
     "name": "stderr",
     "output_type": "stream",
     "text": [
      "\r",
      " 48%|████▊     | 717/1500 [21:18<28:15,  2.16s/it]"
     ]
    },
    {
     "name": "stdout",
     "output_type": "stream",
     "text": [
      "[0, 0, 0, 0, 4, 0, 0, 0, 0, 0, 2000]\n"
     ]
    },
    {
     "name": "stderr",
     "output_type": "stream",
     "text": [
      " 48%|████▊     | 719/1500 [21:23<32:10,  2.47s/it]"
     ]
    },
    {
     "name": "stdout",
     "output_type": "stream",
     "text": [
      "[0, 0, 0, 0, 0, 0, 0, 0, 0, 0, 2000]\n",
      "[0, 0, 0, 0, 0, 0, 0, 0, 0, 4, 2000]\n"
     ]
    },
    {
     "name": "stderr",
     "output_type": "stream",
     "text": [
      "\r",
      " 48%|████▊     | 720/1500 [21:25<28:21,  2.18s/it]"
     ]
    },
    {
     "name": "stdout",
     "output_type": "stream",
     "text": [
      "[4, 4, 0, 0, 0, 0, 0, 0, 0, 0, 2000]\n",
      "[4, 4, 4, 0, 4, 0, 4, 4, 4, 4, 2000]\n"
     ]
    },
    {
     "name": "stderr",
     "output_type": "stream",
     "text": [
      "\r",
      " 48%|████▊     | 721/1500 [21:28<31:39,  2.44s/it]"
     ]
    },
    {
     "name": "stdout",
     "output_type": "stream",
     "text": [
      "[0, 0, 0, 0, 0, 0, 0, 0, 0, 0, 2000]\n",
      "[0, 0, 0, 0, 0, 0, 0, 0, 0, 4, 2000]\n"
     ]
    },
    {
     "name": "stderr",
     "output_type": "stream",
     "text": [
      " 48%|████▊     | 723/1500 [21:32<31:38,  2.44s/it]"
     ]
    },
    {
     "name": "stdout",
     "output_type": "stream",
     "text": [
      "[0, 0, 0, 0, 0, 0, 0, 0, 0, 0, 2000]\n"
     ]
    },
    {
     "name": "stderr",
     "output_type": "stream",
     "text": [
      "\r",
      " 48%|████▊     | 724/1500 [21:34<28:00,  2.17s/it]"
     ]
    },
    {
     "name": "stdout",
     "output_type": "stream",
     "text": [
      "[0, 0, 0, 0, 0, 0, 0, 0, 0, 0, 2000]\n"
     ]
    },
    {
     "name": "stderr",
     "output_type": "stream",
     "text": [
      " 48%|████▊     | 727/1500 [21:42<31:52,  2.47s/it]"
     ]
    },
    {
     "name": "stdout",
     "output_type": "stream",
     "text": [
      "[4, 0, 0, 0, 4, 0, 4, 0, 0, 4, 2000]\n"
     ]
    },
    {
     "name": "stderr",
     "output_type": "stream",
     "text": [
      " 49%|████▊     | 729/1500 [21:47<31:53,  2.48s/it]"
     ]
    },
    {
     "name": "stdout",
     "output_type": "stream",
     "text": [
      "[4, 0, 0, 0, 0, 0, 0, 0, 0, 0, 2000]\n"
     ]
    },
    {
     "name": "stderr",
     "output_type": "stream",
     "text": [
      " 49%|████▊     | 731/1500 [21:51<31:51,  2.49s/it]"
     ]
    },
    {
     "name": "stdout",
     "output_type": "stream",
     "text": [
      "[0, 4, 0, 0, 0, 0, 0, 0, 0, 0, 2000]\n"
     ]
    },
    {
     "name": "stderr",
     "output_type": "stream",
     "text": [
      " 49%|████▉     | 735/1500 [22:00<28:07,  2.21s/it]"
     ]
    },
    {
     "name": "stdout",
     "output_type": "stream",
     "text": [
      "[0, 0, 0, 4, 0, 0, 0, 0, 0, 0, 2000]\n"
     ]
    },
    {
     "name": "stderr",
     "output_type": "stream",
     "text": [
      " 49%|████▉     | 738/1500 [22:07<31:32,  2.48s/it]"
     ]
    },
    {
     "name": "stdout",
     "output_type": "stream",
     "text": [
      "[0, 0, 0, 0, 0, 0, 0, 0, 0, 0, 2000]\n"
     ]
    },
    {
     "name": "stderr",
     "output_type": "stream",
     "text": [
      " 49%|████▉     | 740/1500 [22:12<31:29,  2.49s/it]"
     ]
    },
    {
     "name": "stdout",
     "output_type": "stream",
     "text": [
      "[0, 0, 0, 0, 0, 0, 0, 0, 0, 0, 2000]\n",
      "[0, 0, 0, 0, 0, 0, 0, 0, 0, 0, 2000]\n"
     ]
    },
    {
     "name": "stderr",
     "output_type": "stream",
     "text": [
      " 50%|████▉     | 744/1500 [22:21<31:20,  2.49s/it]"
     ]
    },
    {
     "name": "stdout",
     "output_type": "stream",
     "text": [
      "[0, 0, 0, 0, 0, 0, 0, 0, 0, 0, 2000]\n",
      "[0, 0, 0, 0, 0, 0, 0, 0, 0, 4, 2000]\n",
      "[0, 4, 4, 4, 4, 4, 4, 4, 0, 4, 2000]\n"
     ]
    },
    {
     "name": "stderr",
     "output_type": "stream",
     "text": [
      "\r",
      " 50%|████▉     | 745/1500 [22:23<27:21,  2.17s/it]"
     ]
    },
    {
     "name": "stdout",
     "output_type": "stream",
     "text": [
      "[4, 4, 0, 0, 4, 0, 0, 4, 0, 0, 2000]\n",
      "[4, 0, 0, 4, 0, 0, 4, 0, 4, 0, 2000]\n",
      "[4, 4, 4, 4, 4, 4, 4, 4, 4, 4, 2000]\n",
      "[0, 0, 4, 4, 4, 4, 4, 4, 0, 4, 2000]\n",
      "[4, 4, 0, 4, 0, 4, 4, 4, 4, 0, 2000]\n",
      "[4, 0, 0, 0, 0, 0, 0, 0, 0, 0, 2000]\n"
     ]
    },
    {
     "name": "stderr",
     "output_type": "stream",
     "text": [
      "\r",
      " 50%|████▉     | 746/1500 [22:26<30:12,  2.40s/it]"
     ]
    },
    {
     "name": "stdout",
     "output_type": "stream",
     "text": [
      "[4, 0, 4, 4, 0, 4, 4, 4, 4, 4, 2000]\n",
      "[0, 4, 0, 4, 4, 0, 4, 4, 4, 0, 2000]\n"
     ]
    },
    {
     "name": "stderr",
     "output_type": "stream",
     "text": [
      "\r",
      " 50%|████▉     | 747/1500 [22:27<26:51,  2.14s/it]"
     ]
    },
    {
     "name": "stdout",
     "output_type": "stream",
     "text": [
      "[0, 0, 0, 0, 0, 0, 0, 0, 4, 0, 2000]\n",
      "[4, 0, 0, 0, 0, 0, 0, 0, 0, 0, 2000]\n"
     ]
    },
    {
     "name": "stderr",
     "output_type": "stream",
     "text": [
      " 50%|█████     | 753/1500 [22:42<27:28,  2.21s/it]"
     ]
    },
    {
     "name": "stdout",
     "output_type": "stream",
     "text": [
      "[0, 0, 0, 0, 0, 0, 0, 0, 0, 0, 2000]\n"
     ]
    },
    {
     "name": "stderr",
     "output_type": "stream",
     "text": [
      " 51%|█████     | 767/1500 [23:15<27:21,  2.24s/it]"
     ]
    },
    {
     "name": "stdout",
     "output_type": "stream",
     "text": [
      "[0, 0, 0, 0, 0, 0, 0, 0, 0, 0, 2000]\n",
      "[0, 0, 0, 0, 4, 0, 0, 0, 0, 0, 2000]\n",
      "[0, 0, 0, 0, 0, 0, 0, 0, 0, 0, 2000]\n"
     ]
    },
    {
     "name": "stderr",
     "output_type": "stream",
     "text": [
      " 51%|█████▏    | 769/1500 [23:20<30:27,  2.50s/it]"
     ]
    },
    {
     "name": "stdout",
     "output_type": "stream",
     "text": [
      "[0, 0, 0, 0, 0, 0, 0, 0, 0, 0, 2000]\n"
     ]
    },
    {
     "name": "stderr",
     "output_type": "stream",
     "text": [
      " 51%|█████▏    | 772/1500 [23:27<27:02,  2.23s/it]"
     ]
    },
    {
     "name": "stdout",
     "output_type": "stream",
     "text": [
      "[0, 0, 0, 0, 0, 0, 0, 0, 0, 0, 2000]\n"
     ]
    },
    {
     "name": "stderr",
     "output_type": "stream",
     "text": [
      " 52%|█████▏    | 780/1500 [23:46<26:48,  2.23s/it]"
     ]
    },
    {
     "name": "stdout",
     "output_type": "stream",
     "text": [
      "[4, 4, 4, 4, 4, 4, 4, 4, 4, 4, 2000]\n",
      "[4, 4, 4, 4, 4, 4, 0, 4, 4, 4, 2000]\n",
      "[4, 4, 4, 4, 4, 4, 4, 4, 4, 4, 2000]\n",
      "[0, 0, 0, 0, 4, 0, 0, 0, 0, 0, 2000]\n",
      "[4, 4, 4, 4, 4, 4, 4, 4, 4, 4, 2000]\n",
      "[0, 0, 0, 0, 0, 0, 0, 0, 0, 0, 2000]\n"
     ]
    },
    {
     "name": "stderr",
     "output_type": "stream",
     "text": [
      "\r",
      " 52%|█████▏    | 781/1500 [23:49<30:00,  2.50s/it]"
     ]
    },
    {
     "name": "stdout",
     "output_type": "stream",
     "text": [
      "[0, 0, 0, 0, 0, 0, 0, 0, 0, 0, 2000]\n",
      "[4, 0, 0, 0, 0, 0, 0, 0, 0, 0, 2000]\n"
     ]
    },
    {
     "name": "stderr",
     "output_type": "stream",
     "text": [
      "\r",
      " 52%|█████▏    | 782/1500 [23:51<26:32,  2.22s/it]"
     ]
    },
    {
     "name": "stdout",
     "output_type": "stream",
     "text": [
      "[0, 0, 4, 0, 0, 0, 0, 0, 0, 0, 2000]\n",
      "[0, 0, 0, 0, 4, 0, 0, 0, 0, 0, 2000]\n"
     ]
    },
    {
     "name": "stderr",
     "output_type": "stream",
     "text": [
      " 52%|█████▏    | 784/1500 [23:55<26:41,  2.24s/it]"
     ]
    },
    {
     "name": "stdout",
     "output_type": "stream",
     "text": [
      "[0, 0, 4, 0, 0, 0, 0, 0, 0, 0, 2000]\n"
     ]
    },
    {
     "name": "stderr",
     "output_type": "stream",
     "text": [
      "\r",
      " 52%|█████▏    | 785/1500 [23:59<30:21,  2.55s/it]"
     ]
    },
    {
     "name": "stdout",
     "output_type": "stream",
     "text": [
      "[0, 0, 0, 0, 0, 0, 0, 0, 4, 0, 2000]\n",
      "[4, 0, 4, 4, 4, 4, 4, 4, 4, 4, 2000]\n",
      "[4, 4, 4, 4, 4, 4, 0, 4, 4, 4, 2000]\n",
      "[0, 0, 0, 0, 0, 0, 0, 0, 0, 0, 2000]\n",
      "[0, 0, 0, 0, 0, 0, 0, 0, 0, 0, 2000]\n",
      "[4, 4, 4, 4, 4, 4, 4, 0, 4, 0, 2000]\n",
      "[4, 0, 0, 0, 4, 0, 0, 4, 4, 4, 2000]\n",
      "[0, 0, 4, 4, 0, 4, 0, 0, 0, 0, 2000]\n",
      "[4, 4, 4, 4, 4, 4, 4, 4, 4, 4, 2000]\n",
      "[4, 4, 4, 4, 4, 4, 4, 4, 4, 4, 2000]\n"
     ]
    },
    {
     "name": "stderr",
     "output_type": "stream",
     "text": [
      " 53%|█████▎    | 790/1500 [24:10<26:34,  2.25s/it]"
     ]
    },
    {
     "name": "stdout",
     "output_type": "stream",
     "text": [
      "[0, 0, 0, 0, 0, 0, 0, 0, 0, 0, 2000]\n"
     ]
    },
    {
     "name": "stderr",
     "output_type": "stream",
     "text": [
      " 53%|█████▎    | 792/1500 [24:14<26:38,  2.26s/it]"
     ]
    },
    {
     "name": "stdout",
     "output_type": "stream",
     "text": [
      "[0, 0, 0, 4, 0, 0, 0, 0, 0, 0, 2000]\n"
     ]
    },
    {
     "name": "stderr",
     "output_type": "stream",
     "text": [
      " 53%|█████▎    | 795/1500 [24:23<30:14,  2.57s/it]"
     ]
    },
    {
     "name": "stdout",
     "output_type": "stream",
     "text": [
      "[0, 0, 0, 0, 0, 0, 0, 0, 0, 0, 2000]\n"
     ]
    },
    {
     "name": "stderr",
     "output_type": "stream",
     "text": [
      "\r",
      " 53%|█████▎    | 796/1500 [24:24<26:17,  2.24s/it]"
     ]
    },
    {
     "name": "stdout",
     "output_type": "stream",
     "text": [
      "[0, 0, 0, 0, 0, 0, 0, 0, 0, 0, 2000]\n"
     ]
    },
    {
     "name": "stderr",
     "output_type": "stream",
     "text": [
      "\r",
      " 53%|█████▎    | 797/1500 [24:27<29:55,  2.55s/it]"
     ]
    },
    {
     "name": "stdout",
     "output_type": "stream",
     "text": [
      "[0, 0, 0, 0, 0, 0, 0, 0, 0, 0, 2000]\n",
      "[4, 0, 0, 0, 0, 0, 0, 0, 0, 0, 2000]\n"
     ]
    },
    {
     "name": "stderr",
     "output_type": "stream",
     "text": [
      " 53%|█████▎    | 799/1500 [24:32<29:58,  2.57s/it]"
     ]
    },
    {
     "name": "stdout",
     "output_type": "stream",
     "text": [
      "[0, 0, 0, 0, 0, 0, 4, 4, 0, 0, 2000]\n"
     ]
    },
    {
     "name": "stderr",
     "output_type": "stream",
     "text": [
      "\r",
      " 53%|█████▎    | 800/1500 [24:34<26:23,  2.26s/it]"
     ]
    },
    {
     "name": "stdout",
     "output_type": "stream",
     "text": [
      "[0, 0, 0, 0, 0, 0, 0, 0, 0, 0, 2000]\n"
     ]
    },
    {
     "name": "stderr",
     "output_type": "stream",
     "text": [
      " 54%|█████▍    | 808/1500 [24:53<26:23,  2.29s/it]"
     ]
    },
    {
     "name": "stdout",
     "output_type": "stream",
     "text": [
      "[0, 0, 0, 0, 0, 0, 0, 0, 0, 0, 2000]\n"
     ]
    },
    {
     "name": "stderr",
     "output_type": "stream",
     "text": [
      "\r",
      " 54%|█████▍    | 809/1500 [24:57<29:49,  2.59s/it]"
     ]
    },
    {
     "name": "stdout",
     "output_type": "stream",
     "text": [
      "[0, 0, 0, 0, 0, 0, 0, 0, 4, 0, 2000]\n"
     ]
    },
    {
     "name": "stderr",
     "output_type": "stream",
     "text": [
      " 54%|█████▍    | 811/1500 [25:01<26:29,  2.31s/it]"
     ]
    },
    {
     "name": "stdout",
     "output_type": "stream",
     "text": [
      "[0, 0, 0, 0, 0, 0, 0, 0, 0, 0, 2000]\n"
     ]
    },
    {
     "name": "stderr",
     "output_type": "stream",
     "text": [
      "\r",
      " 54%|█████▍    | 812/1500 [25:04<29:41,  2.59s/it]"
     ]
    },
    {
     "name": "stdout",
     "output_type": "stream",
     "text": [
      "[0, 0, 0, 0, 0, 0, 0, 0, 0, 0, 2000]\n",
      "[4, 4, 4, 4, 4, 4, 4, 0, 0, 4, 2000]\n",
      "[0, 0, 0, 4, 4, 4, 4, 4, 0, 0, 2000]\n",
      "[0, 4, 4, 0, 0, 4, 4, 0, 4, 4, 2000]\n",
      "[0, 4, 4, 4, 4, 0, 4, 4, 4, 0, 2000]\n",
      "[0, 4, 4, 0, 4, 0, 0, 0, 0, 0, 2000]\n",
      "[4, 4, 4, 4, 4, 4, 4, 4, 4, 4, 2000]\n",
      "[4, 4, 4, 4, 4, 4, 4, 4, 4, 4, 2000]\n",
      "[0, 0, 0, 0, 0, 0, 0, 0, 0, 0, 2000]\n"
     ]
    },
    {
     "name": "stderr",
     "output_type": "stream",
     "text": [
      " 54%|█████▍    | 815/1500 [25:11<28:52,  2.53s/it]"
     ]
    },
    {
     "name": "stdout",
     "output_type": "stream",
     "text": [
      "[4, 0, 0, 0, 0, 0, 4, 0, 4, 0, 2000]\n",
      "[0, 0, 0, 0, 0, 0, 0, 0, 0, 0, 2000]\n"
     ]
    },
    {
     "name": "stderr",
     "output_type": "stream",
     "text": [
      " 54%|█████▍    | 817/1500 [25:16<28:44,  2.53s/it]"
     ]
    },
    {
     "name": "stdout",
     "output_type": "stream",
     "text": [
      "[0, 0, 0, 0, 0, 0, 0, 0, 0, 4, 2000]\n"
     ]
    },
    {
     "name": "stderr",
     "output_type": "stream",
     "text": [
      " 55%|█████▍    | 819/1500 [25:20<25:27,  2.24s/it]"
     ]
    },
    {
     "name": "stdout",
     "output_type": "stream",
     "text": [
      "[0, 4, 0, 0, 0, 4, 4, 0, 4, 4, 2000]\n",
      "[0, 0, 4, 0, 4, 4, 0, 4, 4, 0, 2000]\n",
      "[4, 4, 4, 4, 4, 0, 0, 0, 4, 0, 2000]\n",
      "[0, 0, 0, 0, 0, 0, 0, 0, 0, 0, 2000]\n",
      "[0, 0, 0, 4, 4, 4, 0, 0, 4, 0, 2000]\n",
      "[0, 0, 0, 0, 0, 0, 0, 0, 0, 0, 2000]\n"
     ]
    },
    {
     "name": "stderr",
     "output_type": "stream",
     "text": [
      "\r",
      " 55%|█████▍    | 820/1500 [25:23<28:23,  2.51s/it]"
     ]
    },
    {
     "name": "stdout",
     "output_type": "stream",
     "text": [
      "[4, 4, 4, 0, 4, 0, 4, 4, 4, 4, 2000]\n"
     ]
    },
    {
     "name": "stderr",
     "output_type": "stream",
     "text": [
      " 55%|█████▍    | 822/1500 [25:28<28:54,  2.56s/it]"
     ]
    },
    {
     "name": "stdout",
     "output_type": "stream",
     "text": [
      "[0, 0, 0, 0, 0, 0, 0, 0, 0, 0, 2000]\n"
     ]
    },
    {
     "name": "stderr",
     "output_type": "stream",
     "text": [
      " 55%|█████▌    | 828/1500 [25:42<25:28,  2.27s/it]"
     ]
    },
    {
     "name": "stdout",
     "output_type": "stream",
     "text": [
      "[0, 0, 0, 0, 0, 0, 0, 0, 0, 0, 2000]\n"
     ]
    },
    {
     "name": "stderr",
     "output_type": "stream",
     "text": [
      " 55%|█████▌    | 831/1500 [25:50<29:05,  2.61s/it]"
     ]
    },
    {
     "name": "stdout",
     "output_type": "stream",
     "text": [
      "[0, 0, 0, 4, 0, 0, 0, 0, 0, 0, 2000]\n",
      "[4, 4, 4, 0, 4, 4, 4, 4, 0, 0, 2000]\n",
      "[0, 0, 0, 0, 0, 4, 0, 0, 0, 4, 2000]\n",
      "[4, 4, 4, 4, 4, 4, 4, 4, 0, 4, 2000]\n",
      "[4, 4, 4, 4, 4, 4, 4, 4, 4, 4, 2000]\n",
      "[4, 4, 0, 4, 4, 4, 4, 4, 4, 4, 2000]\n",
      "[4, 4, 4, 4, 0, 0, 0, 0, 4, 4, 2000]\n",
      "[0, 0, 0, 0, 0, 0, 0, 0, 0, 0, 2000]\n"
     ]
    },
    {
     "name": "stderr",
     "output_type": "stream",
     "text": [
      " 56%|█████▌    | 835/1500 [26:00<28:41,  2.59s/it]"
     ]
    },
    {
     "name": "stdout",
     "output_type": "stream",
     "text": [
      "[0, 0, 0, 0, 0, 0, 0, 0, 0, 0, 2000]\n",
      "[0, 0, 0, 0, 0, 0, 4, 0, 0, 0, 2000]\n"
     ]
    },
    {
     "name": "stderr",
     "output_type": "stream",
     "text": [
      " 56%|█████▌    | 841/1500 [26:15<28:39,  2.61s/it]"
     ]
    },
    {
     "name": "stdout",
     "output_type": "stream",
     "text": [
      "[0, 0, 0, 0, 0, 0, 0, 0, 0, 0, 2000]\n",
      "[0, 0, 0, 0, 0, 0, 0, 0, 0, 0, 2000]\n"
     ]
    },
    {
     "name": "stderr",
     "output_type": "stream",
     "text": [
      "\r",
      " 56%|█████▌    | 842/1500 [26:16<25:13,  2.30s/it]"
     ]
    },
    {
     "name": "stdout",
     "output_type": "stream",
     "text": [
      "[4, 0, 0, 0, 0, 0, 0, 0, 0, 0, 2000]\n",
      "[4, 0, 0, 0, 0, 0, 0, 0, 4, 4, 2000]\n",
      "[0, 0, 4, 0, 0, 0, 0, 0, 0, 0, 2000]\n",
      "[4, 4, 4, 0, 4, 0, 0, 0, 0, 4, 2000]\n",
      "[0, 0, 0, 0, 0, 4, 4, 0, 0, 0, 2000]\n",
      "[4, 4, 4, 4, 4, 4, 4, 4, 4, 4, 2000]\n",
      "[4, 4, 0, 4, 4, 4, 4, 4, 0, 4, 2000]\n",
      "[4, 4, 4, 4, 4, 4, 4, 0, 4, 4, 2000]\n",
      "[0, 0, 0, 0, 4, 0, 0, 0, 0, 0, 2000]\n"
     ]
    },
    {
     "name": "stderr",
     "output_type": "stream",
     "text": [
      " 57%|█████▋    | 850/1500 [26:36<25:08,  2.32s/it]"
     ]
    },
    {
     "name": "stdout",
     "output_type": "stream",
     "text": [
      "[0, 0, 0, 4, 0, 0, 0, 0, 0, 0, 2000]\n",
      "[4, 0, 0, 0, 0, 0, 0, 0, 0, 0, 2000]\n",
      "[4, 4, 4, 4, 4, 4, 4, 4, 0, 4, 2000]\n",
      "[4, 4, 4, 4, 4, 4, 4, 4, 4, 4, 2000]\n",
      "[4, 4, 4, 4, 4, 4, 4, 4, 4, 4, 2000]\n",
      "[4, 4, 4, 4, 4, 4, 4, 4, 4, 4, 2000]\n",
      "[0, 0, 0, 0, 0, 0, 0, 4, 4, 0, 2000]\n",
      "[4, 4, 4, 4, 4, 4, 4, 4, 4, 4, 2000]\n",
      "[0, 4, 4, 4, 4, 4, 4, 4, 0, 4, 2000]\n",
      "[4, 4, 4, 4, 0, 4, 0, 0, 4, 4, 2000]\n",
      "[0, 0, 0, 0, 4, 0, 0, 0, 0, 0, 2000]\n",
      "[0, 4, 0, 4, 0, 4, 4, 4, 0, 0, 2000]\n",
      "[0, 0, 0, 0, 0, 0, 0, 0, 0, 0, 2000]\n"
     ]
    },
    {
     "name": "stderr",
     "output_type": "stream",
     "text": [
      " 57%|█████▋    | 853/1500 [26:44<28:02,  2.60s/it]"
     ]
    },
    {
     "name": "stdout",
     "output_type": "stream",
     "text": [
      "[0, 0, 0, 0, 0, 0, 0, 0, 0, 0, 2000]\n"
     ]
    },
    {
     "name": "stderr",
     "output_type": "stream",
     "text": [
      " 57%|█████▋    | 856/1500 [26:52<28:14,  2.63s/it]"
     ]
    },
    {
     "name": "stdout",
     "output_type": "stream",
     "text": [
      "[0, 0, 0, 0, 0, 0, 0, 0, 0, 0, 2000]\n"
     ]
    },
    {
     "name": "stderr",
     "output_type": "stream",
     "text": [
      " 57%|█████▋    | 860/1500 [27:01<24:42,  2.32s/it]"
     ]
    },
    {
     "name": "stdout",
     "output_type": "stream",
     "text": [
      "[0, 0, 0, 0, 0, 0, 0, 0, 0, 0, 2000]\n",
      "[0, 4, 4, 4, 4, 4, 4, 0, 4, 4, 2000]\n",
      "[4, 4, 0, 4, 4, 4, 4, 4, 0, 4, 2000]\n",
      "[0, 0, 0, 0, 0, 0, 0, 0, 0, 0, 2000]\n"
     ]
    },
    {
     "name": "stderr",
     "output_type": "stream",
     "text": [
      "\r",
      " 57%|█████▋    | 861/1500 [27:04<27:45,  2.61s/it]"
     ]
    },
    {
     "name": "stdout",
     "output_type": "stream",
     "text": [
      "[0, 0, 0, 0, 0, 0, 0, 0, 0, 0, 2000]\n"
     ]
    },
    {
     "name": "stderr",
     "output_type": "stream",
     "text": [
      " 58%|█████▊    | 864/1500 [27:12<27:47,  2.62s/it]"
     ]
    },
    {
     "name": "stdout",
     "output_type": "stream",
     "text": [
      "[4, 0, 4, 0, 4, 0, 0, 0, 0, 0, 2000]\n",
      "[0, 0, 4, 0, 0, 0, 0, 4, 0, 0, 2000]\n",
      "[0, 0, 0, 0, 4, 4, 0, 0, 0, 4, 2000]\n",
      "[0, 0, 0, 0, 0, 0, 0, 0, 0, 0, 2000]\n"
     ]
    },
    {
     "name": "stderr",
     "output_type": "stream",
     "text": [
      " 58%|█████▊    | 870/1500 [27:26<24:21,  2.32s/it]"
     ]
    },
    {
     "name": "stdout",
     "output_type": "stream",
     "text": [
      "[0, 0, 4, 0, 0, 0, 0, 0, 0, 0, 2000]\n"
     ]
    },
    {
     "name": "stderr",
     "output_type": "stream",
     "text": [
      " 58%|█████▊    | 872/1500 [27:32<27:30,  2.63s/it]"
     ]
    },
    {
     "name": "stdout",
     "output_type": "stream",
     "text": [
      "[0, 0, 0, 0, 0, 0, 0, 0, 0, 0, 2000]\n",
      "[0, 0, 0, 0, 4, 0, 0, 4, 0, 0, 2000]\n",
      "[0, 0, 0, 0, 0, 0, 0, 0, 0, 0, 2000]\n"
     ]
    },
    {
     "name": "stderr",
     "output_type": "stream",
     "text": [
      "\r",
      " 58%|█████▊    | 873/1500 [27:33<23:58,  2.29s/it]"
     ]
    },
    {
     "name": "stdout",
     "output_type": "stream",
     "text": [
      "[0, 0, 0, 0, 0, 0, 0, 0, 0, 0, 2000]\n"
     ]
    },
    {
     "name": "stderr",
     "output_type": "stream",
     "text": [
      "\r",
      " 58%|█████▊    | 874/1500 [27:37<27:20,  2.62s/it]"
     ]
    },
    {
     "name": "stdout",
     "output_type": "stream",
     "text": [
      "[0, 0, 0, 0, 0, 0, 0, 0, 0, 0, 2000]\n"
     ]
    },
    {
     "name": "stderr",
     "output_type": "stream",
     "text": [
      "\r",
      " 58%|█████▊    | 875/1500 [27:39<27:12,  2.61s/it]"
     ]
    },
    {
     "name": "stdout",
     "output_type": "stream",
     "text": [
      "[0, 0, 0, 0, 0, 0, 0, 0, 0, 0, 2000]\n"
     ]
    },
    {
     "name": "stderr",
     "output_type": "stream",
     "text": [
      "\r",
      " 58%|█████▊    | 876/1500 [27:41<24:03,  2.31s/it]"
     ]
    },
    {
     "name": "stdout",
     "output_type": "stream",
     "text": [
      "[0, 0, 0, 0, 0, 0, 0, 0, 0, 0, 2000]\n"
     ]
    },
    {
     "name": "stderr",
     "output_type": "stream",
     "text": [
      " 59%|█████▊    | 880/1500 [27:52<27:26,  2.66s/it]"
     ]
    },
    {
     "name": "stdout",
     "output_type": "stream",
     "text": [
      "[0, 0, 0, 0, 4, 0, 0, 0, 0, 0, 2000]\n",
      "[0, 0, 0, 0, 0, 0, 0, 0, 0, 4, 2000]\n",
      "[0, 0, 0, 0, 0, 0, 0, 4, 0, 0, 2000]\n",
      "[4, 0, 0, 0, 0, 0, 0, 0, 0, 0, 2000]\n",
      "[0, 0, 0, 0, 0, 0, 0, 0, 0, 0, 2000]\n",
      "[0, 0, 0, 0, 0, 0, 0, 0, 0, 0, 2000]\n",
      "[0, 4, 4, 0, 4, 0, 4, 4, 4, 0, 2000]\n",
      "[0, 0, 0, 0, 0, 0, 0, 0, 0, 0, 2000]\n"
     ]
    },
    {
     "name": "stderr",
     "output_type": "stream",
     "text": [
      "\r",
      " 59%|█████▊    | 881/1500 [27:54<23:44,  2.30s/it]"
     ]
    },
    {
     "name": "stdout",
     "output_type": "stream",
     "text": [
      "[4, 4, 0, 0, 4, 4, 0, 4, 4, 4, 2000]\n",
      "[4, 0, 4, 0, 0, 4, 4, 4, 4, 4, 2000]\n",
      "[0, 4, 0, 0, 4, 4, 4, 0, 0, 4, 2000]\n",
      "[4, 4, 0, 4, 4, 4, 4, 4, 4, 4, 2000]\n",
      "[4, 4, 4, 4, 4, 4, 4, 0, 4, 4, 2000]\n",
      "[0, 0, 4, 4, 0, 0, 0, 0, 0, 0, 2000]\n",
      "[0, 0, 0, 0, 4, 0, 0, 4, 0, 4, 2000]\n"
     ]
    },
    {
     "name": "stderr",
     "output_type": "stream",
     "text": [
      " 60%|█████▉    | 894/1500 [28:27<27:04,  2.68s/it]"
     ]
    },
    {
     "name": "stdout",
     "output_type": "stream",
     "text": [
      "[0, 4, 0, 0, 0, 0, 0, 0, 0, 0, 2000]\n"
     ]
    },
    {
     "name": "stderr",
     "output_type": "stream",
     "text": [
      " 60%|█████▉    | 896/1500 [28:32<23:42,  2.36s/it]"
     ]
    },
    {
     "name": "stdout",
     "output_type": "stream",
     "text": [
      "[0, 0, 0, 0, 0, 0, 0, 0, 0, 0, 2000]\n"
     ]
    },
    {
     "name": "stderr",
     "output_type": "stream",
     "text": [
      " 60%|█████▉    | 899/1500 [28:39<23:42,  2.37s/it]"
     ]
    },
    {
     "name": "stdout",
     "output_type": "stream",
     "text": [
      "[4, 0, 0, 0, 0, 0, 0, 0, 0, 0, 2000]\n"
     ]
    },
    {
     "name": "stderr",
     "output_type": "stream",
     "text": [
      "\r",
      " 60%|██████    | 900/1500 [28:43<26:49,  2.68s/it]"
     ]
    },
    {
     "name": "stdout",
     "output_type": "stream",
     "text": [
      "[0, 0, 0, 0, 0, 0, 0, 0, 0, 0, 2000]\n"
     ]
    },
    {
     "name": "stderr",
     "output_type": "stream",
     "text": [
      " 60%|██████    | 904/1500 [28:53<26:44,  2.69s/it]"
     ]
    },
    {
     "name": "stdout",
     "output_type": "stream",
     "text": [
      "[0, 0, 0, 0, 0, 0, 0, 0, 0, 0, 2000]\n"
     ]
    },
    {
     "name": "stderr",
     "output_type": "stream",
     "text": [
      " 61%|██████    | 910/1500 [29:09<26:34,  2.70s/it]"
     ]
    },
    {
     "name": "stdout",
     "output_type": "stream",
     "text": [
      "[0, 0, 0, 0, 0, 0, 0, 0, 0, 0, 2000]\n",
      "[0, 0, 0, 0, 0, 0, 0, 0, 0, 4, 2000]\n"
     ]
    },
    {
     "name": "stderr",
     "output_type": "stream",
     "text": [
      "\r",
      " 61%|██████    | 911/1500 [29:10<23:24,  2.38s/it]"
     ]
    },
    {
     "name": "stdout",
     "output_type": "stream",
     "text": [
      "[4, 4, 4, 4, 4, 0, 4, 4, 4, 4, 2000]\n",
      "[4, 4, 4, 4, 4, 4, 0, 4, 0, 0, 2000]\n",
      "[0, 4, 4, 4, 4, 4, 4, 4, 4, 4, 2000]\n",
      "[0, 0, 0, 0, 0, 0, 0, 0, 0, 4, 2000]\n",
      "[0, 0, 0, 0, 0, 0, 0, 0, 4, 0, 2000]\n",
      "[0, 0, 0, 0, 0, 0, 0, 0, 0, 0, 2000]\n",
      "[4, 4, 4, 4, 4, 0, 4, 4, 0, 0, 2000]\n",
      "[0, 4, 0, 0, 4, 4, 4, 4, 0, 4, 2000]\n",
      "[4, 4, 4, 4, 4, 4, 4, 0, 4, 0, 2000]\n",
      "[0, 4, 0, 0, 4, 0, 0, 0, 0, 0, 2000]\n",
      "[0, 0, 0, 0, 0, 0, 0, 0, 0, 0, 2000]\n",
      "[0, 0, 0, 0, 0, 0, 0, 0, 0, 4, 2000]\n"
     ]
    },
    {
     "name": "stderr",
     "output_type": "stream",
     "text": [
      " 61%|██████    | 915/1500 [29:21<22:53,  2.35s/it]"
     ]
    },
    {
     "name": "stdout",
     "output_type": "stream",
     "text": [
      "[4, 4, 4, 0, 4, 4, 4, 0, 4, 0, 2000]\n",
      "[0, 0, 0, 4, 4, 0, 0, 0, 0, 0, 2000]\n",
      "[4, 4, 4, 4, 4, 4, 4, 4, 0, 0, 2000]\n",
      "[4, 4, 4, 4, 0, 4, 0, 4, 0, 0, 2000]\n",
      "[4, 4, 0, 4, 0, 0, 4, 4, 0, 4, 2000]\n",
      "[0, 0, 0, 0, 0, 0, 0, 0, 0, 0, 2000]\n",
      "[0, 0, 0, 4, 0, 4, 4, 4, 0, 0, 2000]\n"
     ]
    },
    {
     "name": "stderr",
     "output_type": "stream",
     "text": [
      "\r",
      " 61%|██████    | 916/1500 [29:24<25:49,  2.65s/it]"
     ]
    },
    {
     "name": "stdout",
     "output_type": "stream",
     "text": [
      "[4, 4, 4, 4, 4, 4, 4, 4, 4, 4, 2000]\n",
      "[4, 4, 4, 4, 4, 4, 4, 4, 4, 4, 2000]\n",
      "[4, 4, 4, 4, 4, 4, 4, 0, 4, 4, 2000]\n",
      "[4, 4, 4, 4, 4, 4, 4, 0, 4, 4, 2000]\n",
      "[0, 4, 4, 4, 4, 4, 0, 4, 4, 4, 2000]\n",
      "[4, 4, 0, 4, 4, 4, 4, 4, 4, 0, 2000]\n",
      "[0, 0, 0, 0, 0, 0, 0, 0, 0, 0, 2000]\n",
      "[0, 0, 0, 0, 0, 0, 0, 0, 0, 0, 2000]\n",
      "[4, 4, 4, 0, 0, 4, 0, 4, 4, 4, 2000]\n",
      "[0, 0, 0, 0, 4, 0, 0, 0, 4, 4, 2000]\n",
      "[0, 0, 0, 0, 0, 0, 0, 0, 4, 0, 2000]\n",
      "[0, 0, 4, 0, 0, 0, 0, 0, 4, 0, 2000]\n",
      "[0, 4, 0, 4, 0, 4, 4, 4, 0, 4, 2000]\n",
      "[4, 4, 4, 0, 4, 0, 4, 4, 4, 0, 2000]\n",
      "[0, 0, 0, 0, 0, 0, 0, 0, 0, 0, 2000]\n",
      "[4, 0, 0, 0, 0, 0, 0, 0, 0, 4, 2000]\n"
     ]
    },
    {
     "name": "stderr",
     "output_type": "stream",
     "text": [
      " 61%|██████▏   | 920/1500 [29:34<24:40,  2.55s/it]"
     ]
    },
    {
     "name": "stdout",
     "output_type": "stream",
     "text": [
      "[4, 4, 4, 0, 0, 4, 0, 4, 4, 4, 2000]\n",
      "[4, 4, 4, 4, 4, 4, 0, 4, 4, 4, 2000]\n",
      "[4, 4, 0, 0, 0, 4, 0, 4, 0, 0, 2000]\n",
      "[4, 0, 0, 0, 0, 0, 0, 0, 0, 0, 2000]\n",
      "[4, 4, 0, 0, 0, 4, 0, 0, 4, 4, 2000]\n",
      "[0, 4, 0, 0, 4, 4, 4, 0, 4, 0, 2000]\n",
      "[0, 4, 4, 4, 4, 4, 4, 4, 4, 0, 2000]\n",
      "[0, 0, 4, 4, 0, 4, 4, 0, 0, 4, 2000]\n",
      "[4, 4, 4, 4, 0, 0, 0, 4, 4, 0, 2000]\n",
      "[0, 4, 0, 0, 4, 4, 4, 0, 0, 4, 2000]\n",
      "[0, 0, 0, 4, 0, 0, 0, 4, 0, 0, 2000]\n",
      "[4, 4, 4, 4, 4, 4, 4, 4, 4, 4, 2000]\n",
      "[4, 0, 4, 4, 4, 4, 4, 4, 4, 4, 2000]\n",
      "[4, 0, 0, 4, 0, 4, 0, 4, 0, 0, 2000]\n",
      "[4, 4, 4, 0, 4, 0, 0, 0, 4, 4, 2000]\n",
      "[0, 0, 0, 0, 0, 0, 0, 4, 0, 4, 2000]\n",
      "[0, 0, 0, 0, 0, 0, 0, 0, 0, 0, 2000]\n"
     ]
    },
    {
     "name": "stderr",
     "output_type": "stream",
     "text": [
      " 61%|██████▏   | 922/1500 [29:38<21:32,  2.24s/it]"
     ]
    },
    {
     "name": "stdout",
     "output_type": "stream",
     "text": [
      "[0, 0, 0, 0, 0, 0, 0, 0, 0, 0, 2000]\n"
     ]
    },
    {
     "name": "stderr",
     "output_type": "stream",
     "text": [
      "\r",
      " 62%|██████▏   | 923/1500 [29:41<25:00,  2.60s/it]"
     ]
    },
    {
     "name": "stdout",
     "output_type": "stream",
     "text": [
      "[0, 0, 0, 0, 0, 0, 0, 4, 0, 0, 2000]\n",
      "[4, 4, 4, 4, 4, 4, 4, 4, 4, 4, 2000]\n",
      "[4, 4, 4, 4, 4, 4, 4, 4, 4, 4, 2000]\n",
      "[0, 0, 0, 0, 0, 0, 0, 0, 0, 0, 2000]\n",
      "[0, 0, 0, 0, 0, 4, 0, 0, 0, 0, 2000]\n"
     ]
    },
    {
     "name": "stderr",
     "output_type": "stream",
     "text": [
      "\r",
      " 62%|██████▏   | 924/1500 [29:44<24:20,  2.54s/it]"
     ]
    },
    {
     "name": "stdout",
     "output_type": "stream",
     "text": [
      "[0, 0, 4, 4, 4, 4, 4, 4, 4, 0, 2000]\n",
      "[4, 4, 4, 4, 4, 4, 4, 4, 4, 4, 2000]\n",
      "[4, 4, 4, 4, 4, 4, 0, 4, 4, 4, 2000]\n"
     ]
    },
    {
     "name": "stderr",
     "output_type": "stream",
     "text": [
      " 63%|██████▎   | 939/1500 [30:22<22:25,  2.40s/it]"
     ]
    },
    {
     "name": "stdout",
     "output_type": "stream",
     "text": [
      "[0, 0, 0, 0, 0, 0, 0, 0, 0, 0, 2000]\n"
     ]
    },
    {
     "name": "stderr",
     "output_type": "stream",
     "text": [
      " 63%|██████▎   | 945/1500 [30:38<22:21,  2.42s/it]"
     ]
    },
    {
     "name": "stdout",
     "output_type": "stream",
     "text": [
      "[4, 0, 0, 0, 4, 0, 4, 4, 4, 0, 2000]\n",
      "[0, 4, 0, 4, 0, 0, 4, 0, 0, 4, 2000]\n"
     ]
    },
    {
     "name": "stderr",
     "output_type": "stream",
     "text": [
      " 63%|██████▎   | 948/1500 [30:46<22:08,  2.41s/it]"
     ]
    },
    {
     "name": "stdout",
     "output_type": "stream",
     "text": [
      "[0, 0, 0, 0, 0, 0, 0, 0, 0, 0, 2000]\n"
     ]
    },
    {
     "name": "stderr",
     "output_type": "stream",
     "text": [
      " 64%|██████▎   | 954/1500 [31:02<24:47,  2.72s/it]"
     ]
    },
    {
     "name": "stdout",
     "output_type": "stream",
     "text": [
      "[0, 0, 0, 0, 0, 0, 0, 0, 0, 0, 2000]\n"
     ]
    },
    {
     "name": "stderr",
     "output_type": "stream",
     "text": [
      " 64%|██████▍   | 957/1500 [31:10<24:45,  2.74s/it]"
     ]
    },
    {
     "name": "stdout",
     "output_type": "stream",
     "text": [
      "[0, 0, 0, 0, 0, 0, 0, 0, 0, 0, 2000]\n",
      "[0, 0, 0, 0, 0, 4, 0, 4, 0, 0, 2000]\n",
      "[4, 4, 4, 0, 4, 4, 4, 4, 4, 4, 2000]\n",
      "[0, 0, 0, 0, 0, 0, 0, 0, 0, 0, 2000]\n",
      "[0, 0, 0, 0, 0, 4, 0, 0, 0, 0, 2000]\n",
      "[4, 4, 4, 4, 4, 0, 4, 4, 4, 4, 2000]\n",
      "[0, 0, 0, 0, 0, 0, 0, 0, 0, 0, 2000]\n"
     ]
    },
    {
     "name": "stderr",
     "output_type": "stream",
     "text": [
      "\r",
      " 64%|██████▍   | 958/1500 [31:13<24:19,  2.69s/it]"
     ]
    },
    {
     "name": "stdout",
     "output_type": "stream",
     "text": [
      "[4, 4, 4, 4, 4, 4, 4, 4, 4, 4, 2000]\n",
      "[0, 0, 4, 0, 4, 4, 0, 0, 0, 4, 2000]\n",
      "[4, 0, 0, 0, 0, 0, 0, 0, 0, 0, 2000]\n",
      "[0, 0, 4, 0, 0, 4, 0, 0, 0, 0, 2000]\n",
      "[0, 0, 0, 0, 0, 0, 0, 0, 0, 0, 2000]\n",
      "[0, 0, 0, 0, 0, 0, 0, 0, 0, 0, 2000]\n"
     ]
    },
    {
     "name": "stderr",
     "output_type": "stream",
     "text": [
      " 64%|██████▍   | 961/1500 [31:21<24:35,  2.74s/it]"
     ]
    },
    {
     "name": "stdout",
     "output_type": "stream",
     "text": [
      "[0, 4, 0, 0, 0, 0, 0, 0, 0, 0, 2000]\n"
     ]
    },
    {
     "name": "stderr",
     "output_type": "stream",
     "text": [
      " 64%|██████▍   | 963/1500 [31:25<21:37,  2.42s/it]"
     ]
    },
    {
     "name": "stdout",
     "output_type": "stream",
     "text": [
      "[0, 0, 0, 0, 0, 0, 0, 0, 0, 0, 2000]\n",
      "[4, 0, 4, 0, 0, 0, 0, 4, 0, 4, 2000]\n",
      "[4, 0, 0, 4, 4, 4, 0, 0, 0, 0, 2000]\n",
      "[0, 0, 0, 0, 0, 0, 0, 0, 0, 0, 2000]\n",
      "[0, 0, 0, 4, 4, 0, 0, 0, 0, 0, 2000]\n",
      "[4, 4, 4, 0, 4, 0, 4, 4, 4, 4, 2000]\n"
     ]
    },
    {
     "name": "stderr",
     "output_type": "stream",
     "text": [
      " 64%|██████▍   | 965/1500 [31:31<24:14,  2.72s/it]"
     ]
    },
    {
     "name": "stdout",
     "output_type": "stream",
     "text": [
      "[4, 0, 4, 4, 4, 4, 4, 4, 4, 4, 2000]\n",
      "[0, 0, 0, 0, 0, 0, 0, 0, 4, 0, 2000]\n",
      "[0, 0, 0, 0, 0, 0, 0, 0, 0, 0, 2000]\n",
      "[4, 4, 0, 0, 0, 0, 0, 0, 4, 0, 2000]\n",
      "[0, 0, 0, 4, 0, 0, 0, 0, 0, 0, 2000]\n",
      "[4, 0, 0, 0, 4, 4, 0, 0, 0, 0, 2000]\n",
      "[4, 4, 4, 4, 4, 4, 4, 4, 4, 0, 2000]\n",
      "[0, 0, 0, 0, 0, 0, 0, 0, 0, 0, 2000]\n"
     ]
    },
    {
     "name": "stderr",
     "output_type": "stream",
     "text": [
      " 65%|██████▍   | 970/1500 [31:44<23:57,  2.71s/it]"
     ]
    },
    {
     "name": "stdout",
     "output_type": "stream",
     "text": [
      "[0, 0, 0, 0, 0, 0, 0, 4, 0, 0, 2000]\n",
      "[4, 0, 0, 0, 0, 0, 0, 0, 0, 0, 2000]\n",
      "[4, 0, 4, 4, 4, 4, 4, 4, 0, 0, 2000]\n",
      "[0, 0, 0, 0, 0, 0, 4, 0, 0, 0, 2000]\n",
      "[4, 0, 0, 0, 0, 0, 0, 4, 4, 0, 2000]\n",
      "[0, 0, 0, 0, 0, 0, 0, 0, 0, 0, 2000]\n",
      "[0, 0, 0, 0, 0, 0, 0, 0, 0, 0, 2000]\n"
     ]
    },
    {
     "name": "stderr",
     "output_type": "stream",
     "text": [
      " 65%|██████▍   | 972/1500 [31:49<23:54,  2.72s/it]"
     ]
    },
    {
     "name": "stdout",
     "output_type": "stream",
     "text": [
      "[0, 0, 0, 0, 0, 0, 0, 0, 0, 0, 2000]\n",
      "[0, 0, 0, 0, 0, 0, 0, 0, 0, 0, 2000]\n",
      "[0, 0, 0, 0, 0, 0, 0, 0, 0, 0, 2000]\n"
     ]
    },
    {
     "name": "stderr",
     "output_type": "stream",
     "text": [
      " 65%|██████▌   | 975/1500 [31:58<23:49,  2.72s/it]"
     ]
    },
    {
     "name": "stdout",
     "output_type": "stream",
     "text": [
      "[0, 0, 0, 0, 0, 0, 0, 0, 0, 0, 2000]\n"
     ]
    },
    {
     "name": "stderr",
     "output_type": "stream",
     "text": [
      "\r",
      " 65%|██████▌   | 976/1500 [31:59<21:04,  2.41s/it]"
     ]
    },
    {
     "name": "stdout",
     "output_type": "stream",
     "text": [
      "[0, 4, 0, 0, 0, 0, 4, 0, 4, 4, 2000]\n"
     ]
    },
    {
     "name": "stderr",
     "output_type": "stream",
     "text": [
      "\r",
      " 65%|██████▌   | 977/1500 [32:03<24:01,  2.76s/it]"
     ]
    },
    {
     "name": "stdout",
     "output_type": "stream",
     "text": [
      "[0, 0, 0, 0, 0, 0, 0, 0, 0, 0, 2000]\n"
     ]
    },
    {
     "name": "stderr",
     "output_type": "stream",
     "text": [
      " 66%|██████▌   | 988/1500 [32:32<20:49,  2.44s/it]"
     ]
    },
    {
     "name": "stdout",
     "output_type": "stream",
     "text": [
      "[0, 0, 0, 0, 0, 0, 0, 0, 0, 0, 2000]\n"
     ]
    },
    {
     "name": "stderr",
     "output_type": "stream",
     "text": [
      " 66%|██████▋   | 997/1500 [32:57<23:21,  2.79s/it]"
     ]
    },
    {
     "name": "stdout",
     "output_type": "stream",
     "text": [
      "[0, 0, 0, 0, 0, 0, 0, 0, 0, 0, 2000]\n"
     ]
    },
    {
     "name": "stderr",
     "output_type": "stream",
     "text": [
      " 67%|██████▋   | 999/1500 [33:04<16:35,  1.99s/it]\n",
      "  3%|▎         | 31/1000 [01:25<40:17,  2.49s/it]"
     ]
    },
    {
     "name": "stdout",
     "output_type": "stream",
     "text": [
      "[0, 0, 0, 0, 0, 0, 0, 0, 0, 0, 2000]\n"
     ]
    },
    {
     "name": "stderr",
     "output_type": "stream",
     "text": [
      "  6%|▌         | 60/1000 [02:47<44:46,  2.86s/it]"
     ]
    },
    {
     "name": "stdout",
     "output_type": "stream",
     "text": [
      "[0, 0, 0, 0, 0, 0, 0, 0, 0, 0, 2000]\n"
     ]
    },
    {
     "name": "stderr",
     "output_type": "stream",
     "text": [
      "  8%|▊         | 75/1000 [03:30<44:14,  2.87s/it]"
     ]
    },
    {
     "name": "stdout",
     "output_type": "stream",
     "text": [
      "[0, 0, 0, 0, 0, 0, 0, 0, 0, 0, 2000]\n",
      "[0, 0, 0, 0, 0, 0, 0, 0, 0, 0, 2000]\n"
     ]
    },
    {
     "name": "stderr",
     "output_type": "stream",
     "text": [
      "  8%|▊         | 79/1000 [03:41<44:08,  2.88s/it]"
     ]
    },
    {
     "name": "stdout",
     "output_type": "stream",
     "text": [
      "[0, 0, 0, 0, 0, 0, 0, 0, 0, 0, 2000]\n"
     ]
    },
    {
     "name": "stderr",
     "output_type": "stream",
     "text": [
      " 12%|█▏        | 124/1000 [05:54<43:56,  3.01s/it]"
     ]
    },
    {
     "name": "stdout",
     "output_type": "stream",
     "text": [
      "[0, 0, 0, 0, 0, 0, 0, 0, 0, 0, 2000]\n"
     ]
    },
    {
     "name": "stderr",
     "output_type": "stream",
     "text": [
      " 16%|█▌        | 159/1000 [07:38<42:00,  3.00s/it]"
     ]
    },
    {
     "name": "stdout",
     "output_type": "stream",
     "text": [
      "[0, 0, 0, 0, 0, 0, 0, 0, 0, 0, 2000]\n"
     ]
    },
    {
     "name": "stderr",
     "output_type": "stream",
     "text": [
      " 17%|█▋        | 172/1000 [08:18<41:33,  3.01s/it]"
     ]
    },
    {
     "name": "stdout",
     "output_type": "stream",
     "text": [
      "[4, 4, 0, 4, 0, 4, 0, 4, 4, 0, 2000]\n"
     ]
    },
    {
     "name": "stderr",
     "output_type": "stream",
     "text": [
      " 18%|█▊        | 183/1000 [08:51<41:16,  3.03s/it]"
     ]
    },
    {
     "name": "stdout",
     "output_type": "stream",
     "text": [
      "[0, 0, 0, 4, 0, 0, 0, 0, 0, 0, 2000]\n"
     ]
    },
    {
     "name": "stderr",
     "output_type": "stream",
     "text": [
      " 19%|█▉        | 193/1000 [09:21<40:55,  3.04s/it]"
     ]
    },
    {
     "name": "stdout",
     "output_type": "stream",
     "text": [
      "[0, 0, 0, 4, 0, 0, 0, 0, 0, 0, 2000]\n"
     ]
    },
    {
     "name": "stderr",
     "output_type": "stream",
     "text": [
      " 20%|██        | 200/1000 [09:43<40:46,  3.06s/it]"
     ]
    },
    {
     "name": "stdout",
     "output_type": "stream",
     "text": [
      "[0, 0, 4, 0, 0, 0, 0, 0, 0, 4, 2000]\n"
     ]
    },
    {
     "name": "stderr",
     "output_type": "stream",
     "text": [
      " 22%|██▏       | 218/1000 [10:38<40:03,  3.07s/it]"
     ]
    },
    {
     "name": "stdout",
     "output_type": "stream",
     "text": [
      "[0, 0, 0, 0, 0, 0, 0, 0, 0, 0, 2000]\n"
     ]
    },
    {
     "name": "stderr",
     "output_type": "stream",
     "text": [
      " 22%|██▏       | 221/1000 [10:48<42:38,  3.28s/it]"
     ]
    },
    {
     "name": "stdout",
     "output_type": "stream",
     "text": [
      "[0, 0, 0, 0, 0, 0, 0, 0, 0, 0, 2000]\n",
      "[0, 0, 0, 0, 0, 0, 0, 0, 0, 0, 2000]\n"
     ]
    },
    {
     "name": "stderr",
     "output_type": "stream",
     "text": [
      " 35%|███▌      | 352/1000 [17:56<38:31,  3.57s/it]"
     ]
    },
    {
     "name": "stdout",
     "output_type": "stream",
     "text": [
      "[1, 1, 4, 1, 4, 4, 4, 4, 0, 4, 2000]\n"
     ]
    },
    {
     "name": "stderr",
     "output_type": "stream",
     "text": [
      " 36%|███▌      | 358/1000 [18:15<35:12,  3.29s/it]"
     ]
    },
    {
     "name": "stdout",
     "output_type": "stream",
     "text": [
      "[0, 0, 0, 0, 0, 0, 0, 0, 0, 0, 2000]\n"
     ]
    },
    {
     "name": "stderr",
     "output_type": "stream",
     "text": [
      " 36%|███▌      | 360/1000 [18:22<34:10,  3.20s/it]"
     ]
    },
    {
     "name": "stdout",
     "output_type": "stream",
     "text": [
      "[0, 0, 0, 0, 0, 0, 0, 0, 0, 0, 2000]\n"
     ]
    },
    {
     "name": "stderr",
     "output_type": "stream",
     "text": [
      " 38%|███▊      | 379/1000 [19:27<36:49,  3.56s/it]"
     ]
    },
    {
     "name": "stdout",
     "output_type": "stream",
     "text": [
      "[0, 0, 0, 0, 0, 0, 0, 0, 0, 0, 2000]\n"
     ]
    },
    {
     "name": "stderr",
     "output_type": "stream",
     "text": [
      " 38%|███▊      | 383/1000 [19:40<33:59,  3.31s/it]"
     ]
    },
    {
     "name": "stdout",
     "output_type": "stream",
     "text": [
      "[0, 0, 0, 0, 0, 0, 0, 0, 0, 0, 2000]\n"
     ]
    },
    {
     "name": "stderr",
     "output_type": "stream",
     "text": [
      " 46%|████▌     | 459/1000 [24:09<32:46,  3.64s/it]"
     ]
    },
    {
     "name": "stdout",
     "output_type": "stream",
     "text": [
      "[0, 0, 0, 0, 0, 0, 0, 0, 0, 0, 2000]\n"
     ]
    },
    {
     "name": "stderr",
     "output_type": "stream",
     "text": [
      " 47%|████▋     | 469/1000 [24:46<32:06,  3.63s/it]"
     ]
    },
    {
     "name": "stdout",
     "output_type": "stream",
     "text": [
      "[0, 0, 0, 0, 0, 0, 0, 0, 0, 0, 2000]\n"
     ]
    },
    {
     "name": "stderr",
     "output_type": "stream",
     "text": [
      " 55%|█████▌    | 552/1000 [30:04<28:19,  3.79s/it]"
     ]
    },
    {
     "name": "stdout",
     "output_type": "stream",
     "text": [
      "[0, 0, 0, 0, 0, 0, 0, 0, 0, 0, 2000]\n"
     ]
    },
    {
     "name": "stderr",
     "output_type": "stream",
     "text": [
      " 61%|██████    | 611/1000 [33:54<26:57,  4.16s/it]"
     ]
    },
    {
     "name": "stdout",
     "output_type": "stream",
     "text": [
      "[0, 0, 0, 0, 0, 0, 0, 0, 0, 0, 2000]\n"
     ]
    },
    {
     "name": "stderr",
     "output_type": "stream",
     "text": [
      " 63%|██████▎   | 631/1000 [35:13<24:02,  3.91s/it]"
     ]
    },
    {
     "name": "stdout",
     "output_type": "stream",
     "text": [
      "[0, 0, 0, 0, 0, 0, 0, 0, 0, 0, 2000]\n"
     ]
    },
    {
     "name": "stderr",
     "output_type": "stream",
     "text": [
      " 64%|██████▍   | 639/1000 [35:44<23:32,  3.91s/it]"
     ]
    },
    {
     "name": "stdout",
     "output_type": "stream",
     "text": [
      "[0, 0, 0, 0, 0, 0, 0, 0, 0, 0, 2000]\n"
     ]
    },
    {
     "name": "stderr",
     "output_type": "stream",
     "text": [
      " 66%|██████▌   | 661/1000 [37:10<21:27,  3.80s/it]"
     ]
    },
    {
     "name": "stdout",
     "output_type": "stream",
     "text": [
      "[4, 0, 0, 0, 0, 0, 0, 0, 0, 0, 2000]\n"
     ]
    },
    {
     "name": "stderr",
     "output_type": "stream",
     "text": [
      " 67%|██████▋   | 671/1000 [37:50<22:30,  4.10s/it]"
     ]
    },
    {
     "name": "stdout",
     "output_type": "stream",
     "text": [
      "[4, 0, 0, 0, 0, 0, 0, 0, 0, 0, 2000]\n"
     ]
    },
    {
     "name": "stderr",
     "output_type": "stream",
     "text": [
      " 68%|██████▊   | 682/1000 [38:34<22:49,  4.31s/it]"
     ]
    },
    {
     "name": "stdout",
     "output_type": "stream",
     "text": [
      "[0, 0, 0, 0, 0, 0, 0, 0, 0, 0, 2000]\n"
     ]
    },
    {
     "name": "stderr",
     "output_type": "stream",
     "text": [
      " 69%|██████▉   | 688/1000 [38:58<21:46,  4.19s/it]"
     ]
    },
    {
     "name": "stdout",
     "output_type": "stream",
     "text": [
      "[0, 0, 0, 0, 0, 0, 0, 0, 0, 0, 2000]\n"
     ]
    },
    {
     "name": "stderr",
     "output_type": "stream",
     "text": [
      " 70%|███████   | 702/1000 [39:55<20:50,  4.20s/it]"
     ]
    },
    {
     "name": "stdout",
     "output_type": "stream",
     "text": [
      "[0, 0, 0, 0, 0, 0, 0, 0, 0, 0, 2000]\n"
     ]
    },
    {
     "name": "stderr",
     "output_type": "stream",
     "text": [
      " 73%|███████▎  | 727/1000 [41:39<19:19,  4.25s/it]"
     ]
    },
    {
     "name": "stdout",
     "output_type": "stream",
     "text": [
      "[0, 0, 0, 0, 0, 0, 0, 0, 0, 0, 2000]\n"
     ]
    },
    {
     "name": "stderr",
     "output_type": "stream",
     "text": [
      " 74%|███████▎  | 736/1000 [42:16<18:07,  4.12s/it]"
     ]
    },
    {
     "name": "stdout",
     "output_type": "stream",
     "text": [
      "[0, 0, 0, 0, 0, 0, 0, 0, 0, 0, 2000]\n"
     ]
    },
    {
     "name": "stderr",
     "output_type": "stream",
     "text": [
      " 77%|███████▋  | 771/1000 [44:46<16:49,  4.41s/it]"
     ]
    },
    {
     "name": "stdout",
     "output_type": "stream",
     "text": [
      "[0, 0, 0, 0, 0, 1, 0, 0, 0, 0, 2000]\n"
     ]
    },
    {
     "name": "stderr",
     "output_type": "stream",
     "text": [
      " 84%|████████▍ | 840/1000 [49:41<12:08,  4.56s/it]"
     ]
    },
    {
     "name": "stdout",
     "output_type": "stream",
     "text": [
      "[0, 0, 0, 0, 0, 0, 0, 0, 0, 0, 2000]\n",
      "[0, 0, 0, 0, 0, 0, 0, 0, 0, 0, 2000]\n"
     ]
    },
    {
     "name": "stderr",
     "output_type": "stream",
     "text": [
      " 86%|████████▌ | 856/1000 [50:50<10:09,  4.23s/it]"
     ]
    },
    {
     "name": "stdout",
     "output_type": "stream",
     "text": [
      "[0, 0, 0, 0, 0, 0, 0, 0, 0, 0, 2000]\n"
     ]
    },
    {
     "name": "stderr",
     "output_type": "stream",
     "text": [
      " 93%|█████████▎| 933/1000 [56:35<05:00,  4.48s/it]"
     ]
    },
    {
     "name": "stdout",
     "output_type": "stream",
     "text": [
      "[0, 0, 0, 0, 0, 0, 0, 0, 0, 0, 2000]\n"
     ]
    },
    {
     "name": "stderr",
     "output_type": "stream",
     "text": [
      " 97%|█████████▋| 974/1000 [59:43<01:58,  4.57s/it]"
     ]
    },
    {
     "name": "stdout",
     "output_type": "stream",
     "text": [
      "[0, 0, 0, 0, 0, 0, 0, 0, 0, 0, 2000]\n"
     ]
    },
    {
     "name": "stderr",
     "output_type": "stream",
     "text": [
      "100%|█████████▉| 999/1000 [1:01:44<00:03,  3.71s/it]\n",
      "  3%|▎         | 22/853 [01:40<1:02:52,  4.54s/it]"
     ]
    },
    {
     "name": "stdout",
     "output_type": "stream",
     "text": [
      "[0, 0, 0, 0, 0, 0, 0, 0, 0, 0, 2000]\n"
     ]
    },
    {
     "name": "stderr",
     "output_type": "stream",
     "text": [
      "  3%|▎         | 25/853 [01:54<1:05:19,  4.73s/it]"
     ]
    },
    {
     "name": "stdout",
     "output_type": "stream",
     "text": [
      "[0, 0, 0, 0, 0, 0, 0, 0, 0, 0, 2000]\n"
     ]
    },
    {
     "name": "stderr",
     "output_type": "stream",
     "text": [
      " 14%|█▍        | 122/853 [09:35<57:17,  4.70s/it]  "
     ]
    },
    {
     "name": "stdout",
     "output_type": "stream",
     "text": [
      "[0, 0, 0, 0, 0, 0, 0, 0, 0, 0, 2000]\n"
     ]
    },
    {
     "name": "stderr",
     "output_type": "stream",
     "text": [
      " 15%|█▌        | 128/853 [10:03<57:03,  4.72s/it]"
     ]
    },
    {
     "name": "stdout",
     "output_type": "stream",
     "text": [
      "[0, 0, 0, 0, 0, 0, 0, 0, 0, 0, 2000]\n"
     ]
    },
    {
     "name": "stderr",
     "output_type": "stream",
     "text": [
      " 20%|█▉        | 168/853 [13:14<56:43,  4.97s/it]  "
     ]
    },
    {
     "name": "stdout",
     "output_type": "stream",
     "text": [
      "[0, 0, 0, 0, 0, 0, 0, 0, 0, 0, 2000]\n"
     ]
    },
    {
     "name": "stderr",
     "output_type": "stream",
     "text": [
      " 27%|██▋       | 232/853 [18:22<50:43,  4.90s/it]"
     ]
    },
    {
     "name": "stdout",
     "output_type": "stream",
     "text": [
      "[0, 0, 0, 0, 0, 0, 0, 0, 0, 0, 2000]\n"
     ]
    },
    {
     "name": "stderr",
     "output_type": "stream",
     "text": [
      " 46%|████▌     | 394/853 [31:53<38:27,  5.03s/it]"
     ]
    },
    {
     "name": "stdout",
     "output_type": "stream",
     "text": [
      "[0, 0, 0, 0, 0, 0, 0, 0, 0, 0, 2000]\n"
     ]
    },
    {
     "name": "stderr",
     "output_type": "stream",
     "text": [
      " 77%|███████▋  | 653/853 [55:07<18:32,  5.56s/it]"
     ]
    },
    {
     "name": "stdout",
     "output_type": "stream",
     "text": [
      "[0, 0, 0, 0, 0, 0, 0, 0, 0, 0, 2000]\n"
     ]
    },
    {
     "name": "stderr",
     "output_type": "stream",
     "text": [
      " 78%|███████▊  | 664/853 [56:09<18:08,  5.76s/it]"
     ]
    },
    {
     "name": "stdout",
     "output_type": "stream",
     "text": [
      "[1, 0, 0, 0, 0, 0, 1, 0, 0, 4, 2000]\n"
     ]
    },
    {
     "name": "stderr",
     "output_type": "stream",
     "text": [
      " 81%|████████  | 690/853 [58:37<15:26,  5.68s/it]"
     ]
    },
    {
     "name": "stdout",
     "output_type": "stream",
     "text": [
      "[0, 0, 0, 0, 0, 0, 0, 0, 0, 0, 2000]\n"
     ]
    },
    {
     "name": "stderr",
     "output_type": "stream",
     "text": [
      " 87%|████████▋ | 740/853 [1:03:26<11:09,  5.93s/it]"
     ]
    },
    {
     "name": "stdout",
     "output_type": "stream",
     "text": [
      "[0, 0, 0, 0, 0, 0, 0, 0, 0, 0, 2000]\n"
     ]
    },
    {
     "name": "stderr",
     "output_type": "stream",
     "text": [
      "100%|██████████| 853/853 [1:14:40<00:00,  5.25s/it]\n",
      "  0%|          | 2/2125 [00:12<3:55:54,  6.67s/it]"
     ]
    },
    {
     "name": "stdout",
     "output_type": "stream",
     "text": [
      "[0, 0, 0, 0, 0, 0, 0, 0, 0, 0, 2000]\n"
     ]
    },
    {
     "name": "stderr",
     "output_type": "stream",
     "text": [
      "\r",
      "  0%|          | 3/2125 [00:18<3:43:57,  6.33s/it]"
     ]
    },
    {
     "name": "stdout",
     "output_type": "stream",
     "text": [
      "[0, 0, 0, 0, 0, 0, 0, 0, 0, 0, 2000]\n",
      "[0, 0, 0, 0, 0, 0, 4, 0, 0, 0, 2000]\n"
     ]
    },
    {
     "name": "stderr",
     "output_type": "stream",
     "text": [
      "\r",
      "  0%|          | 4/2125 [00:24<3:31:21,  5.98s/it]"
     ]
    },
    {
     "name": "stdout",
     "output_type": "stream",
     "text": [
      "[0, 0, 0, 0, 0, 4, 0, 0, 0, 0, 2000]\n",
      "[0, 0, 0, 0, 0, 0, 0, 0, 4, 4, 2000]\n",
      "[0, 0, 0, 0, 0, 0, 4, 4, 0, 0, 2000]\n",
      "[0, 4, 0, 0, 0, 0, 0, 0, 0, 0, 2000]\n"
     ]
    },
    {
     "name": "stderr",
     "output_type": "stream",
     "text": [
      "\r",
      "  0%|          | 5/2125 [00:29<3:20:35,  5.68s/it]"
     ]
    },
    {
     "name": "stdout",
     "output_type": "stream",
     "text": [
      "[0, 0, 0, 0, 0, 0, 0, 0, 0, 4, 2000]\n"
     ]
    },
    {
     "name": "stderr",
     "output_type": "stream",
     "text": [
      "\r",
      "  0%|          | 6/2125 [00:36<3:37:45,  6.17s/it]"
     ]
    },
    {
     "name": "stdout",
     "output_type": "stream",
     "text": [
      "[0, 0, 0, 0, 4, 0, 0, 0, 0, 0, 2000]\n"
     ]
    },
    {
     "name": "stderr",
     "output_type": "stream",
     "text": [
      "\r",
      "  0%|          | 7/2125 [00:42<3:28:54,  5.92s/it]"
     ]
    },
    {
     "name": "stdout",
     "output_type": "stream",
     "text": [
      "[0, 0, 0, 0, 0, 0, 4, 0, 0, 0, 2000]\n",
      "[0, 0, 0, 0, 0, 0, 0, 0, 0, 0, 2000]\n"
     ]
    },
    {
     "name": "stderr",
     "output_type": "stream",
     "text": [
      "\r",
      "  0%|          | 8/2125 [00:49<3:44:14,  6.36s/it]"
     ]
    },
    {
     "name": "stdout",
     "output_type": "stream",
     "text": [
      "[0, 0, 0, 0, 0, 0, 0, 4, 0, 0, 2000]\n"
     ]
    },
    {
     "name": "stderr",
     "output_type": "stream",
     "text": [
      "\r",
      "  0%|          | 9/2125 [00:55<3:36:41,  6.14s/it]"
     ]
    },
    {
     "name": "stdout",
     "output_type": "stream",
     "text": [
      "[0, 4, 4, 0, 0, 0, 0, 0, 0, 0, 2000]\n",
      "[4, 4, 0, 0, 0, 0, 0, 0, 0, 4, 2000]\n"
     ]
    },
    {
     "name": "stderr",
     "output_type": "stream",
     "text": [
      "\r",
      "  0%|          | 10/2125 [01:00<3:25:03,  5.82s/it]"
     ]
    },
    {
     "name": "stdout",
     "output_type": "stream",
     "text": [
      "[0, 0, 0, 0, 4, 0, 0, 0, 0, 0, 2000]\n"
     ]
    },
    {
     "name": "stderr",
     "output_type": "stream",
     "text": [
      "  1%|          | 13/2125 [01:17<3:21:26,  5.72s/it]"
     ]
    },
    {
     "name": "stdout",
     "output_type": "stream",
     "text": [
      "[0, 0, 0, 0, 0, 0, 0, 0, 0, 0, 2000]\n",
      "[0, 0, 0, 0, 0, 0, 0, 0, 0, 0, 2000]\n",
      "[4, 0, 0, 0, 0, 0, 0, 0, 0, 0, 2000]\n",
      "[4, 0, 0, 0, 4, 0, 4, 4, 4, 0, 2000]\n",
      "[0, 0, 0, 0, 0, 0, 0, 0, 0, 0, 2000]\n",
      "[0, 0, 0, 0, 0, 0, 0, 0, 0, 0, 2000]\n"
     ]
    },
    {
     "name": "stderr",
     "output_type": "stream",
     "text": [
      "\r",
      "  1%|          | 14/2125 [01:24<3:32:22,  6.04s/it]"
     ]
    },
    {
     "name": "stdout",
     "output_type": "stream",
     "text": [
      "[0, 0, 0, 0, 0, 0, 0, 0, 0, 0, 2000]\n",
      "[0, 0, 0, 0, 0, 0, 0, 0, 0, 0, 2000]\n",
      "[0, 0, 0, 0, 0, 0, 0, 0, 0, 0, 2000]\n"
     ]
    },
    {
     "name": "stderr",
     "output_type": "stream",
     "text": [
      "  1%|          | 16/2125 [01:36<3:36:43,  6.17s/it]"
     ]
    },
    {
     "name": "stdout",
     "output_type": "stream",
     "text": [
      "[0, 0, 0, 0, 0, 0, 0, 0, 0, 0, 2000]\n",
      "[0, 0, 0, 0, 0, 0, 0, 0, 0, 0, 2000]\n"
     ]
    },
    {
     "name": "stderr",
     "output_type": "stream",
     "text": [
      "\r",
      "  1%|          | 17/2125 [01:42<3:27:32,  5.91s/it]"
     ]
    },
    {
     "name": "stdout",
     "output_type": "stream",
     "text": [
      "[0, 0, 0, 0, 0, 0, 0, 0, 0, 0, 2000]\n"
     ]
    },
    {
     "name": "stderr",
     "output_type": "stream",
     "text": [
      "\r",
      "  1%|          | 18/2125 [01:47<3:21:01,  5.72s/it]"
     ]
    },
    {
     "name": "stdout",
     "output_type": "stream",
     "text": [
      "[0, 0, 0, 0, 0, 0, 4, 4, 4, 4, 2000]\n"
     ]
    },
    {
     "name": "stderr",
     "output_type": "stream",
     "text": [
      "\r",
      "  1%|          | 19/2125 [01:54<3:35:23,  6.14s/it]"
     ]
    },
    {
     "name": "stdout",
     "output_type": "stream",
     "text": [
      "[0, 0, 0, 0, 4, 0, 0, 0, 0, 0, 2000]\n",
      "[0, 0, 0, 0, 0, 0, 0, 0, 0, 0, 2000]\n",
      "[4, 4, 0, 4, 0, 4, 0, 4, 4, 0, 2000]\n",
      "[0, 0, 0, 4, 0, 0, 0, 4, 4, 0, 2000]\n",
      "[4, 0, 0, 0, 0, 0, 0, 0, 4, 0, 2000]\n",
      "[4, 4, 4, 4, 4, 4, 4, 4, 4, 4, 2000]\n",
      "[0, 4, 0, 0, 0, 0, 0, 0, 0, 4, 2000]\n",
      "[0, 0, 0, 0, 0, 0, 0, 0, 4, 0, 2000]\n",
      "[0, 4, 0, 0, 0, 0, 0, 0, 0, 0, 2000]\n",
      "[4, 0, 0, 0, 0, 0, 4, 4, 0, 0, 2000]\n"
     ]
    },
    {
     "name": "stderr",
     "output_type": "stream",
     "text": [
      "\r",
      "  1%|          | 20/2125 [01:59<3:26:22,  5.88s/it]"
     ]
    },
    {
     "name": "stdout",
     "output_type": "stream",
     "text": [
      "[0, 0, 0, 0, 0, 0, 0, 0, 0, 0, 2000]\n",
      "[0, 0, 0, 0, 0, 4, 0, 0, 0, 0, 2000]\n",
      "[0, 0, 0, 0, 0, 0, 0, 0, 0, 0, 2000]\n",
      "[0, 0, 0, 0, 0, 0, 0, 0, 0, 0, 2000]\n",
      "[0, 0, 0, 4, 0, 0, 0, 0, 0, 0, 2000]\n"
     ]
    },
    {
     "name": "stderr",
     "output_type": "stream",
     "text": [
      "\r",
      "  1%|          | 21/2125 [02:06<3:40:13,  6.28s/it]"
     ]
    },
    {
     "name": "stdout",
     "output_type": "stream",
     "text": [
      "[4, 4, 4, 0, 0, 4, 4, 0, 4, 0, 2000]\n",
      "[0, 0, 0, 0, 0, 0, 0, 0, 0, 0, 2000]\n",
      "[0, 0, 0, 0, 0, 0, 0, 0, 0, 0, 2000]\n"
     ]
    },
    {
     "name": "stderr",
     "output_type": "stream",
     "text": [
      "\r",
      "  1%|          | 22/2125 [02:12<3:29:42,  5.98s/it]"
     ]
    },
    {
     "name": "stdout",
     "output_type": "stream",
     "text": [
      "[0, 0, 0, 0, 0, 0, 0, 0, 0, 0, 2000]\n",
      "[0, 0, 0, 0, 0, 0, 0, 0, 0, 0, 2000]\n",
      "[4, 4, 4, 4, 4, 4, 0, 4, 4, 4, 2000]\n",
      "[4, 4, 4, 0, 4, 4, 0, 0, 4, 0, 2000]\n"
     ]
    },
    {
     "name": "stderr",
     "output_type": "stream",
     "text": [
      "  1%|          | 24/2125 [02:24<3:38:32,  6.24s/it]"
     ]
    },
    {
     "name": "stdout",
     "output_type": "stream",
     "text": [
      "[0, 0, 0, 0, 0, 0, 0, 0, 0, 4, 2000]\n"
     ]
    },
    {
     "name": "stderr",
     "output_type": "stream",
     "text": [
      "\r",
      "  1%|          | 25/2125 [02:30<3:30:40,  6.02s/it]"
     ]
    },
    {
     "name": "stdout",
     "output_type": "stream",
     "text": [
      "[0, 0, 0, 0, 0, 0, 0, 0, 0, 4, 2000]\n"
     ]
    },
    {
     "name": "stderr",
     "output_type": "stream",
     "text": [
      "\r",
      "  1%|          | 26/2125 [02:35<3:24:29,  5.85s/it]"
     ]
    },
    {
     "name": "stdout",
     "output_type": "stream",
     "text": [
      "[0, 4, 4, 0, 0, 0, 0, 0, 0, 0, 2000]\n",
      "[0, 0, 0, 0, 0, 0, 0, 0, 0, 0, 2000]\n",
      "[0, 0, 0, 0, 0, 0, 0, 0, 0, 0, 2000]\n"
     ]
    },
    {
     "name": "stderr",
     "output_type": "stream",
     "text": [
      "\r",
      "  1%|▏         | 27/2125 [02:41<3:18:38,  5.68s/it]"
     ]
    },
    {
     "name": "stdout",
     "output_type": "stream",
     "text": [
      "[0, 0, 4, 0, 0, 0, 0, 0, 0, 4, 2000]\n"
     ]
    },
    {
     "name": "stderr",
     "output_type": "stream",
     "text": [
      "  1%|▏         | 29/2125 [02:53<3:27:00,  5.93s/it]"
     ]
    },
    {
     "name": "stdout",
     "output_type": "stream",
     "text": [
      "[0, 0, 0, 0, 0, 0, 0, 0, 0, 0, 2000]\n",
      "[0, 0, 0, 0, 0, 0, 0, 0, 0, 0, 2000]\n"
     ]
    },
    {
     "name": "stderr",
     "output_type": "stream",
     "text": [
      "\r",
      "  1%|▏         | 30/2125 [03:00<3:37:55,  6.24s/it]"
     ]
    },
    {
     "name": "stdout",
     "output_type": "stream",
     "text": [
      "[4, 4, 0, 0, 0, 0, 0, 0, 0, 0, 2000]\n",
      "[0, 0, 0, 0, 0, 4, 0, 0, 0, 0, 2000]\n",
      "[0, 0, 0, 0, 0, 0, 0, 0, 0, 0, 2000]\n"
     ]
    },
    {
     "name": "stderr",
     "output_type": "stream",
     "text": [
      "  2%|▏         | 33/2125 [03:18<3:32:29,  6.09s/it]"
     ]
    },
    {
     "name": "stdout",
     "output_type": "stream",
     "text": [
      "[0, 0, 0, 4, 0, 0, 0, 0, 0, 0, 2000]\n"
     ]
    },
    {
     "name": "stderr",
     "output_type": "stream",
     "text": [
      "\r",
      "  2%|▏         | 34/2125 [03:23<3:25:12,  5.89s/it]"
     ]
    },
    {
     "name": "stdout",
     "output_type": "stream",
     "text": [
      "[0, 0, 0, 0, 0, 0, 0, 0, 0, 0, 2000]\n",
      "[0, 0, 0, 4, 0, 0, 0, 0, 0, 0, 2000]\n",
      "[0, 0, 0, 0, 0, 0, 0, 0, 0, 4, 2000]\n",
      "[0, 4, 0, 0, 0, 0, 0, 0, 0, 0, 2000]\n"
     ]
    },
    {
     "name": "stderr",
     "output_type": "stream",
     "text": [
      "\r",
      "  2%|▏         | 35/2125 [03:28<3:15:37,  5.62s/it]"
     ]
    },
    {
     "name": "stdout",
     "output_type": "stream",
     "text": [
      "[0, 0, 0, 0, 0, 0, 0, 0, 0, 0, 2000]\n"
     ]
    },
    {
     "name": "stderr",
     "output_type": "stream",
     "text": [
      "\r",
      "  2%|▏         | 36/2125 [03:35<3:27:55,  5.97s/it]"
     ]
    },
    {
     "name": "stdout",
     "output_type": "stream",
     "text": [
      "[0, 0, 0, 0, 0, 0, 0, 0, 0, 4, 2000]\n",
      "[0, 0, 0, 0, 0, 0, 0, 0, 0, 0, 2000]\n",
      "[0, 0, 0, 0, 0, 0, 0, 4, 4, 0, 2000]\n"
     ]
    },
    {
     "name": "stderr",
     "output_type": "stream",
     "text": [
      "\r",
      "  2%|▏         | 37/2125 [03:40<3:19:05,  5.72s/it]"
     ]
    },
    {
     "name": "stdout",
     "output_type": "stream",
     "text": [
      "[0, 0, 0, 0, 4, 0, 0, 0, 0, 0, 2000]\n",
      "[0, 0, 4, 0, 0, 0, 0, 0, 0, 0, 2000]\n"
     ]
    },
    {
     "name": "stderr",
     "output_type": "stream",
     "text": [
      "\r",
      "  2%|▏         | 38/2125 [03:48<3:43:15,  6.42s/it]"
     ]
    },
    {
     "name": "stdout",
     "output_type": "stream",
     "text": [
      "[0, 0, 0, 0, 0, 4, 0, 0, 0, 4, 2000]\n",
      "[4, 0, 0, 0, 0, 0, 0, 0, 0, 0, 2000]\n",
      "[0, 0, 0, 0, 4, 0, 4, 0, 4, 0, 2000]\n",
      "[0, 0, 0, 0, 0, 0, 0, 0, 0, 0, 2000]\n",
      "[0, 0, 0, 0, 0, 0, 0, 0, 0, 0, 2000]\n",
      "[0, 0, 0, 0, 0, 0, 0, 0, 0, 0, 2000]\n",
      "[0, 4, 0, 0, 0, 4, 0, 4, 0, 4, 2000]\n",
      "[4, 0, 0, 4, 0, 0, 4, 4, 4, 0, 2000]\n",
      "[0, 0, 4, 0, 0, 0, 4, 0, 4, 0, 2000]\n",
      "[0, 0, 0, 0, 0, 0, 0, 0, 0, 0, 2000]\n"
     ]
    },
    {
     "name": "stderr",
     "output_type": "stream",
     "text": [
      "\r",
      "  2%|▏         | 39/2125 [03:56<4:05:08,  7.05s/it]"
     ]
    },
    {
     "name": "stdout",
     "output_type": "stream",
     "text": [
      "[0, 0, 0, 4, 4, 0, 4, 0, 0, 0, 2000]\n"
     ]
    },
    {
     "name": "stderr",
     "output_type": "stream",
     "text": [
      "\r",
      "  2%|▏         | 40/2125 [04:05<4:25:02,  7.63s/it]"
     ]
    },
    {
     "name": "stdout",
     "output_type": "stream",
     "text": [
      "[0, 0, 0, 0, 0, 0, 0, 0, 0, 0, 2000]\n",
      "[0, 0, 0, 0, 0, 0, 0, 0, 0, 4, 2000]\n"
     ]
    },
    {
     "name": "stderr",
     "output_type": "stream",
     "text": [
      "  2%|▏         | 43/2125 [04:24<3:48:20,  6.58s/it]"
     ]
    },
    {
     "name": "stdout",
     "output_type": "stream",
     "text": [
      "[0, 0, 0, 0, 0, 0, 0, 0, 0, 4, 2000]\n",
      "[0, 4, 0, 0, 0, 0, 0, 0, 0, 0, 2000]\n"
     ]
    },
    {
     "name": "stderr",
     "output_type": "stream",
     "text": [
      "  2%|▏         | 46/2125 [04:41<3:36:55,  6.26s/it]"
     ]
    },
    {
     "name": "stdout",
     "output_type": "stream",
     "text": [
      "[0, 0, 0, 0, 0, 0, 0, 0, 0, 0, 2000]\n",
      "[0, 0, 0, 0, 0, 4, 0, 0, 0, 0, 2000]\n"
     ]
    },
    {
     "name": "stderr",
     "output_type": "stream",
     "text": [
      "  2%|▏         | 48/2125 [04:54<3:42:10,  6.42s/it]"
     ]
    },
    {
     "name": "stdout",
     "output_type": "stream",
     "text": [
      "[0, 0, 0, 0, 0, 0, 0, 0, 0, 0, 2000]\n"
     ]
    },
    {
     "name": "stderr",
     "output_type": "stream",
     "text": [
      "  2%|▏         | 51/2125 [05:12<3:35:35,  6.24s/it]"
     ]
    },
    {
     "name": "stdout",
     "output_type": "stream",
     "text": [
      "[0, 0, 0, 0, 0, 0, 0, 0, 0, 0, 2000]\n",
      "[0, 0, 0, 0, 0, 0, 0, 0, 0, 0, 2000]\n",
      "[0, 0, 0, 0, 0, 4, 0, 0, 0, 0, 2000]\n"
     ]
    },
    {
     "name": "stderr",
     "output_type": "stream",
     "text": [
      "  2%|▏         | 53/2125 [05:22<3:16:29,  5.69s/it]"
     ]
    },
    {
     "name": "stdout",
     "output_type": "stream",
     "text": [
      "[0, 4, 0, 0, 0, 0, 0, 0, 0, 0, 2000]\n",
      "[4, 4, 4, 0, 0, 4, 4, 0, 4, 4, 2000]\n",
      "[0, 4, 4, 0, 4, 4, 4, 4, 0, 4, 2000]\n",
      "[4, 4, 4, 4, 4, 4, 0, 4, 4, 4, 2000]\n",
      "[4, 0, 4, 0, 4, 4, 0, 0, 0, 0, 2000]\n",
      "[4, 4, 4, 4, 4, 4, 0, 4, 4, 4, 2000]\n"
     ]
    },
    {
     "name": "stderr",
     "output_type": "stream",
     "text": [
      "\r",
      "  3%|▎         | 54/2125 [05:29<3:25:29,  5.95s/it]"
     ]
    },
    {
     "name": "stdout",
     "output_type": "stream",
     "text": [
      "[0, 0, 0, 0, 0, 0, 0, 0, 4, 0, 2000]\n",
      "[0, 0, 0, 0, 0, 0, 0, 0, 0, 0, 2000]\n",
      "[0, 0, 0, 0, 0, 4, 0, 0, 0, 0, 2000]\n"
     ]
    },
    {
     "name": "stderr",
     "output_type": "stream",
     "text": [
      "\r",
      "  3%|▎         | 55/2125 [05:34<3:17:11,  5.72s/it]"
     ]
    },
    {
     "name": "stdout",
     "output_type": "stream",
     "text": [
      "[0, 0, 0, 0, 0, 0, 0, 0, 0, 0, 2000]\n"
     ]
    },
    {
     "name": "stderr",
     "output_type": "stream",
     "text": [
      "  3%|▎         | 57/2125 [05:46<3:21:40,  5.85s/it]"
     ]
    },
    {
     "name": "stdout",
     "output_type": "stream",
     "text": [
      "[0, 0, 0, 0, 0, 0, 0, 0, 0, 0, 2000]\n"
     ]
    },
    {
     "name": "stderr",
     "output_type": "stream",
     "text": [
      "  3%|▎         | 59/2125 [05:59<3:25:09,  5.96s/it]"
     ]
    },
    {
     "name": "stdout",
     "output_type": "stream",
     "text": [
      "[0, 0, 0, 0, 0, 0, 0, 0, 0, 0, 2000]\n",
      "[0, 0, 0, 0, 0, 0, 0, 0, 0, 0, 2000]\n"
     ]
    },
    {
     "name": "stderr",
     "output_type": "stream",
     "text": [
      "\r",
      "  3%|▎         | 60/2125 [06:04<3:17:05,  5.73s/it]"
     ]
    },
    {
     "name": "stdout",
     "output_type": "stream",
     "text": [
      "[0, 0, 0, 0, 0, 0, 0, 4, 0, 0, 2000]\n"
     ]
    },
    {
     "name": "stderr",
     "output_type": "stream",
     "text": [
      "\r",
      "  3%|▎         | 61/2125 [06:11<3:29:56,  6.10s/it]"
     ]
    },
    {
     "name": "stdout",
     "output_type": "stream",
     "text": [
      "[0, 0, 0, 0, 0, 0, 0, 0, 0, 0, 2000]\n",
      "[0, 0, 0, 0, 0, 0, 0, 0, 0, 0, 2000]\n"
     ]
    },
    {
     "name": "stderr",
     "output_type": "stream",
     "text": [
      "\r",
      "  3%|▎         | 62/2125 [06:16<3:21:38,  5.86s/it]"
     ]
    },
    {
     "name": "stdout",
     "output_type": "stream",
     "text": [
      "[4, 0, 0, 0, 0, 0, 0, 0, 0, 0, 2000]\n"
     ]
    },
    {
     "name": "stderr",
     "output_type": "stream",
     "text": [
      "\r",
      "  3%|▎         | 63/2125 [06:21<3:15:03,  5.68s/it]"
     ]
    },
    {
     "name": "stdout",
     "output_type": "stream",
     "text": [
      "[0, 0, 0, 0, 4, 0, 0, 0, 0, 4, 2000]\n"
     ]
    },
    {
     "name": "stderr",
     "output_type": "stream",
     "text": [
      "  3%|▎         | 65/2125 [06:34<3:23:58,  5.94s/it]"
     ]
    },
    {
     "name": "stdout",
     "output_type": "stream",
     "text": [
      "[0, 0, 4, 0, 4, 0, 4, 4, 0, 4, 2000]\n",
      "[4, 4, 4, 4, 4, 4, 4, 4, 4, 4, 2000]\n",
      "[0, 0, 0, 0, 0, 0, 0, 0, 0, 0, 2000]\n",
      "[4, 0, 0, 0, 0, 0, 0, 0, 0, 0, 2000]\n",
      "[0, 0, 4, 0, 0, 0, 0, 0, 0, 4, 2000]\n",
      "[0, 0, 0, 4, 4, 0, 4, 4, 4, 0, 2000]\n",
      "[0, 0, 0, 0, 0, 0, 0, 0, 0, 0, 2000]\n"
     ]
    },
    {
     "name": "stderr",
     "output_type": "stream",
     "text": [
      "  3%|▎         | 67/2125 [06:47<3:29:47,  6.12s/it]"
     ]
    },
    {
     "name": "stdout",
     "output_type": "stream",
     "text": [
      "[0, 0, 0, 0, 0, 0, 4, 0, 4, 0, 2000]\n"
     ]
    },
    {
     "name": "stderr",
     "output_type": "stream",
     "text": [
      "  3%|▎         | 70/2125 [07:05<3:30:11,  6.14s/it]"
     ]
    },
    {
     "name": "stdout",
     "output_type": "stream",
     "text": [
      "[0, 0, 0, 0, 0, 0, 0, 0, 0, 0, 2000]\n",
      "[0, 0, 0, 0, 0, 0, 0, 0, 4, 0, 2000]\n"
     ]
    },
    {
     "name": "stderr",
     "output_type": "stream",
     "text": [
      "  3%|▎         | 73/2125 [07:24<3:32:47,  6.22s/it]"
     ]
    },
    {
     "name": "stdout",
     "output_type": "stream",
     "text": [
      "[0, 0, 0, 0, 0, 0, 0, 0, 4, 0, 2000]\n",
      "[0, 4, 0, 0, 0, 0, 0, 0, 0, 0, 2000]\n",
      "[0, 0, 0, 0, 4, 0, 0, 0, 4, 4, 2000]\n"
     ]
    },
    {
     "name": "stderr",
     "output_type": "stream",
     "text": [
      "  4%|▎         | 75/2125 [07:37<3:39:52,  6.44s/it]"
     ]
    },
    {
     "name": "stdout",
     "output_type": "stream",
     "text": [
      "[4, 0, 0, 0, 0, 0, 0, 0, 0, 0, 2000]\n",
      "[0, 0, 0, 0, 0, 0, 0, 0, 0, 0, 2000]\n",
      "[0, 0, 0, 0, 0, 0, 0, 0, 0, 0, 2000]\n"
     ]
    },
    {
     "name": "stderr",
     "output_type": "stream",
     "text": [
      "\r",
      "  4%|▎         | 76/2125 [07:42<3:27:53,  6.09s/it]"
     ]
    },
    {
     "name": "stdout",
     "output_type": "stream",
     "text": [
      "[0, 0, 0, 0, 0, 0, 0, 0, 0, 0, 2000]\n"
     ]
    },
    {
     "name": "stderr",
     "output_type": "stream",
     "text": [
      "\r",
      "  4%|▎         | 77/2125 [07:48<3:20:00,  5.86s/it]"
     ]
    },
    {
     "name": "stdout",
     "output_type": "stream",
     "text": [
      "[4, 0, 0, 0, 4, 0, 4, 4, 4, 4, 2000]\n"
     ]
    },
    {
     "name": "stderr",
     "output_type": "stream",
     "text": [
      "\r",
      "  4%|▎         | 78/2125 [07:55<3:32:14,  6.22s/it]"
     ]
    },
    {
     "name": "stdout",
     "output_type": "stream",
     "text": [
      "[0, 0, 0, 0, 0, 0, 0, 0, 0, 0, 2000]\n",
      "[0, 0, 0, 0, 4, 4, 0, 0, 4, 0, 2000]\n"
     ]
    },
    {
     "name": "stderr",
     "output_type": "stream",
     "text": [
      "  4%|▍         | 80/2125 [08:09<3:42:31,  6.53s/it]"
     ]
    },
    {
     "name": "stdout",
     "output_type": "stream",
     "text": [
      "[0, 0, 0, 0, 4, 0, 0, 0, 0, 0, 2000]\n"
     ]
    },
    {
     "name": "stderr",
     "output_type": "stream",
     "text": [
      "\r",
      "  4%|▍         | 81/2125 [08:17<3:58:30,  7.00s/it]"
     ]
    },
    {
     "name": "stdout",
     "output_type": "stream",
     "text": [
      "[0, 0, 0, 0, 0, 0, 0, 0, 0, 0, 2000]\n",
      "[0, 0, 0, 0, 0, 0, 0, 0, 0, 4, 2000]\n",
      "[0, 4, 0, 0, 0, 4, 0, 0, 0, 4, 2000]\n"
     ]
    },
    {
     "name": "stderr",
     "output_type": "stream",
     "text": [
      "\r",
      "  4%|▍         | 82/2125 [08:23<3:51:17,  6.79s/it]"
     ]
    },
    {
     "name": "stdout",
     "output_type": "stream",
     "text": [
      "[0, 0, 0, 0, 0, 0, 0, 0, 0, 0, 2000]\n",
      "[0, 0, 0, 0, 0, 0, 0, 4, 0, 0, 2000]\n",
      "[0, 0, 0, 4, 0, 0, 0, 0, 0, 0, 2000]\n",
      "[0, 0, 0, 0, 0, 0, 0, 0, 0, 0, 2000]\n"
     ]
    },
    {
     "name": "stderr",
     "output_type": "stream",
     "text": [
      "\r",
      "  4%|▍         | 83/2125 [08:29<3:35:26,  6.33s/it]"
     ]
    },
    {
     "name": "stdout",
     "output_type": "stream",
     "text": [
      "[0, 0, 0, 0, 0, 0, 0, 0, 0, 0, 2000]\n"
     ]
    },
    {
     "name": "stderr",
     "output_type": "stream",
     "text": [
      "\r",
      "  4%|▍         | 84/2125 [08:36<3:45:12,  6.62s/it]"
     ]
    },
    {
     "name": "stdout",
     "output_type": "stream",
     "text": [
      "[0, 0, 0, 0, 0, 0, 0, 0, 0, 0, 2000]\n"
     ]
    },
    {
     "name": "stderr",
     "output_type": "stream",
     "text": [
      "  4%|▍         | 88/2125 [09:00<3:25:11,  6.04s/it]"
     ]
    },
    {
     "name": "stdout",
     "output_type": "stream",
     "text": [
      "[0, 0, 0, 0, 0, 0, 0, 0, 0, 0, 2000]\n"
     ]
    },
    {
     "name": "stderr",
     "output_type": "stream",
     "text": [
      "\r",
      "  4%|▍         | 89/2125 [09:05<3:17:44,  5.83s/it]"
     ]
    },
    {
     "name": "stdout",
     "output_type": "stream",
     "text": [
      "[0, 4, 4, 4, 4, 4, 4, 4, 4, 4, 2000]\n",
      "[4, 0, 4, 4, 4, 4, 4, 4, 4, 4, 2000]\n",
      "[4, 4, 4, 4, 4, 4, 4, 0, 4, 4, 2000]\n"
     ]
    },
    {
     "name": "stderr",
     "output_type": "stream",
     "text": [
      "\r",
      "  4%|▍         | 90/2125 [09:12<3:33:30,  6.30s/it]"
     ]
    },
    {
     "name": "stdout",
     "output_type": "stream",
     "text": [
      "[0, 0, 0, 0, 0, 0, 0, 4, 0, 0, 2000]\n"
     ]
    },
    {
     "name": "stderr",
     "output_type": "stream",
     "text": [
      "\r",
      "  4%|▍         | 91/2125 [09:18<3:23:34,  6.01s/it]"
     ]
    },
    {
     "name": "stdout",
     "output_type": "stream",
     "text": [
      "[0, 0, 0, 0, 0, 0, 0, 0, 0, 0, 2000]\n",
      "[4, 4, 0, 0, 0, 0, 0, 0, 4, 4, 2000]\n",
      "[0, 0, 0, 0, 0, 0, 0, 0, 0, 0, 2000]\n",
      "[0, 0, 0, 0, 0, 0, 0, 0, 0, 0, 2000]\n",
      "[0, 0, 0, 4, 0, 4, 4, 0, 0, 0, 2000]\n"
     ]
    },
    {
     "name": "stderr",
     "output_type": "stream",
     "text": [
      "\r",
      "  4%|▍         | 92/2125 [09:25<3:35:30,  6.36s/it]"
     ]
    },
    {
     "name": "stdout",
     "output_type": "stream",
     "text": [
      "[0, 0, 0, 0, 0, 0, 0, 0, 0, 0, 2000]\n"
     ]
    },
    {
     "name": "stderr",
     "output_type": "stream",
     "text": [
      "  4%|▍         | 94/2125 [09:36<3:16:44,  5.81s/it]"
     ]
    },
    {
     "name": "stdout",
     "output_type": "stream",
     "text": [
      "[0, 0, 0, 0, 0, 4, 0, 4, 0, 0, 2000]\n"
     ]
    },
    {
     "name": "stderr",
     "output_type": "stream",
     "text": [
      "\r",
      "  4%|▍         | 95/2125 [09:43<3:28:05,  6.15s/it]"
     ]
    },
    {
     "name": "stdout",
     "output_type": "stream",
     "text": [
      "[4, 4, 0, 4, 4, 4, 4, 4, 4, 4, 2000]\n",
      "[4, 4, 4, 0, 4, 4, 0, 4, 4, 4, 2000]\n",
      "[0, 0, 4, 0, 4, 4, 0, 4, 0, 4, 2000]\n"
     ]
    },
    {
     "name": "stderr",
     "output_type": "stream",
     "text": [
      "\r",
      "  5%|▍         | 96/2125 [09:48<3:19:03,  5.89s/it]"
     ]
    },
    {
     "name": "stdout",
     "output_type": "stream",
     "text": [
      "[0, 0, 0, 0, 0, 0, 0, 0, 0, 0, 2000]\n",
      "[0, 0, 0, 0, 0, 0, 0, 0, 4, 0, 2000]\n"
     ]
    },
    {
     "name": "stderr",
     "output_type": "stream",
     "text": [
      "\r",
      "  5%|▍         | 97/2125 [09:55<3:31:11,  6.25s/it]"
     ]
    },
    {
     "name": "stdout",
     "output_type": "stream",
     "text": [
      "[0, 0, 0, 0, 0, 0, 0, 0, 0, 0, 2000]\n",
      "[0, 4, 4, 0, 0, 0, 0, 0, 0, 0, 2000]\n"
     ]
    },
    {
     "name": "stderr",
     "output_type": "stream",
     "text": [
      "\r",
      "  5%|▍         | 98/2125 [10:00<3:21:53,  5.98s/it]"
     ]
    },
    {
     "name": "stdout",
     "output_type": "stream",
     "text": [
      "[0, 4, 0, 0, 0, 0, 0, 0, 0, 0, 2000]\n",
      "[0, 0, 0, 0, 0, 0, 0, 0, 4, 0, 2000]\n",
      "[0, 0, 0, 0, 0, 0, 0, 0, 0, 0, 2000]\n"
     ]
    },
    {
     "name": "stderr",
     "output_type": "stream",
     "text": [
      "\r",
      "  5%|▍         | 99/2125 [10:05<3:14:10,  5.75s/it]"
     ]
    },
    {
     "name": "stdout",
     "output_type": "stream",
     "text": [
      "[4, 4, 0, 4, 0, 4, 4, 4, 4, 4, 2000]\n",
      "[4, 0, 0, 4, 0, 4, 0, 0, 4, 0, 2000]\n",
      "[4, 4, 4, 0, 0, 0, 4, 4, 4, 4, 2000]\n",
      "[0, 4, 4, 0, 0, 4, 0, 4, 4, 4, 2000]\n",
      "[0, 0, 4, 4, 0, 4, 4, 4, 4, 4, 2000]\n",
      "[4, 0, 4, 4, 4, 4, 0, 4, 4, 4, 2000]\n"
     ]
    },
    {
     "name": "stderr",
     "output_type": "stream",
     "text": [
      "  5%|▍         | 101/2125 [10:18<3:18:09,  5.87s/it]"
     ]
    },
    {
     "name": "stdout",
     "output_type": "stream",
     "text": [
      "[4, 0, 0, 0, 0, 0, 0, 0, 0, 0, 2000]\n",
      "[4, 4, 0, 0, 0, 0, 0, 0, 0, 0, 2000]\n",
      "[4, 4, 4, 4, 4, 4, 4, 4, 4, 4, 2000]\n",
      "[4, 4, 4, 4, 4, 4, 4, 4, 4, 4, 2000]\n",
      "[4, 4, 4, 4, 4, 4, 4, 4, 4, 4, 2000]\n",
      "[4, 4, 4, 4, 4, 4, 4, 0, 4, 4, 2000]\n",
      "[0, 4, 4, 4, 4, 4, 4, 4, 4, 4, 2000]\n",
      "[4, 4, 4, 4, 0, 4, 0, 4, 4, 4, 2000]\n",
      "[4, 0, 4, 0, 4, 0, 4, 4, 0, 0, 2000]\n",
      "[0, 4, 4, 0, 0, 0, 0, 4, 4, 0, 2000]\n",
      "[0, 0, 4, 4, 4, 4, 4, 0, 0, 4, 2000]\n",
      "[0, 4, 4, 0, 0, 4, 4, 4, 4, 4, 2000]\n"
     ]
    },
    {
     "name": "stderr",
     "output_type": "stream",
     "text": [
      "  5%|▍         | 104/2125 [10:36<3:16:40,  5.84s/it]"
     ]
    },
    {
     "name": "stdout",
     "output_type": "stream",
     "text": [
      "[0, 0, 0, 0, 0, 0, 0, 0, 0, 0, 2000]\n",
      "[0, 0, 0, 0, 0, 0, 0, 0, 0, 0, 2000]\n"
     ]
    },
    {
     "name": "stderr",
     "output_type": "stream",
     "text": [
      "\r",
      "  5%|▍         | 105/2125 [10:43<3:33:16,  6.34s/it]"
     ]
    },
    {
     "name": "stdout",
     "output_type": "stream",
     "text": [
      "[0, 0, 0, 0, 0, 0, 0, 0, 0, 0, 2000]\n",
      "[0, 0, 0, 0, 0, 0, 0, 0, 0, 0, 2000]\n",
      "[0, 4, 0, 0, 0, 4, 0, 0, 0, 0, 2000]\n"
     ]
    },
    {
     "name": "stderr",
     "output_type": "stream",
     "text": [
      "\r",
      "  5%|▍         | 106/2125 [10:49<3:25:18,  6.10s/it]"
     ]
    },
    {
     "name": "stdout",
     "output_type": "stream",
     "text": [
      "[0, 0, 0, 0, 0, 0, 0, 0, 4, 4, 2000]\n"
     ]
    },
    {
     "name": "stderr",
     "output_type": "stream",
     "text": [
      "\r",
      "  5%|▌         | 107/2125 [10:54<3:20:09,  5.95s/it]"
     ]
    },
    {
     "name": "stdout",
     "output_type": "stream",
     "text": [
      "[0, 0, 0, 0, 0, 0, 0, 0, 0, 0, 2000]\n"
     ]
    },
    {
     "name": "stderr",
     "output_type": "stream",
     "text": [
      "\r",
      "  5%|▌         | 108/2125 [11:00<3:15:32,  5.82s/it]"
     ]
    },
    {
     "name": "stdout",
     "output_type": "stream",
     "text": [
      "[0, 0, 0, 0, 0, 0, 0, 0, 0, 0, 2000]\n",
      "[0, 0, 0, 4, 4, 0, 4, 0, 0, 0, 2000]\n",
      "[0, 0, 0, 0, 0, 0, 0, 0, 0, 0, 2000]\n"
     ]
    },
    {
     "name": "stderr",
     "output_type": "stream",
     "text": [
      "\r",
      "  5%|▌         | 109/2125 [11:07<3:31:02,  6.28s/it]"
     ]
    },
    {
     "name": "stdout",
     "output_type": "stream",
     "text": [
      "[4, 4, 4, 4, 4, 4, 4, 4, 4, 4, 2000]\n",
      "[4, 4, 4, 4, 4, 4, 0, 4, 4, 4, 2000]\n",
      "[4, 4, 4, 0, 0, 4, 4, 4, 4, 4, 2000]\n",
      "[0, 0, 4, 0, 4, 0, 4, 4, 0, 4, 2000]\n",
      "[0, 0, 0, 0, 0, 0, 0, 0, 0, 0, 2000]\n",
      "[0, 0, 0, 0, 0, 0, 0, 0, 0, 0, 2000]\n"
     ]
    },
    {
     "name": "stderr",
     "output_type": "stream",
     "text": [
      "\r",
      "  5%|▌         | 110/2125 [11:13<3:22:12,  6.02s/it]"
     ]
    },
    {
     "name": "stdout",
     "output_type": "stream",
     "text": [
      "[0, 0, 0, 0, 0, 0, 4, 0, 0, 0, 2000]\n"
     ]
    },
    {
     "name": "stderr",
     "output_type": "stream",
     "text": [
      "  5%|▌         | 113/2125 [11:31<3:21:54,  6.02s/it]"
     ]
    },
    {
     "name": "stdout",
     "output_type": "stream",
     "text": [
      "[0, 0, 0, 0, 0, 0, 0, 0, 4, 0, 2000]\n"
     ]
    },
    {
     "name": "stderr",
     "output_type": "stream",
     "text": [
      "\r",
      "  5%|▌         | 114/2125 [11:39<3:36:31,  6.46s/it]"
     ]
    },
    {
     "name": "stdout",
     "output_type": "stream",
     "text": [
      "[4, 4, 4, 4, 0, 4, 4, 4, 4, 4, 2000]\n",
      "[4, 4, 4, 4, 4, 4, 4, 4, 0, 4, 2000]\n",
      "[4, 4, 0, 4, 4, 4, 4, 4, 4, 4, 2000]\n"
     ]
    },
    {
     "name": "stderr",
     "output_type": "stream",
     "text": [
      "  5%|▌         | 116/2125 [11:51<3:31:39,  6.32s/it]"
     ]
    },
    {
     "name": "stdout",
     "output_type": "stream",
     "text": [
      "[0, 0, 0, 0, 0, 0, 0, 0, 0, 0, 2000]\n",
      "[0, 4, 0, 0, 0, 0, 0, 0, 0, 0, 2000]\n",
      "[0, 0, 0, 0, 0, 0, 0, 4, 0, 0, 2000]\n"
     ]
    },
    {
     "name": "stderr",
     "output_type": "stream",
     "text": [
      "\r",
      "  6%|▌         | 117/2125 [12:01<4:09:15,  7.45s/it]"
     ]
    },
    {
     "name": "stdout",
     "output_type": "stream",
     "text": [
      "[0, 0, 4, 0, 0, 0, 0, 0, 0, 0, 2000]\n",
      "[0, 0, 0, 0, 4, 4, 4, 4, 0, 4, 2000]\n",
      "[0, 0, 0, 0, 0, 0, 0, 0, 0, 4, 2000]\n",
      "[0, 0, 0, 0, 0, 0, 0, 0, 0, 0, 2000]\n",
      "[0, 0, 0, 0, 0, 0, 0, 0, 0, 0, 2000]\n",
      "[0, 0, 0, 4, 0, 0, 0, 0, 0, 0, 2000]\n"
     ]
    },
    {
     "name": "stderr",
     "output_type": "stream",
     "text": [
      "\r",
      "  6%|▌         | 118/2125 [12:10<4:27:54,  8.01s/it]"
     ]
    },
    {
     "name": "stdout",
     "output_type": "stream",
     "text": [
      "[0, 0, 0, 0, 0, 0, 0, 0, 0, 4, 2000]\n",
      "[4, 0, 0, 0, 0, 0, 0, 0, 4, 0, 2000]\n",
      "[0, 4, 4, 0, 4, 0, 4, 4, 0, 4, 2000]\n",
      "[4, 4, 4, 0, 0, 0, 0, 4, 0, 4, 2000]\n",
      "[0, 0, 0, 0, 0, 4, 0, 0, 4, 0, 2000]\n",
      "[0, 0, 0, 0, 0, 0, 0, 0, 0, 0, 2000]\n"
     ]
    },
    {
     "name": "stderr",
     "output_type": "stream",
     "text": [
      "\r",
      "  6%|▌         | 119/2125 [12:17<4:18:02,  7.72s/it]"
     ]
    },
    {
     "name": "stdout",
     "output_type": "stream",
     "text": [
      "[0, 0, 0, 4, 0, 4, 0, 4, 0, 4, 2000]\n"
     ]
    },
    {
     "name": "stderr",
     "output_type": "stream",
     "text": [
      "\r",
      "  6%|▌         | 120/2125 [12:25<4:17:45,  7.71s/it]"
     ]
    },
    {
     "name": "stdout",
     "output_type": "stream",
     "text": [
      "[0, 0, 0, 0, 0, 0, 0, 0, 0, 0, 2000]\n"
     ]
    },
    {
     "name": "stderr",
     "output_type": "stream",
     "text": [
      "\r",
      "  6%|▌         | 121/2125 [12:31<3:56:16,  7.07s/it]"
     ]
    },
    {
     "name": "stdout",
     "output_type": "stream",
     "text": [
      "[0, 0, 0, 0, 0, 0, 0, 0, 0, 0, 2000]\n",
      "[0, 0, 0, 0, 0, 0, 0, 0, 0, 0, 2000]\n",
      "[0, 0, 0, 0, 0, 0, 0, 4, 0, 0, 2000]\n"
     ]
    },
    {
     "name": "stderr",
     "output_type": "stream",
     "text": [
      "  6%|▌         | 123/2125 [12:43<3:40:26,  6.61s/it]"
     ]
    },
    {
     "name": "stdout",
     "output_type": "stream",
     "text": [
      "[0, 0, 0, 0, 0, 0, 0, 0, 0, 0, 2000]\n"
     ]
    },
    {
     "name": "stderr",
     "output_type": "stream",
     "text": [
      "\r",
      "  6%|▌         | 124/2125 [12:51<3:48:19,  6.85s/it]"
     ]
    },
    {
     "name": "stdout",
     "output_type": "stream",
     "text": [
      "[0, 0, 0, 0, 0, 0, 0, 0, 0, 0, 2000]\n"
     ]
    },
    {
     "name": "stderr",
     "output_type": "stream",
     "text": [
      "  6%|▌         | 126/2125 [13:02<3:27:22,  6.22s/it]"
     ]
    },
    {
     "name": "stdout",
     "output_type": "stream",
     "text": [
      "[0, 0, 0, 0, 0, 4, 0, 0, 0, 0, 2000]\n"
     ]
    },
    {
     "name": "stderr",
     "output_type": "stream",
     "text": [
      "  6%|▌         | 128/2125 [13:14<3:25:19,  6.17s/it]"
     ]
    },
    {
     "name": "stdout",
     "output_type": "stream",
     "text": [
      "[0, 0, 0, 0, 0, 0, 0, 0, 0, 0, 2000]\n",
      "[0, 0, 0, 0, 0, 0, 0, 0, 0, 0, 2000]\n",
      "[0, 0, 0, 0, 0, 0, 0, 0, 0, 0, 2000]\n"
     ]
    },
    {
     "name": "stderr",
     "output_type": "stream",
     "text": [
      "\r",
      "  6%|▌         | 129/2125 [13:21<3:34:48,  6.46s/it]"
     ]
    },
    {
     "name": "stdout",
     "output_type": "stream",
     "text": [
      "[4, 0, 0, 0, 0, 0, 0, 0, 0, 0, 2000]\n",
      "[0, 0, 0, 0, 0, 0, 4, 0, 0, 0, 2000]\n",
      "[0, 0, 0, 0, 0, 0, 0, 0, 0, 0, 2000]\n"
     ]
    },
    {
     "name": "stderr",
     "output_type": "stream",
     "text": [
      "\r",
      "  6%|▌         | 130/2125 [13:27<3:23:29,  6.12s/it]"
     ]
    },
    {
     "name": "stdout",
     "output_type": "stream",
     "text": [
      "[0, 0, 0, 0, 0, 0, 0, 0, 0, 0, 2000]\n",
      "[0, 0, 0, 0, 4, 0, 0, 0, 0, 0, 2000]\n"
     ]
    },
    {
     "name": "stderr",
     "output_type": "stream",
     "text": [
      "  6%|▋         | 133/2125 [13:45<3:16:16,  5.91s/it]"
     ]
    },
    {
     "name": "stdout",
     "output_type": "stream",
     "text": [
      "[0, 0, 0, 0, 0, 0, 0, 0, 0, 0, 2000]\n",
      "[0, 0, 0, 0, 0, 0, 0, 0, 0, 0, 2000]\n",
      "[0, 0, 0, 0, 0, 0, 4, 0, 4, 0, 2000]\n",
      "[0, 0, 0, 0, 0, 0, 0, 0, 0, 0, 2000]\n"
     ]
    },
    {
     "name": "stderr",
     "output_type": "stream",
     "text": [
      "\r",
      "  6%|▋         | 134/2125 [13:52<3:28:35,  6.29s/it]"
     ]
    },
    {
     "name": "stdout",
     "output_type": "stream",
     "text": [
      "[0, 0, 0, 0, 0, 0, 0, 0, 0, 0, 2000]\n",
      "[0, 0, 0, 0, 0, 0, 0, 0, 0, 0, 2000]\n"
     ]
    },
    {
     "name": "stderr",
     "output_type": "stream",
     "text": [
      "\r",
      "  6%|▋         | 135/2125 [13:57<3:19:52,  6.03s/it]"
     ]
    },
    {
     "name": "stdout",
     "output_type": "stream",
     "text": [
      "[0, 0, 0, 0, 0, 0, 0, 0, 0, 0, 2000]\n"
     ]
    },
    {
     "name": "stderr",
     "output_type": "stream",
     "text": [
      "\r",
      "  6%|▋         | 136/2125 [14:03<3:13:38,  5.84s/it]"
     ]
    },
    {
     "name": "stdout",
     "output_type": "stream",
     "text": [
      "[0, 0, 0, 0, 0, 0, 0, 0, 0, 0, 2000]\n"
     ]
    },
    {
     "name": "stderr",
     "output_type": "stream",
     "text": [
      "\r",
      "  6%|▋         | 137/2125 [14:10<3:26:42,  6.24s/it]"
     ]
    },
    {
     "name": "stdout",
     "output_type": "stream",
     "text": [
      "[0, 4, 0, 4, 4, 0, 4, 0, 4, 0, 2000]\n",
      "[0, 4, 0, 0, 0, 4, 0, 0, 0, 0, 2000]\n",
      "[0, 0, 0, 0, 0, 0, 0, 0, 0, 0, 2000]\n",
      "[0, 0, 0, 0, 0, 0, 0, 0, 0, 0, 2000]\n"
     ]
    },
    {
     "name": "stderr",
     "output_type": "stream",
     "text": [
      "\r",
      "  6%|▋         | 138/2125 [14:15<3:18:09,  5.98s/it]"
     ]
    },
    {
     "name": "stdout",
     "output_type": "stream",
     "text": [
      "[0, 0, 0, 0, 0, 0, 0, 0, 0, 0, 2000]\n"
     ]
    },
    {
     "name": "stderr",
     "output_type": "stream",
     "text": [
      "\r",
      "  7%|▋         | 139/2125 [14:21<3:11:12,  5.78s/it]"
     ]
    },
    {
     "name": "stdout",
     "output_type": "stream",
     "text": [
      "[0, 0, 0, 0, 0, 0, 0, 0, 0, 0, 2000]\n",
      "[0, 0, 0, 0, 0, 0, 0, 0, 0, 0, 2000]\n",
      "[0, 4, 4, 0, 4, 0, 0, 0, 0, 0, 2000]\n"
     ]
    },
    {
     "name": "stderr",
     "output_type": "stream",
     "text": [
      "\r",
      "  7%|▋         | 140/2125 [14:28<3:23:57,  6.17s/it]"
     ]
    },
    {
     "name": "stdout",
     "output_type": "stream",
     "text": [
      "[0, 0, 0, 0, 0, 0, 0, 0, 0, 0, 2000]\n"
     ]
    },
    {
     "name": "stderr",
     "output_type": "stream",
     "text": [
      "  7%|▋         | 145/2125 [14:58<3:13:30,  5.86s/it]"
     ]
    },
    {
     "name": "stdout",
     "output_type": "stream",
     "text": [
      "[0, 0, 0, 0, 0, 0, 0, 0, 0, 0, 2000]\n",
      "[0, 0, 0, 0, 0, 0, 0, 0, 4, 0, 2000]\n",
      "[0, 0, 0, 0, 0, 0, 0, 0, 0, 0, 2000]\n"
     ]
    },
    {
     "name": "stderr",
     "output_type": "stream",
     "text": [
      "\r",
      "  7%|▋         | 146/2125 [15:05<3:27:36,  6.29s/it]"
     ]
    },
    {
     "name": "stdout",
     "output_type": "stream",
     "text": [
      "[0, 0, 0, 0, 0, 0, 0, 0, 0, 4, 2000]\n"
     ]
    },
    {
     "name": "stderr",
     "output_type": "stream",
     "text": [
      "  7%|▋         | 149/2125 [15:24<3:25:40,  6.25s/it]"
     ]
    },
    {
     "name": "stdout",
     "output_type": "stream",
     "text": [
      "[0, 0, 0, 0, 4, 0, 0, 0, 0, 0, 2000]\n"
     ]
    },
    {
     "name": "stderr",
     "output_type": "stream",
     "text": [
      "\r",
      "  7%|▋         | 150/2125 [15:31<3:38:23,  6.63s/it]"
     ]
    },
    {
     "name": "stdout",
     "output_type": "stream",
     "text": [
      "[4, 0, 0, 4, 4, 4, 4, 4, 4, 4, 2000]\n",
      "[0, 4, 0, 0, 0, 0, 0, 0, 0, 0, 2000]\n",
      "[0, 4, 0, 0, 0, 0, 0, 0, 0, 0, 2000]\n",
      "[0, 0, 0, 0, 0, 0, 0, 0, 0, 0, 2000]\n"
     ]
    },
    {
     "name": "stderr",
     "output_type": "stream",
     "text": [
      "  7%|▋         | 154/2125 [15:55<3:24:09,  6.21s/it]"
     ]
    },
    {
     "name": "stdout",
     "output_type": "stream",
     "text": [
      "[0, 0, 0, 0, 0, 0, 0, 0, 0, 0, 2000]\n"
     ]
    },
    {
     "name": "stderr",
     "output_type": "stream",
     "text": [
      "\r",
      "  7%|▋         | 155/2125 [16:03<3:37:45,  6.63s/it]"
     ]
    },
    {
     "name": "stdout",
     "output_type": "stream",
     "text": [
      "[0, 0, 0, 0, 4, 0, 0, 0, 0, 0, 2000]\n",
      "[0, 0, 0, 0, 0, 0, 0, 0, 0, 4, 2000]\n",
      "[0, 4, 0, 0, 4, 4, 0, 4, 0, 4, 2000]\n",
      "[0, 0, 0, 0, 0, 0, 0, 0, 0, 0, 2000]\n"
     ]
    },
    {
     "name": "stderr",
     "output_type": "stream",
     "text": [
      "  7%|▋         | 157/2125 [16:19<3:59:37,  7.31s/it]"
     ]
    },
    {
     "name": "stdout",
     "output_type": "stream",
     "text": [
      "[0, 0, 0, 0, 0, 0, 0, 0, 0, 0, 2000]\n"
     ]
    },
    {
     "name": "stderr",
     "output_type": "stream",
     "text": [
      "\r",
      "  7%|▋         | 158/2125 [16:25<3:43:21,  6.81s/it]"
     ]
    },
    {
     "name": "stdout",
     "output_type": "stream",
     "text": [
      "[0, 0, 0, 0, 4, 0, 0, 0, 0, 0, 2000]\n"
     ]
    },
    {
     "name": "stderr",
     "output_type": "stream",
     "text": [
      "  8%|▊         | 160/2125 [16:38<3:35:05,  6.57s/it]"
     ]
    },
    {
     "name": "stdout",
     "output_type": "stream",
     "text": [
      "[0, 4, 0, 0, 0, 0, 0, 0, 0, 0, 2000]\n"
     ]
    },
    {
     "name": "stderr",
     "output_type": "stream",
     "text": [
      "  8%|▊         | 164/2125 [17:05<3:41:50,  6.79s/it]"
     ]
    },
    {
     "name": "stdout",
     "output_type": "stream",
     "text": [
      "[0, 0, 0, 0, 0, 0, 0, 0, 0, 0, 2000]\n",
      "[0, 0, 0, 0, 0, 0, 0, 0, 0, 0, 2000]\n"
     ]
    },
    {
     "name": "stderr",
     "output_type": "stream",
     "text": [
      "\r",
      "  8%|▊         | 165/2125 [17:11<3:35:18,  6.59s/it]"
     ]
    },
    {
     "name": "stdout",
     "output_type": "stream",
     "text": [
      "[4, 0, 0, 0, 0, 0, 0, 0, 0, 0, 2000]\n"
     ]
    },
    {
     "name": "stderr",
     "output_type": "stream",
     "text": [
      "\r",
      "  8%|▊         | 166/2125 [17:17<3:27:36,  6.36s/it]"
     ]
    },
    {
     "name": "stdout",
     "output_type": "stream",
     "text": [
      "[0, 4, 4, 0, 4, 0, 4, 4, 4, 4, 2000]\n",
      "[4, 0, 4, 4, 4, 0, 4, 4, 4, 4, 2000]\n",
      "[0, 4, 0, 4, 4, 0, 4, 4, 0, 4, 2000]\n",
      "[0, 0, 0, 0, 0, 0, 0, 0, 0, 0, 2000]\n"
     ]
    },
    {
     "name": "stderr",
     "output_type": "stream",
     "text": [
      "\r",
      "  8%|▊         | 167/2125 [17:24<3:42:30,  6.82s/it]"
     ]
    },
    {
     "name": "stdout",
     "output_type": "stream",
     "text": [
      "[0, 0, 4, 0, 0, 0, 0, 0, 0, 0, 2000]\n"
     ]
    },
    {
     "name": "stderr",
     "output_type": "stream",
     "text": [
      "\r",
      "  8%|▊         | 168/2125 [17:30<3:32:13,  6.51s/it]"
     ]
    },
    {
     "name": "stdout",
     "output_type": "stream",
     "text": [
      "[0, 4, 0, 0, 0, 0, 0, 0, 0, 0, 2000]\n"
     ]
    },
    {
     "name": "stderr",
     "output_type": "stream",
     "text": [
      "  8%|▊         | 170/2125 [17:41<3:13:22,  5.93s/it]"
     ]
    },
    {
     "name": "stdout",
     "output_type": "stream",
     "text": [
      "[0, 0, 0, 0, 0, 0, 0, 0, 0, 0, 2000]\n",
      "[0, 0, 0, 0, 0, 0, 0, 0, 0, 4, 2000]\n"
     ]
    },
    {
     "name": "stderr",
     "output_type": "stream",
     "text": [
      "\r",
      "  8%|▊         | 171/2125 [17:48<3:25:31,  6.31s/it]"
     ]
    },
    {
     "name": "stdout",
     "output_type": "stream",
     "text": [
      "[0, 0, 0, 0, 0, 0, 0, 0, 0, 0, 2000]\n"
     ]
    },
    {
     "name": "stderr",
     "output_type": "stream",
     "text": [
      "  8%|▊         | 173/2125 [18:01<3:31:03,  6.49s/it]"
     ]
    },
    {
     "name": "stdout",
     "output_type": "stream",
     "text": [
      "[0, 0, 0, 0, 0, 0, 0, 0, 0, 0, 2000]\n"
     ]
    },
    {
     "name": "stderr",
     "output_type": "stream",
     "text": [
      "\r",
      "  8%|▊         | 174/2125 [18:07<3:21:17,  6.19s/it]"
     ]
    },
    {
     "name": "stdout",
     "output_type": "stream",
     "text": [
      "[0, 0, 0, 0, 0, 0, 0, 0, 0, 0, 2000]\n"
     ]
    },
    {
     "name": "stderr",
     "output_type": "stream",
     "text": [
      "\r",
      "  8%|▊         | 175/2125 [18:12<3:11:24,  5.89s/it]"
     ]
    },
    {
     "name": "stdout",
     "output_type": "stream",
     "text": [
      "[0, 0, 4, 0, 0, 0, 0, 0, 0, 0, 2000]\n"
     ]
    },
    {
     "name": "stderr",
     "output_type": "stream",
     "text": [
      "  8%|▊         | 178/2125 [18:33<3:39:59,  6.78s/it]"
     ]
    },
    {
     "name": "stdout",
     "output_type": "stream",
     "text": [
      "[0, 4, 0, 4, 0, 0, 4, 0, 4, 4, 2000]\n",
      "[0, 0, 0, 4, 0, 4, 0, 0, 0, 0, 2000]\n",
      "[0, 0, 4, 0, 4, 4, 0, 0, 4, 4, 2000]\n",
      "[0, 0, 0, 0, 0, 0, 0, 0, 0, 0, 2000]\n"
     ]
    },
    {
     "name": "stderr",
     "output_type": "stream",
     "text": [
      "  9%|▊         | 181/2125 [18:52<3:28:19,  6.43s/it]"
     ]
    },
    {
     "name": "stdout",
     "output_type": "stream",
     "text": [
      "[0, 0, 0, 4, 0, 0, 0, 0, 0, 0, 2000]\n",
      "[0, 0, 0, 0, 0, 0, 0, 0, 0, 0, 2000]\n",
      "[4, 0, 0, 0, 0, 0, 0, 0, 0, 0, 2000]\n"
     ]
    },
    {
     "name": "stderr",
     "output_type": "stream",
     "text": [
      "\r",
      "  9%|▊         | 182/2125 [18:59<3:39:08,  6.77s/it]"
     ]
    },
    {
     "name": "stdout",
     "output_type": "stream",
     "text": [
      "[0, 0, 0, 0, 0, 0, 0, 0, 0, 0, 2000]\n"
     ]
    },
    {
     "name": "stderr",
     "output_type": "stream",
     "text": [
      "\r",
      "  9%|▊         | 183/2125 [19:05<3:30:43,  6.51s/it]"
     ]
    },
    {
     "name": "stdout",
     "output_type": "stream",
     "text": [
      "[0, 0, 0, 0, 0, 0, 0, 0, 0, 0, 2000]\n",
      "[0, 0, 0, 0, 0, 0, 0, 0, 0, 0, 2000]\n",
      "[0, 0, 0, 0, 0, 0, 0, 0, 0, 0, 2000]\n",
      "[0, 0, 4, 0, 0, 0, 0, 0, 0, 0, 2000]\n"
     ]
    },
    {
     "name": "stderr",
     "output_type": "stream",
     "text": [
      "\r",
      "  9%|▊         | 184/2125 [19:11<3:24:33,  6.32s/it]"
     ]
    },
    {
     "name": "stdout",
     "output_type": "stream",
     "text": [
      "[0, 0, 0, 0, 0, 0, 0, 0, 0, 0, 2000]\n",
      "[4, 0, 0, 4, 0, 4, 0, 0, 0, 0, 2000]\n",
      "[0, 0, 0, 0, 0, 0, 0, 0, 0, 0, 2000]\n",
      "[0, 0, 0, 0, 0, 0, 0, 0, 0, 0, 2000]\n",
      "[0, 0, 0, 0, 0, 0, 0, 0, 0, 0, 2000]\n",
      "[0, 0, 0, 0, 0, 0, 0, 4, 0, 0, 2000]\n",
      "[0, 0, 0, 0, 0, 0, 0, 0, 0, 0, 2000]\n"
     ]
    },
    {
     "name": "stderr",
     "output_type": "stream",
     "text": [
      "  9%|▉         | 188/2125 [19:39<3:45:08,  6.97s/it]"
     ]
    },
    {
     "name": "stdout",
     "output_type": "stream",
     "text": [
      "[0, 0, 0, 0, 0, 0, 0, 0, 0, 0, 2000]\n",
      "[0, 0, 0, 4, 0, 0, 0, 0, 0, 0, 2000]\n"
     ]
    },
    {
     "name": "stderr",
     "output_type": "stream",
     "text": [
      "\r",
      "  9%|▉         | 189/2125 [19:44<3:32:14,  6.58s/it]"
     ]
    },
    {
     "name": "stdout",
     "output_type": "stream",
     "text": [
      "[0, 0, 0, 0, 0, 0, 0, 0, 0, 0, 2000]\n"
     ]
    },
    {
     "name": "stderr",
     "output_type": "stream",
     "text": [
      "\r",
      "  9%|▉         | 190/2125 [19:50<3:22:17,  6.27s/it]"
     ]
    },
    {
     "name": "stdout",
     "output_type": "stream",
     "text": [
      "[0, 0, 0, 0, 0, 0, 0, 0, 0, 0, 2000]\n",
      "[0, 0, 0, 0, 0, 0, 0, 0, 0, 0, 2000]\n"
     ]
    },
    {
     "name": "stderr",
     "output_type": "stream",
     "text": [
      "  9%|▉         | 194/2125 [20:16<3:30:35,  6.54s/it]"
     ]
    },
    {
     "name": "stdout",
     "output_type": "stream",
     "text": [
      "[0, 0, 0, 0, 0, 0, 0, 0, 0, 0, 2000]\n"
     ]
    },
    {
     "name": "stderr",
     "output_type": "stream",
     "text": [
      "\r",
      "  9%|▉         | 195/2125 [20:22<3:21:18,  6.26s/it]"
     ]
    },
    {
     "name": "stdout",
     "output_type": "stream",
     "text": [
      "[0, 4, 0, 0, 0, 0, 0, 0, 0, 4, 2000]\n"
     ]
    },
    {
     "name": "stderr",
     "output_type": "stream",
     "text": [
      "\r",
      "  9%|▉         | 196/2125 [20:29<3:34:37,  6.68s/it]"
     ]
    },
    {
     "name": "stdout",
     "output_type": "stream",
     "text": [
      "[0, 4, 0, 0, 0, 0, 4, 0, 0, 0, 2000]\n"
     ]
    },
    {
     "name": "stderr",
     "output_type": "stream",
     "text": [
      "\r",
      "  9%|▉         | 197/2125 [20:35<3:27:43,  6.46s/it]"
     ]
    },
    {
     "name": "stdout",
     "output_type": "stream",
     "text": [
      "[0, 0, 0, 0, 0, 0, 0, 0, 0, 0, 2000]\n"
     ]
    },
    {
     "name": "stderr",
     "output_type": "stream",
     "text": [
      "  9%|▉         | 199/2125 [20:48<3:30:20,  6.55s/it]"
     ]
    },
    {
     "name": "stdout",
     "output_type": "stream",
     "text": [
      "[0, 0, 0, 0, 0, 0, 0, 0, 0, 0, 2000]\n",
      "[0, 0, 0, 0, 0, 0, 0, 0, 0, 0, 2000]\n",
      "[4, 0, 0, 4, 4, 4, 4, 0, 4, 0, 2000]\n",
      "[4, 0, 0, 0, 4, 4, 0, 4, 0, 4, 2000]\n",
      "[4, 4, 0, 4, 4, 4, 0, 0, 4, 4, 2000]\n"
     ]
    },
    {
     "name": "stderr",
     "output_type": "stream",
     "text": [
      " 10%|▉         | 202/2125 [21:07<3:23:16,  6.34s/it]"
     ]
    },
    {
     "name": "stdout",
     "output_type": "stream",
     "text": [
      "[0, 0, 0, 4, 0, 0, 0, 0, 4, 0, 2000]\n"
     ]
    },
    {
     "name": "stderr",
     "output_type": "stream",
     "text": [
      "\r",
      " 10%|▉         | 203/2125 [21:15<3:36:22,  6.75s/it]"
     ]
    },
    {
     "name": "stdout",
     "output_type": "stream",
     "text": [
      "[0, 0, 0, 0, 0, 0, 0, 0, 0, 0, 2000]\n"
     ]
    },
    {
     "name": "stderr",
     "output_type": "stream",
     "text": [
      " 10%|▉         | 207/2125 [21:39<3:22:45,  6.34s/it]"
     ]
    },
    {
     "name": "stdout",
     "output_type": "stream",
     "text": [
      "[0, 0, 0, 0, 0, 0, 0, 0, 0, 0, 2000]\n",
      "[0, 0, 0, 0, 0, 0, 4, 0, 0, 0, 2000]\n"
     ]
    },
    {
     "name": "stderr",
     "output_type": "stream",
     "text": [
      " 10%|▉         | 211/2125 [22:05<3:26:48,  6.48s/it]"
     ]
    },
    {
     "name": "stdout",
     "output_type": "stream",
     "text": [
      "[0, 0, 0, 0, 0, 0, 0, 0, 0, 0, 2000]\n",
      "[0, 0, 0, 0, 0, 0, 0, 0, 0, 0, 2000]\n",
      "[4, 4, 0, 4, 0, 0, 4, 4, 4, 0, 2000]\n"
     ]
    },
    {
     "name": "stderr",
     "output_type": "stream",
     "text": [
      "\r",
      " 10%|▉         | 212/2125 [22:11<3:16:25,  6.16s/it]"
     ]
    },
    {
     "name": "stdout",
     "output_type": "stream",
     "text": [
      "[0, 0, 0, 0, 0, 0, 0, 0, 0, 0, 2000]\n"
     ]
    },
    {
     "name": "stderr",
     "output_type": "stream",
     "text": [
      " 10%|█         | 214/2125 [22:26<3:33:37,  6.71s/it]"
     ]
    },
    {
     "name": "stdout",
     "output_type": "stream",
     "text": [
      "[0, 0, 0, 0, 4, 0, 0, 4, 0, 0, 2000]\n",
      "[0, 4, 0, 0, 0, 0, 0, 0, 0, 0, 2000]\n"
     ]
    },
    {
     "name": "stderr",
     "output_type": "stream",
     "text": [
      "\r",
      " 10%|█         | 215/2125 [22:31<3:22:46,  6.37s/it]"
     ]
    },
    {
     "name": "stdout",
     "output_type": "stream",
     "text": [
      "[0, 0, 0, 0, 0, 0, 0, 0, 0, 0, 2000]\n",
      "[0, 0, 0, 0, 0, 0, 0, 0, 0, 4, 2000]\n",
      "[0, 0, 0, 0, 0, 0, 0, 0, 0, 0, 2000]\n"
     ]
    },
    {
     "name": "stderr",
     "output_type": "stream",
     "text": [
      "\r",
      " 10%|█         | 216/2125 [22:39<3:33:28,  6.71s/it]"
     ]
    },
    {
     "name": "stdout",
     "output_type": "stream",
     "text": [
      "[0, 0, 0, 0, 0, 0, 0, 0, 0, 0, 2000]\n",
      "[0, 0, 4, 0, 0, 0, 4, 0, 4, 4, 2000]\n",
      "[0, 0, 4, 0, 0, 0, 0, 0, 0, 0, 2000]\n",
      "[0, 0, 4, 0, 0, 0, 0, 0, 0, 0, 2000]\n"
     ]
    },
    {
     "name": "stderr",
     "output_type": "stream",
     "text": [
      "\r",
      " 10%|█         | 217/2125 [22:44<3:23:43,  6.41s/it]"
     ]
    },
    {
     "name": "stdout",
     "output_type": "stream",
     "text": [
      "[0, 0, 0, 0, 0, 0, 0, 0, 0, 0, 2000]\n"
     ]
    },
    {
     "name": "stderr",
     "output_type": "stream",
     "text": [
      "\r",
      " 10%|█         | 218/2125 [22:50<3:13:13,  6.08s/it]"
     ]
    },
    {
     "name": "stdout",
     "output_type": "stream",
     "text": [
      "[0, 0, 0, 0, 0, 0, 4, 0, 0, 0, 2000]\n",
      "[0, 0, 0, 0, 0, 0, 0, 0, 0, 0, 2000]\n",
      "[0, 4, 0, 4, 0, 4, 0, 0, 0, 0, 2000]\n"
     ]
    },
    {
     "name": "stderr",
     "output_type": "stream",
     "text": [
      "\r",
      " 10%|█         | 219/2125 [22:57<3:24:30,  6.44s/it]"
     ]
    },
    {
     "name": "stdout",
     "output_type": "stream",
     "text": [
      "[0, 0, 0, 0, 0, 0, 0, 0, 0, 0, 2000]\n"
     ]
    },
    {
     "name": "stderr",
     "output_type": "stream",
     "text": [
      " 10%|█         | 222/2125 [23:16<3:20:30,  6.32s/it]"
     ]
    },
    {
     "name": "stdout",
     "output_type": "stream",
     "text": [
      "[0, 0, 0, 0, 4, 4, 0, 0, 0, 0, 2000]\n",
      "[0, 0, 4, 0, 0, 0, 4, 0, 0, 0, 2000]\n",
      "[4, 4, 4, 4, 4, 4, 4, 4, 4, 4, 2000]\n",
      "[4, 0, 4, 4, 0, 4, 4, 4, 4, 0, 2000]\n",
      "[0, 0, 0, 0, 4, 0, 0, 0, 4, 0, 2000]\n",
      "[0, 4, 0, 0, 4, 0, 0, 0, 0, 0, 2000]\n"
     ]
    },
    {
     "name": "stderr",
     "output_type": "stream",
     "text": [
      " 11%|█         | 225/2125 [23:36<3:30:46,  6.66s/it]"
     ]
    },
    {
     "name": "stdout",
     "output_type": "stream",
     "text": [
      "[0, 0, 0, 4, 0, 0, 0, 0, 0, 0, 2000]\n"
     ]
    },
    {
     "name": "stderr",
     "output_type": "stream",
     "text": [
      " 11%|█         | 227/2125 [23:50<3:35:26,  6.81s/it]"
     ]
    },
    {
     "name": "stdout",
     "output_type": "stream",
     "text": [
      "[0, 0, 0, 0, 0, 0, 0, 0, 0, 0, 2000]\n"
     ]
    },
    {
     "name": "stderr",
     "output_type": "stream",
     "text": [
      "\r",
      " 11%|█         | 228/2125 [23:55<3:26:07,  6.52s/it]"
     ]
    },
    {
     "name": "stdout",
     "output_type": "stream",
     "text": [
      "[0, 0, 0, 0, 0, 0, 0, 0, 0, 0, 2000]\n"
     ]
    },
    {
     "name": "stderr",
     "output_type": "stream",
     "text": [
      " 11%|█         | 230/2125 [24:07<3:12:57,  6.11s/it]"
     ]
    },
    {
     "name": "stdout",
     "output_type": "stream",
     "text": [
      "[0, 0, 4, 0, 0, 0, 0, 0, 0, 0, 2000]\n"
     ]
    },
    {
     "name": "stderr",
     "output_type": "stream",
     "text": [
      "\r",
      " 11%|█         | 231/2125 [24:14<3:26:35,  6.54s/it]"
     ]
    },
    {
     "name": "stdout",
     "output_type": "stream",
     "text": [
      "[0, 4, 0, 0, 0, 0, 0, 0, 0, 0, 2000]\n"
     ]
    },
    {
     "name": "stderr",
     "output_type": "stream",
     "text": [
      "\r",
      " 11%|█         | 232/2125 [24:20<3:18:52,  6.30s/it]"
     ]
    },
    {
     "name": "stdout",
     "output_type": "stream",
     "text": [
      "[4, 0, 4, 4, 4, 4, 4, 4, 0, 0, 2000]\n"
     ]
    },
    {
     "name": "stderr",
     "output_type": "stream",
     "text": [
      " 11%|█         | 234/2125 [24:33<3:20:01,  6.35s/it]"
     ]
    },
    {
     "name": "stdout",
     "output_type": "stream",
     "text": [
      "[0, 0, 0, 0, 0, 4, 0, 0, 0, 0, 2000]\n",
      "[0, 0, 0, 0, 4, 0, 0, 0, 0, 0, 2000]\n",
      "[0, 0, 0, 0, 0, 0, 0, 0, 0, 0, 2000]\n"
     ]
    },
    {
     "name": "stderr",
     "output_type": "stream",
     "text": [
      " 11%|█         | 236/2125 [24:50<4:01:14,  7.66s/it]"
     ]
    },
    {
     "name": "stdout",
     "output_type": "stream",
     "text": [
      "[0, 0, 0, 0, 0, 0, 0, 0, 0, 0, 2000]\n",
      "[0, 0, 0, 0, 0, 0, 0, 0, 0, 0, 2000]\n",
      "[0, 0, 0, 0, 0, 0, 0, 0, 0, 0, 2000]\n",
      "[4, 0, 0, 0, 0, 0, 0, 0, 0, 0, 2000]\n",
      "[0, 0, 0, 0, 0, 0, 0, 0, 0, 0, 2000]\n"
     ]
    },
    {
     "name": "stderr",
     "output_type": "stream",
     "text": [
      "\r",
      " 11%|█         | 237/2125 [24:57<3:55:30,  7.48s/it]"
     ]
    },
    {
     "name": "stdout",
     "output_type": "stream",
     "text": [
      "[0, 0, 0, 0, 0, 0, 0, 0, 0, 4, 2000]\n"
     ]
    },
    {
     "name": "stderr",
     "output_type": "stream",
     "text": [
      "\r",
      " 11%|█         | 238/2125 [25:05<3:58:16,  7.58s/it]"
     ]
    },
    {
     "name": "stdout",
     "output_type": "stream",
     "text": [
      "[0, 0, 0, 0, 0, 0, 0, 0, 0, 0, 2000]\n",
      "[0, 4, 0, 4, 4, 4, 0, 4, 4, 4, 2000]\n"
     ]
    },
    {
     "name": "stderr",
     "output_type": "stream",
     "text": [
      " 11%|█▏        | 244/2125 [25:42<3:15:24,  6.23s/it]"
     ]
    },
    {
     "name": "stdout",
     "output_type": "stream",
     "text": [
      "[0, 0, 0, 0, 0, 0, 0, 0, 0, 0, 2000]\n"
     ]
    },
    {
     "name": "stderr",
     "output_type": "stream",
     "text": [
      "\r",
      " 12%|█▏        | 245/2125 [25:50<3:26:29,  6.59s/it]"
     ]
    },
    {
     "name": "stdout",
     "output_type": "stream",
     "text": [
      "[0, 0, 0, 0, 0, 0, 0, 0, 0, 0, 2000]\n",
      "[0, 0, 0, 0, 0, 0, 0, 0, 4, 0, 2000]\n",
      "[0, 0, 0, 0, 0, 0, 0, 0, 0, 0, 2000]\n"
     ]
    },
    {
     "name": "stderr",
     "output_type": "stream",
     "text": [
      "\r",
      " 12%|█▏        | 246/2125 [25:55<3:16:29,  6.27s/it]"
     ]
    },
    {
     "name": "stdout",
     "output_type": "stream",
     "text": [
      "[0, 0, 0, 4, 0, 0, 0, 0, 0, 4, 2000]\n"
     ]
    },
    {
     "name": "stderr",
     "output_type": "stream",
     "text": [
      "\r",
      " 12%|█▏        | 247/2125 [26:03<3:31:27,  6.76s/it]"
     ]
    },
    {
     "name": "stdout",
     "output_type": "stream",
     "text": [
      "[4, 0, 0, 0, 0, 0, 0, 0, 0, 0, 2000]\n",
      "[0, 0, 0, 0, 0, 0, 0, 0, 0, 0, 2000]\n",
      "[0, 0, 0, 0, 0, 0, 0, 0, 0, 0, 2000]\n"
     ]
    },
    {
     "name": "stderr",
     "output_type": "stream",
     "text": [
      " 12%|█▏        | 251/2125 [26:37<4:10:18,  8.01s/it]"
     ]
    },
    {
     "name": "stdout",
     "output_type": "stream",
     "text": [
      "[0, 0, 0, 0, 0, 0, 0, 0, 0, 0, 2000]\n"
     ]
    },
    {
     "name": "stderr",
     "output_type": "stream",
     "text": [
      " 12%|█▏        | 253/2125 [26:49<3:33:39,  6.85s/it]"
     ]
    },
    {
     "name": "stdout",
     "output_type": "stream",
     "text": [
      "[0, 0, 0, 0, 0, 0, 0, 0, 0, 0, 2000]\n",
      "[0, 0, 0, 0, 0, 0, 0, 0, 0, 0, 2000]\n",
      "[0, 0, 0, 0, 0, 0, 0, 0, 0, 0, 2000]\n",
      "[0, 0, 0, 0, 0, 0, 0, 4, 0, 0, 2000]\n",
      "[0, 0, 0, 0, 0, 0, 0, 0, 0, 0, 2000]\n"
     ]
    },
    {
     "name": "stderr",
     "output_type": "stream",
     "text": [
      "\r",
      " 12%|█▏        | 254/2125 [26:56<3:39:43,  7.05s/it]"
     ]
    },
    {
     "name": "stdout",
     "output_type": "stream",
     "text": [
      "[0, 0, 0, 0, 0, 0, 0, 0, 0, 0, 2000]\n",
      "[4, 0, 0, 4, 0, 0, 0, 4, 0, 0, 2000]\n",
      "[0, 4, 0, 4, 4, 0, 4, 4, 0, 0, 2000]\n",
      "[0, 4, 4, 4, 4, 4, 0, 0, 4, 4, 2000]\n",
      "[0, 0, 0, 0, 0, 0, 0, 0, 0, 0, 2000]\n",
      "[0, 0, 0, 4, 0, 0, 0, 0, 0, 0, 2000]\n"
     ]
    },
    {
     "name": "stderr",
     "output_type": "stream",
     "text": [
      "\r",
      " 12%|█▏        | 255/2125 [27:02<3:25:49,  6.60s/it]"
     ]
    }
   ],
   "source": [
    "collected1 = collect_data_txt()"
   ]
  },
  {
   "cell_type": "code",
   "execution_count": 15,
   "id": "c15c86b0",
   "metadata": {},
   "outputs": [],
   "source": [
    "import ast\n",
    "from collections import Counter\n",
    "import math\n",
    "from tqdm import tqdm\n",
    "\n",
    "def modify_dict(input_dict):\n",
    "    def truncate_list(value_list, target_length):\n",
    "        # Convert strings to tuples of numeric values\n",
    "        numeric_tuples = [tuple(ast.literal_eval(s)) for s in value_list]\n",
    "        \n",
    "        # Count occurrences of each unique tuple\n",
    "        counter = Counter(numeric_tuples)\n",
    "        \n",
    "        # Calculate the total count\n",
    "        total_count = sum(counter.values())\n",
    "        \n",
    "        # Calculate the scaling factor to reduce to target length\n",
    "        scaling_factor = target_length / total_count\n",
    "        \n",
    "        # Create a new list with scaled occurrences\n",
    "        new_list = []\n",
    "        for item, count in counter.items():\n",
    "            # Calculate the new count, ensuring at least 1 occurrence\n",
    "            new_count = max(1, math.floor(count * scaling_factor))\n",
    "            new_list.extend([item] * new_count)\n",
    "        \n",
    "        # Trim the list to exactly target length\n",
    "        if len(new_list) > target_length:\n",
    "            new_list = new_list[:target_length]\n",
    "        \n",
    "        # Convert items back to strings\n",
    "        return [str(list(item)) for item in new_list]\n",
    "\n",
    "    for key, value_list in tqdm(input_dict.items()):\n",
    "        # Separate lists based on 10th element\n",
    "        list_with_0 = [item for item in value_list if ast.literal_eval(item)[-3] == 0]\n",
    "        list_with_4 = [item for item in value_list if ast.literal_eval(item)[-3] == 4]\n",
    "        #print(len(list_with_0), len(list_with_4))\n",
    "        \n",
    "        # Truncate if necessary\n",
    "        if len(list_with_0) > 99:\n",
    "            list_with_0 = truncate_list(list_with_0, 99)\n",
    "            #print(list_with_0)\n",
    "        if len(list_with_4) > 99:\n",
    "            list_with_4 = truncate_list(list_with_4, 99)\n",
    "        \n",
    "        # Merge the lists\n",
    "        merged_list = list_with_0 + list_with_4\n",
    "       # print(len(merged_list))\n",
    "\n",
    "        \n",
    "        # Update the dictionary\n",
    "        input_dict[key] = merged_list\n",
    "\n",
    "    return input_dict\n"
   ]
  },
  {
   "cell_type": "code",
   "execution_count": 27,
   "id": "fdc4d9af",
   "metadata": {
    "scrolled": true
   },
   "outputs": [
    {
     "name": "stderr",
     "output_type": "stream",
     "text": [
      "100%|█████████████████████████████████| 220013/220013 [00:26<00:00, 8451.41it/s]\n"
     ]
    }
   ],
   "source": [
    "col8_upd = modify_dict(collected[8])"
   ]
  },
  {
   "cell_type": "code",
   "execution_count": 65,
   "id": "ca6f1454",
   "metadata": {},
   "outputs": [
    {
     "name": "stderr",
     "output_type": "stream",
     "text": [
      "100%|██████████| 223902/223902 [04:46<00:00, 780.25it/s]  \n"
     ]
    }
   ],
   "source": [
    "col18_upd = modify_dict(collected1[8])"
   ]
  },
  {
   "cell_type": "code",
   "execution_count": 28,
   "id": "5d700f26",
   "metadata": {
    "scrolled": true
   },
   "outputs": [
    {
     "name": "stderr",
     "output_type": "stream",
     "text": [
      "100%|████████████████████████████████| 276042/276042 [00:21<00:00, 12847.96it/s]\n"
     ]
    }
   ],
   "source": [
    "col9_upd = modify_dict(collected[9])"
   ]
  },
  {
   "cell_type": "code",
   "execution_count": 66,
   "id": "1f10951b",
   "metadata": {},
   "outputs": [
    {
     "name": "stderr",
     "output_type": "stream",
     "text": [
      "100%|██████████| 406720/406720 [04:42<00:00, 1438.30it/s] \n"
     ]
    }
   ],
   "source": [
    "col19_upd = modify_dict(collected1[9])"
   ]
  },
  {
   "cell_type": "code",
   "execution_count": 18,
   "id": "f8c94706",
   "metadata": {},
   "outputs": [],
   "source": [
    "def save_dict(dictionary, filename):\n",
    "    with open(filename, 'w') as f:\n",
    "        json.dump(dictionary, f)"
   ]
  },
  {
   "cell_type": "code",
   "execution_count": 29,
   "id": "b85aec5f",
   "metadata": {},
   "outputs": [],
   "source": [
    "save_dict(col8_upd, \"9bwlqg_observations_txt.json\")"
   ]
  },
  {
   "cell_type": "code",
   "execution_count": 30,
   "id": "03cd6cd1",
   "metadata": {},
   "outputs": [],
   "source": [
    "save_dict(col9_upd, \"10bwlqg_observations_txt.json\")"
   ]
  },
  {
   "cell_type": "code",
   "execution_count": 175,
   "id": "37bed477",
   "metadata": {},
   "outputs": [],
   "source": [
    "save_dict(col8_upd, \"9bwpid_observations_txt.json\")"
   ]
  },
  {
   "cell_type": "code",
   "execution_count": 176,
   "id": "c0cb9337",
   "metadata": {},
   "outputs": [],
   "source": [
    "save_dict(col9_upd, \"10bwpid_observations_txt.json\")"
   ]
  }
 ],
 "metadata": {
  "kernelspec": {
   "display_name": "Python 3 (ipykernel)",
   "language": "python",
   "name": "python3"
  },
  "language_info": {
   "codemirror_mode": {
    "name": "ipython",
    "version": 3
   },
   "file_extension": ".py",
   "mimetype": "text/x-python",
   "name": "python",
   "nbconvert_exporter": "python",
   "pygments_lexer": "ipython3",
   "version": "3.8.10"
  }
 },
 "nbformat": 4,
 "nbformat_minor": 5
}
