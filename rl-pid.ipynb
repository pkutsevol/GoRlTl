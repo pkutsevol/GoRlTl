{
 "cells": [
  {
   "cell_type": "code",
   "execution_count": 3,
   "id": "9a58d46c",
   "metadata": {},
   "outputs": [],
   "source": [
    "import gymnasium as gym\n",
    "import math\n",
    "import random\n",
    "import matplotlib\n",
    "import matplotlib.pyplot as plt\n",
    "from collections import namedtuple, deque\n",
    "from itertools import count\n",
    "import import_ipynb\n",
    "\n",
    "\n",
    "import torch\n",
    "import torch.nn as nn\n",
    "import torch.optim as optim\n",
    "import torch.nn.functional as F\n",
    "\n",
    "import numpy as np"
   ]
  },
  {
   "cell_type": "code",
   "execution_count": 2,
   "id": "348ed038",
   "metadata": {},
   "outputs": [
    {
     "data": {
      "text/plain": [
       "0"
      ]
     },
     "execution_count": 2,
     "metadata": {},
     "output_type": "execute_result"
    }
   ],
   "source": [
    "import gc\n",
    "torch.cuda.empty_cache()\n",
    "gc.collect()"
   ]
  },
  {
   "cell_type": "code",
   "execution_count": 3,
   "id": "10da0db6",
   "metadata": {},
   "outputs": [],
   "source": [
    "import gym_examples"
   ]
  },
  {
   "cell_type": "code",
   "execution_count": 4,
   "id": "64ca2529",
   "metadata": {},
   "outputs": [],
   "source": [
    "from gymnasium.wrappers import FlattenObservation, NormalizeObservation"
   ]
  },
  {
   "cell_type": "code",
   "execution_count": 5,
   "id": "7028dec1",
   "metadata": {},
   "outputs": [],
   "source": [
    "from gymnasium.spaces.utils import unflatten\n"
   ]
  },
  {
   "cell_type": "code",
   "execution_count": 6,
   "id": "32ca535e",
   "metadata": {},
   "outputs": [],
   "source": [
    "import gymnasium as gym\n",
    "import numpy as np\n",
    "\n",
    "\n",
    "class NormalizeFloatObservation(gym.Wrapper):\n",
    "    def __init__(self, env, binary_indices, float_indices, epsilon=1e-8):\n",
    "        \"\"\"\n",
    "        A custom Gymnasium wrapper to normalize only float values in the observation space.\n",
    "\n",
    "        Args:\n",
    "            env (gym.Env): The environment to wrap.\n",
    "            binary_indices (list): Indices of binary features in the observation.\n",
    "            float_indices (list): Indices of float features in the observation.\n",
    "            epsilon (float): A small value to prevent division by zero during normalization.\n",
    "        \"\"\"\n",
    "        super().__init__(env)\n",
    "        self.binary_indices = binary_indices\n",
    "        self.float_indices = float_indices\n",
    "        self.epsilon = epsilon\n",
    "\n",
    "        # Initialize normalization statistics for float values\n",
    "        self.float_mean = np.array([5.0, 0.0])#np.zeros(len(float_indices))\n",
    "        self.float_std =np.array([10, 4000])# np.ones(len(float_indices))\n",
    "\n",
    "    def reset(self, **kwargs):\n",
    "        \"\"\"\n",
    "        Resets the environment and normalizes the observation.\n",
    "\n",
    "        Returns:\n",
    "            np.ndarray: The normalized observation.\n",
    "            dict: Additional information from the environment reset.\n",
    "        \"\"\"\n",
    "        obs, info = self.env.reset(**kwargs)\n",
    "        return self._normalize(obs), info\n",
    "\n",
    "    def step(self, action):\n",
    "        \"\"\"\n",
    "        Steps through the environment and normalizes the observation.\n",
    "\n",
    "        Args:\n",
    "            action: The action to take in the environment.\n",
    "\n",
    "        Returns:\n",
    "            tuple: Normalized observation, reward, termination flag, truncation flag, and additional info.\n",
    "        \"\"\"\n",
    "        obs, reward, terminated, truncated, info = self.env.step(action)\n",
    "        return self._normalize(obs), reward, terminated, truncated, info\n",
    "\n",
    "    def _normalize(self, obs):\n",
    "        \"\"\"\n",
    "        Normalizes only the float values in the observation.\n",
    "\n",
    "        Args:\n",
    "            obs (np.ndarray): The raw observation.\n",
    "\n",
    "        Returns:\n",
    "            np.ndarray: The normalized observation.\n",
    "        \"\"\"\n",
    "        normalized_obs = obs.copy()\n",
    "\n",
    "        # Normalize float values using mean and std\n",
    "        normalized_obs[self.float_indices] = (\n",
    "            (obs[self.float_indices] - self.float_mean) /\n",
    "            (self.float_std + self.epsilon)\n",
    "        )\n",
    "\n",
    "        # Binary values remain unchanged\n",
    "        return normalized_obs\n",
    "\n",
    "    def update_statistics(self, observations):\n",
    "        \"\"\"\n",
    "        Updates normalization statistics (mean and std) based on a batch of observations.\n",
    "\n",
    "        Args:\n",
    "            observations (np.ndarray): A batch of observations to calculate statistics from.\n",
    "                                        Assumes shape (batch_size, num_features).\n",
    "        \"\"\"\n",
    "        # Extract only float values from batch observations\n",
    "        float_values = observations[:, self.float_indices]\n",
    "\n",
    "        # Update mean and standard deviation for float features\n",
    "        self.float_mean = np.mean(float_values, axis=0)\n",
    "        self.float_std = np.std(float_values, axis=0)\n",
    "\n",
    "    def unnormalize(self, normalized_obs):\n",
    "        \"\"\"\n",
    "        Unnormalizes previously normalized float values.\n",
    "\n",
    "        Args:\n",
    "            normalized_obs (np.ndarray): The normalized observation.\n",
    "\n",
    "        Returns:\n",
    "            np.ndarray: The unnormalized observation.\n",
    "        \"\"\"\n",
    "        unnormalized_obs = normalized_obs.copy()\n",
    "\n",
    "        # Reverse normalization for float values\n",
    "        unnormalized_obs[self.float_indices] = (\n",
    "            normalized_obs[self.float_indices] * (self.float_std + self.epsilon) +\n",
    "            self.float_mean\n",
    "        )\n",
    "\n",
    "        return unnormalized_obs\n",
    "\n",
    "    def reset_normalization(self):\n",
    "        \"\"\"\n",
    "        Resets normalization statistics (mean and std).\n",
    "        \"\"\"\n",
    "        self.float_mean = np.zeros(len(self.float_indices))\n",
    "        self.float_std = np.ones(len(self.float_indices))\n",
    "\n"
   ]
  },
  {
   "cell_type": "code",
   "execution_count": 7,
   "id": "125a2d50",
   "metadata": {},
   "outputs": [
    {
     "name": "stderr",
     "output_type": "stream",
     "text": [
      "100%|██████████| 2/2 [00:00<00:00,  2.34it/s]\n"
     ]
    }
   ],
   "source": [
    "env = gym.make('gym_examples/TraceControlEnv-v0', delay=2)"
   ]
  },
  {
   "cell_type": "code",
   "execution_count": 8,
   "id": "333640a7",
   "metadata": {},
   "outputs": [
    {
     "name": "stderr",
     "output_type": "stream",
     "text": [
      "100%|██████████| 2/2 [00:00<00:00,  2.13it/s]\n"
     ]
    }
   ],
   "source": [
    "env_orig = gym.make('gym_examples/TraceControlEnv-v0', delay=2)"
   ]
  },
  {
   "cell_type": "code",
   "execution_count": 9,
   "id": "2cdaff59",
   "metadata": {},
   "outputs": [],
   "source": [
    "env = FlattenObservation(env)\n",
    "env = NormalizeFloatObservation(env, [x for x in range(50)], [50, 51])\n",
    "\n"
   ]
  },
  {
   "cell_type": "code",
   "execution_count": 10,
   "id": "30ffbf8c",
   "metadata": {},
   "outputs": [
    {
     "data": {
      "text/plain": [
       "<matplotlib.pyplot._IonContext at 0x7fbba01b5a30>"
      ]
     },
     "execution_count": 10,
     "metadata": {},
     "output_type": "execute_result"
    }
   ],
   "source": [
    "is_ipython = 'inline' in matplotlib.get_backend()\n",
    "if is_ipython:\n",
    "    from IPython import display\n",
    "\n",
    "plt.ion()"
   ]
  },
  {
   "cell_type": "code",
   "execution_count": 11,
   "id": "feb201b4",
   "metadata": {},
   "outputs": [],
   "source": [
    "Transition = namedtuple('Transition',\n",
    "                        ('state', 'action', 'next_state', 'reward'))\n",
    "\n",
    "\n",
    "class ReplayMemory(object):\n",
    "\n",
    "    def __init__(self, capacity):\n",
    "        self.memory = deque([], maxlen=capacity)\n",
    "\n",
    "    def push(self, *args):\n",
    "        \"\"\"Save a transition\"\"\"\n",
    "        self.memory.append(Transition(*args))\n",
    "\n",
    "    def sample(self, batch_size):\n",
    "        return random.sample(self.memory, batch_size)\n",
    "\n",
    "    def __len__(self):\n",
    "        return len(self.memory)"
   ]
  },
  {
   "cell_type": "code",
   "execution_count": 12,
   "id": "23d29b61",
   "metadata": {},
   "outputs": [],
   "source": [
    "\n",
    "class DQN(nn.Module):\n",
    "    def __init__(self, n_observations, n_actions):\n",
    "        super(DQN, self).__init__()\n",
    "        self.layer1 = nn.Linear(n_observations, 512)\n",
    "        self.ln1 = nn.LayerNorm(512)  # Layer Normalization after layer 1\n",
    "        self.layer2 = nn.Linear(512, 512)\n",
    "        self.ln2 = nn.LayerNorm(512)  # Layer Normalization after layer 2\n",
    "        self.layer3 = nn.Linear(512, n_actions)\n",
    "\n",
    "    def forward(self, x):\n",
    "        x = F.relu(self.layer1(x))\n",
    "        x = self.ln1(x)  # Apply Layer Norm after activation of layer 1\n",
    "        x = F.relu(self.layer2(x))\n",
    "        x = self.ln2(x)  # Apply Layer Norm after activation of layer 2\n",
    "        return self.layer3(x)"
   ]
  },
  {
   "cell_type": "code",
   "execution_count": 13,
   "id": "2650c007",
   "metadata": {},
   "outputs": [],
   "source": [
    "device = torch.device(\n",
    "    \"cuda\" if torch.cuda.is_available() else\n",
    "    \"mps\" if torch.backends.mps.is_available() else\n",
    "    \"cpu\"\n",
    ")"
   ]
  },
  {
   "cell_type": "code",
   "execution_count": 14,
   "id": "663b0940",
   "metadata": {},
   "outputs": [
    {
     "name": "stderr",
     "output_type": "stream",
     "text": [
      "/home/polina/.local/lib/python3.8/site-packages/gymnasium/utils/passive_env_checker.py:131: UserWarning: \u001b[33mWARN: The obs returned by the `reset()` method was expecting a numpy array, actual type: <class 'float'>\u001b[0m\n",
      "  logger.warn(\n",
      "/home/polina/.local/lib/python3.8/site-packages/gymnasium/spaces/box.py:240: UserWarning: \u001b[33mWARN: Casting input x to numpy array.\u001b[0m\n",
      "  gym.logger.warn(\"Casting input x to numpy array.\")\n",
      "/home/polina/.local/lib/python3.8/site-packages/gymnasium/utils/passive_env_checker.py:159: UserWarning: \u001b[33mWARN: The obs returned by the `reset()` method is not within the observation space.\u001b[0m\n",
      "  logger.warn(f\"{pre} is not within the observation space.\")\n"
     ]
    },
    {
     "name": "stdout",
     "output_type": "stream",
     "text": [
      "obs after reset  {'val': -8.0, 'bw': 4.0, 'acc_history': array([0, 0, 0, 0, 0, 0, 0, 1, 0, 0])}\n"
     ]
    }
   ],
   "source": [
    "# BATCH_SIZE is the number of transitions sampled from the replay buffer\n",
    "# GAMMA is the discount factor as mentioned in the previous section\n",
    "# EPS_START is the starting value of epsilon\n",
    "# EPS_END is the final value of epsilon\n",
    "# EPS_DECAY controls the rate of exponential decay of epsilon, higher means a slower decay\n",
    "# TAU is the update rate of the target network\n",
    "# LR is the learning rate of the ``AdamW`` optimizer\n",
    "BATCH_SIZE = 128\n",
    "GAMMA = 0.5#0.4\n",
    "EPS_START = 0.9\n",
    "EPS_END = 0.05\n",
    "EPS_DECAY = 5000\n",
    "TAU = 0.001\n",
    "LR = 1e-2\n",
    "\n",
    "# Get number of actions from gym action space\n",
    "n_actions = env.action_space.n\n",
    "# Get the number of state observations\n",
    "state, info = env.reset()\n",
    "n_observations = len(state)\n",
    "\n",
    "policy_net = DQN(n_observations, n_actions).to(device)\n",
    "target_net = DQN(n_observations, n_actions).to(device)\n",
    "target_net.load_state_dict(policy_net.state_dict())\n",
    "\n",
    "optimizer = optim.AdamW(policy_net.parameters(), lr=LR, amsgrad=True)\n",
    "memory = ReplayMemory(100000)\n",
    "\n",
    "\n",
    "steps_done = 0\n",
    "\n",
    "\n",
    "def select_action(state):\n",
    "    global steps_done\n",
    "    sample = random.random()\n",
    "    eps_threshold = EPS_END + (EPS_START - EPS_END) * \\\n",
    "        math.exp(-1. * steps_done / EPS_DECAY)\n",
    "    steps_done += 1\n",
    "    #print(eps_threshold)\n",
    "    if sample > eps_threshold:\n",
    "        with torch.no_grad():\n",
    "            # t.max(1) will return the largest column value of each row.\n",
    "            # second column on max result is index of where max element was\n",
    "            # found, so we pick action with the larger expected reward.\n",
    "            \n",
    "            denormalized_obs = env.unnormalize(state.cpu().squeeze(0).numpy())\n",
    "            unflattened_obs = unflatten(env_orig.observation_space, denormalized_obs)\n",
    "           # print(unflattened_obs, policy_net(state),  policy_net(state).max(1).indices.view(1, 1))\n",
    "            return policy_net(state).max(1).indices.view(1, 1)\n",
    "    else:\n",
    "        print('r')\n",
    "        return torch.tensor([[env.action_space.sample()]], device=device, dtype=torch.long)\n",
    "\n",
    "\n",
    "episode_aois = []\n",
    "\n",
    "\n",
    "def plot_aois(show_result=False):\n",
    "  #  plt.figure(1)\n",
    "    aois_t = torch.tensor(episode_aois, dtype=torch.float)\n",
    "    if show_result:\n",
    "        plt.title('Result')\n",
    "    else:\n",
    "        plt.clf()\n",
    "        plt.title('Training...')\n",
    "    plt.xlabel('Episode')\n",
    "    plt.ylabel('AoI')\n",
    "    plt.plot(aois_t.numpy())\n",
    "    # Take 100 episode averages and plot them too\n",
    "    if len(aois_t) >= 100:\n",
    "        means = aois_t.unfold(0, 100, 1).mean(1).view(-1)\n",
    "        means = torch.cat((torch.zeros(99), means))\n",
    "        plt.plot(means.numpy())\n",
    "    plt.show()\n",
    "\n",
    "    #plt.pause(0.001)  # pause a bit so that plots are updated\n",
    "    #if is_ipython:\n",
    "   #     if not show_result:\n",
    "     #       display.display(plt.gcf())\n",
    "     #       display.clear_output(wait=True)\n",
    "     #   else:\n",
    "    #        display.display(plt.gcf())\n",
    "    \n",
    "episode_vals = []\n",
    "episode_durations = []\n",
    "\n",
    "def plot_vals(show_result=False):\n",
    "  #  plt.figure(1)\n",
    "    vals_t = torch.tensor(episode_vals, dtype=torch.float)\n",
    "    if show_result:\n",
    "        plt.title('Result')\n",
    "    else:\n",
    "       # plt.clf()\n",
    "        plt.title('Training...')\n",
    "    plt.xlabel('Episode')\n",
    "    plt.ylabel('Value')\n",
    "    display.clear_output(wait=True)\n",
    "    plt.plot(-vals_t.numpy())\n",
    "    plt.yscale('log')\n",
    "    #plt.plot(vals_t.numpy())\n",
    "    # Take 100 episode averages and plot them too\n",
    "    if len(vals_t) >= 10:\n",
    "        means = vals_t.unfold(0, 10, 1).mean(1).view(-1)\n",
    "        means = torch.cat((torch.zeros(9), means))\n",
    "        plt.plot(-means.numpy())\n",
    "    #plt.show()\n",
    "   # plt.pause(0.001)  # pause a bit so that plots are updated\n",
    "    if is_ipython:\n",
    "        if not show_result:\n",
    "            display.display(plt.gcf())\n",
    "          #  display.clear_output(wait=True)\n",
    "        else:\n",
    "            display.display(plt.gcf())\n",
    "            \n",
    "def plot_durations(show_result=False):\n",
    "  #  plt.figure(1)\n",
    "    durations_t = torch.tensor(episode_durations, dtype=torch.float)\n",
    "    if show_result:\n",
    "        plt.title('Result')\n",
    "    else:\n",
    "        #plt.clf()\n",
    "        plt.title('Training...')\n",
    "    plt.xlabel('Episode')\n",
    "    plt.ylabel('Value')\n",
    "    display.clear_output(wait=True)\n",
    "    plt.plot(durations_t.numpy())\n",
    "    # Take 100 episode averages and plot them too\n",
    "    if len(durations_t) >= 100:\n",
    "        means = durations_t.unfold(0, 100, 1).mean(1).view(-1)\n",
    "        means = torch.cat((torch.zeros(99), means))\n",
    "        plt.plot(means.numpy())\n",
    "    #plt.show()\n",
    "\n",
    "   # plt.pause(0.001)  # pause a bit so that plots are updated\n",
    "    if is_ipython:\n",
    "        if not show_result:\n",
    "            display.display(plt.gcf())\n",
    "          #  display.clear_output(wait=True)\n",
    "        else:\n",
    "            display.display(plt.gcf())"
   ]
  },
  {
   "cell_type": "code",
   "execution_count": 15,
   "id": "b8cb0c16",
   "metadata": {},
   "outputs": [],
   "source": [
    "def optimize_model():\n",
    "    if len(memory) < BATCH_SIZE:\n",
    "        return\n",
    "    transitions = memory.sample(BATCH_SIZE)\n",
    "    # Transpose the batch (see https://stackoverflow.com/a/19343/3343043 for\n",
    "    # detailed explanation). This converts batch-array of Transitions\n",
    "    # to Transition of batch-arrays.\n",
    "    batch = Transition(*zip(*transitions))\n",
    "\n",
    "    # Compute a mask of non-final states and concatenate the batch elements\n",
    "    # (a final state would've been the one after which simulation ended)\n",
    "    non_final_mask = torch.tensor(tuple(map(lambda s: s is not None,\n",
    "                                          batch.next_state)), device=device, dtype=torch.bool)\n",
    "    non_final_next_states = torch.cat([s for s in batch.next_state\n",
    "                                                if s is not None])\n",
    "    state_batch = torch.cat(batch.state)\n",
    "    action_batch = torch.cat(batch.action)\n",
    "    reward_batch = torch.cat(batch.reward)\n",
    "\n",
    "    # Compute Q(s_t, a) - the model computes Q(s_t), then we select the\n",
    "    # columns of actions taken. These are the actions which would've been taken\n",
    "    # for each batch state according to policy_net\n",
    "    state_action_values = policy_net(state_batch).gather(1, action_batch)\n",
    "\n",
    "    # Compute V(s_{t+1}) for all next states.\n",
    "    # Expected values of actions for non_final_next_states are computed based\n",
    "    # on the \"older\" target_net; selecting their best reward with max(1).values\n",
    "    # This is merged based on the mask, such that we'll have either the expected\n",
    "    # state value or 0 in case the state was final.\n",
    "    next_state_values = torch.zeros(BATCH_SIZE, device=device)\n",
    "    with torch.no_grad():\n",
    "        next_state_values[non_final_mask] = target_net(non_final_next_states).max(1).values\n",
    "    # Compute the expected Q values\n",
    "    expected_state_action_values = (next_state_values * GAMMA) + reward_batch\n",
    "   # print(np.mean(expected_state_action_values.cpu().numpy()))\n",
    "    # Compute Huber loss\n",
    "    criterion = nn.SmoothL1Loss()\n",
    "    loss = criterion(state_action_values, expected_state_action_values.unsqueeze(1))\n",
    "\n",
    "    # Optimize the model\n",
    "    optimizer.zero_grad()\n",
    "    loss.backward()\n",
    "    # In-place gradient clipping\n",
    "    torch.nn.utils.clip_grad_value_(policy_net.parameters(), 100)\n",
    "    optimizer.step()\n",
    "    return np.mean(expected_state_action_values.detach().cpu().numpy())"
   ]
  },
  {
   "cell_type": "code",
   "execution_count": 17,
   "id": "e6e6f847",
   "metadata": {},
   "outputs": [
    {
     "name": "stderr",
     "output_type": "stream",
     "text": [
      "/home/polina/.local/lib/python3.8/site-packages/gymnasium/core.py:311: UserWarning: \u001b[33mWARN: env.set_cost to get variables from other wrappers is deprecated and will be removed in v1.0, to get this variable you can do `env.unwrapped.set_cost` for environment variables or `env.get_wrapper_attr('set_cost')` that will search the reminding wrappers.\u001b[0m\n",
      "  logger.warn(\n"
     ]
    }
   ],
   "source": [
    "env.set_cost(2)#2"
   ]
  },
  {
   "cell_type": "code",
   "execution_count": 18,
   "id": "5ea27d53",
   "metadata": {},
   "outputs": [
    {
     "name": "stderr",
     "output_type": "stream",
     "text": [
      "/home/polina/.local/lib/python3.8/site-packages/gymnasium/core.py:311: UserWarning: \u001b[33mWARN: env.set_cost2 to get variables from other wrappers is deprecated and will be removed in v1.0, to get this variable you can do `env.unwrapped.set_cost2` for environment variables or `env.get_wrapper_attr('set_cost2')` that will search the reminding wrappers.\u001b[0m\n",
      "  logger.warn(\n"
     ]
    }
   ],
   "source": [
    "env.set_cost2(10)#10"
   ]
  },
  {
   "cell_type": "code",
   "execution_count": 19,
   "id": "738e2c7b",
   "metadata": {},
   "outputs": [
    {
     "name": "stderr",
     "output_type": "stream",
     "text": [
      "/home/polina/.local/lib/python3.8/site-packages/gymnasium/core.py:311: UserWarning: \u001b[33mWARN: env.set_cost3 to get variables from other wrappers is deprecated and will be removed in v1.0, to get this variable you can do `env.unwrapped.set_cost3` for environment variables or `env.get_wrapper_attr('set_cost3')` that will search the reminding wrappers.\u001b[0m\n",
      "  logger.warn(\n"
     ]
    }
   ],
   "source": [
    "env.set_cost3(0)"
   ]
  },
  {
   "cell_type": "code",
   "execution_count": 20,
   "id": "e98c6e72",
   "metadata": {},
   "outputs": [
    {
     "name": "stderr",
     "output_type": "stream",
     "text": [
      "/home/polina/.local/lib/python3.8/site-packages/gymnasium/core.py:311: UserWarning: \u001b[33mWARN: env.set_cost4 to get variables from other wrappers is deprecated and will be removed in v1.0, to get this variable you can do `env.unwrapped.set_cost4` for environment variables or `env.get_wrapper_attr('set_cost4')` that will search the reminding wrappers.\u001b[0m\n",
      "  logger.warn(\n"
     ]
    }
   ],
   "source": [
    "env.set_cost4(0)#10"
   ]
  },
  {
   "cell_type": "code",
   "execution_count": 21,
   "id": "8932a3f8",
   "metadata": {},
   "outputs": [],
   "source": [
    "q_vals_means = []\n"
   ]
  },
  {
   "cell_type": "code",
   "execution_count": 22,
   "id": "4bf2a63c",
   "metadata": {},
   "outputs": [],
   "source": [
    "GAMMA = 0.5#0.4\n"
   ]
  },
  {
   "cell_type": "code",
   "execution_count": 1,
   "id": "152cf27a",
   "metadata": {
    "scrolled": true
   },
   "outputs": [
    {
     "ename": "NameError",
     "evalue": "name 'torch' is not defined",
     "output_type": "error",
     "traceback": [
      "\u001b[0;31m---------------------------------------------------------------------------\u001b[0m",
      "\u001b[0;31mNameError\u001b[0m                                 Traceback (most recent call last)",
      "Input \u001b[0;32mIn [1]\u001b[0m, in \u001b[0;36m<cell line: 1>\u001b[0;34m()\u001b[0m\n\u001b[0;32m----> 1\u001b[0m \u001b[38;5;28;01mif\u001b[39;00m \u001b[43mtorch\u001b[49m\u001b[38;5;241m.\u001b[39mcuda\u001b[38;5;241m.\u001b[39mis_available() \u001b[38;5;129;01mor\u001b[39;00m torch\u001b[38;5;241m.\u001b[39mbackends\u001b[38;5;241m.\u001b[39mmps\u001b[38;5;241m.\u001b[39mis_available():\n\u001b[1;32m      2\u001b[0m     num_episodes \u001b[38;5;241m=\u001b[39m \u001b[38;5;241m30\u001b[39m\n\u001b[1;32m      3\u001b[0m \u001b[38;5;28;01melse\u001b[39;00m:\n",
      "\u001b[0;31mNameError\u001b[0m: name 'torch' is not defined"
     ]
    }
   ],
   "source": [
    "if torch.cuda.is_available() or torch.backends.mps.is_available():\n",
    "    num_episodes = 30\n",
    "else:\n",
    "    num_episodes = 50\n",
    "for i_episode in range(num_episodes):\n",
    "    # Initialize the environment and get its state\n",
    "    state, info = env.reset()\n",
    "    state = torch.tensor(state, dtype=torch.float32, device=device).unsqueeze(0)\n",
    "    reward_accum = 0\n",
    "    q_vals = []\n",
    "    for t in count():\n",
    "        action = select_action(state)\n",
    "       # print(action)\n",
    "        observation, reward, terminated, truncated, _ = env.step(action.item())\n",
    "        reward = torch.tensor([np.float32(reward)], device=device)\n",
    "        reward_accum += reward\n",
    "       \n",
    "        done = terminated or truncated\n",
    "        if t > 1000:\n",
    "            done = 1\n",
    "        if terminated:\n",
    "            next_state = None\n",
    "        else:\n",
    "            next_state = torch.tensor(observation, dtype=torch.float32, device=device).unsqueeze(0)\n",
    "        # Store the transition in memory\n",
    "        memory.push(state, action, next_state, reward)\n",
    "\n",
    "        # Move to the next state\n",
    "        state = next_state\n",
    "\n",
    "        # Perform one step of the optimization (on the policy network)\n",
    "        q_val = optimize_model()\n",
    "        q_vals.append(q_val)\n",
    "\n",
    "        # Soft update of the target network's weights\n",
    "        # θ′ ← τ θ + (1 −τ )θ′\n",
    "        target_net_state_dict = target_net.state_dict()\n",
    "        policy_net_state_dict = policy_net.state_dict()\n",
    "        for key in policy_net_state_dict:\n",
    "            target_net_state_dict[key] = policy_net_state_dict[key]*TAU + target_net_state_dict[key]*(1-TAU)\n",
    "        target_net.load_state_dict(target_net_state_dict)\n",
    "\n",
    "        if done:\n",
    "            q_vals_means.append(np.mean(q_vals))\n",
    "            #if np.abs(np.mean(q_vals)) < 1000:\n",
    "            #    break\n",
    "            plt.plot(q_vals_means)\n",
    "            plt.savefig('loss.png', dpi=300)\n",
    "            plt.show()\n",
    "            episode_vals.append(reward_accum/t)\n",
    "            #episode_aois.append(reward_accum / (t+1))\n",
    "            episode_durations.append(t + 1)\n",
    "           # print(observation)\n",
    "            #denormalized_obs = observation * np.sqrt(env.obs_rms.var + 1e-8)  + env.obs_rms.mean\n",
    "            #print(denormalized_obs, denormalized_obs.shape, env_orig.observation_space.shape)\n",
    "            print(observation)\n",
    "            denormalized_obs = env.unnormalize(observation)\n",
    "            print(denormalized_obs)\n",
    "            unflattened_obs = unflatten(env_orig.observation_space, denormalized_obs)\n",
    "            print(unflattened_obs)\n",
    "            #print(unflatten(env_orig.observation_space, observation))\n",
    "            #plot_aois()\n",
    "           # plot_vals()\n",
    "            print('tot duration ', t)\n",
    "            print('tot val ', reward_accum)\n",
    "            break\n",
    "\n",
    "print('Complete')\n",
    "#plot_vals(show_result=True)\n"
   ]
  },
  {
   "cell_type": "code",
   "execution_count": null,
   "id": "696a04cb",
   "metadata": {},
   "outputs": [],
   "source": [
    "torch.save(target_net.state_dict(), 'trained_model_pid.pth')"
   ]
  }
 ],
 "metadata": {
  "kernelspec": {
   "display_name": "Python 3 (ipykernel)",
   "language": "python",
   "name": "python3"
  },
  "language_info": {
   "codemirror_mode": {
    "name": "ipython",
    "version": 3
   },
   "file_extension": ".py",
   "mimetype": "text/x-python",
   "name": "python",
   "nbconvert_exporter": "python",
   "pygments_lexer": "ipython3",
   "version": "3.8.10"
  }
 },
 "nbformat": 4,
 "nbformat_minor": 5
}
